{
 "cells": [
  {
   "cell_type": "code",
   "execution_count": 14,
   "id": "37b85899-fc89-43a8-9720-96b9655ec09c",
   "metadata": {},
   "outputs": [],
   "source": [
    "import numpy as np\n",
    "import pandas as pd\n",
    "import seaborn as sns \n",
    "import matplotlib.pyplot as plt"
   ]
  },
  {
   "cell_type": "markdown",
   "id": "ffa479d2-cef1-4b29-a367-664611e0c93a",
   "metadata": {},
   "source": [
    "### Prepare dataset"
   ]
  },
  {
   "cell_type": "code",
   "execution_count": 15,
   "id": "22ea3ae8-2ebe-4949-8e88-0f1799d15049",
   "metadata": {},
   "outputs": [],
   "source": [
    "df = pd.read_csv('laptops.csv')"
   ]
  },
  {
   "cell_type": "code",
   "execution_count": 16,
   "id": "53c949b5-3125-4ee2-8f48-1cf1d9262347",
   "metadata": {},
   "outputs": [
    {
     "data": {
      "text/html": [
       "<div>\n",
       "<style scoped>\n",
       "    .dataframe tbody tr th:only-of-type {\n",
       "        vertical-align: middle;\n",
       "    }\n",
       "\n",
       "    .dataframe tbody tr th {\n",
       "        vertical-align: top;\n",
       "    }\n",
       "\n",
       "    .dataframe thead th {\n",
       "        text-align: right;\n",
       "    }\n",
       "</style>\n",
       "<table border=\"1\" class=\"dataframe\">\n",
       "  <thead>\n",
       "    <tr style=\"text-align: right;\">\n",
       "      <th></th>\n",
       "      <th>Laptop</th>\n",
       "      <th>Status</th>\n",
       "      <th>Brand</th>\n",
       "      <th>Model</th>\n",
       "      <th>CPU</th>\n",
       "      <th>RAM</th>\n",
       "      <th>Storage</th>\n",
       "      <th>Storage type</th>\n",
       "      <th>GPU</th>\n",
       "      <th>Screen</th>\n",
       "      <th>Touch</th>\n",
       "      <th>Final Price</th>\n",
       "    </tr>\n",
       "  </thead>\n",
       "  <tbody>\n",
       "    <tr>\n",
       "      <th>0</th>\n",
       "      <td>ASUS ExpertBook B1 B1502CBA-EJ0436X Intel Core...</td>\n",
       "      <td>New</td>\n",
       "      <td>Asus</td>\n",
       "      <td>ExpertBook</td>\n",
       "      <td>Intel Core i5</td>\n",
       "      <td>8</td>\n",
       "      <td>512</td>\n",
       "      <td>SSD</td>\n",
       "      <td>NaN</td>\n",
       "      <td>15.6</td>\n",
       "      <td>No</td>\n",
       "      <td>1009.00</td>\n",
       "    </tr>\n",
       "    <tr>\n",
       "      <th>1</th>\n",
       "      <td>Alurin Go Start Intel Celeron N4020/8GB/256GB ...</td>\n",
       "      <td>New</td>\n",
       "      <td>Alurin</td>\n",
       "      <td>Go</td>\n",
       "      <td>Intel Celeron</td>\n",
       "      <td>8</td>\n",
       "      <td>256</td>\n",
       "      <td>SSD</td>\n",
       "      <td>NaN</td>\n",
       "      <td>15.6</td>\n",
       "      <td>No</td>\n",
       "      <td>299.00</td>\n",
       "    </tr>\n",
       "    <tr>\n",
       "      <th>2</th>\n",
       "      <td>ASUS ExpertBook B1 B1502CBA-EJ0424X Intel Core...</td>\n",
       "      <td>New</td>\n",
       "      <td>Asus</td>\n",
       "      <td>ExpertBook</td>\n",
       "      <td>Intel Core i3</td>\n",
       "      <td>8</td>\n",
       "      <td>256</td>\n",
       "      <td>SSD</td>\n",
       "      <td>NaN</td>\n",
       "      <td>15.6</td>\n",
       "      <td>No</td>\n",
       "      <td>789.00</td>\n",
       "    </tr>\n",
       "    <tr>\n",
       "      <th>3</th>\n",
       "      <td>MSI Katana GF66 12UC-082XES Intel Core i7-1270...</td>\n",
       "      <td>New</td>\n",
       "      <td>MSI</td>\n",
       "      <td>Katana</td>\n",
       "      <td>Intel Core i7</td>\n",
       "      <td>16</td>\n",
       "      <td>1000</td>\n",
       "      <td>SSD</td>\n",
       "      <td>RTX 3050</td>\n",
       "      <td>15.6</td>\n",
       "      <td>No</td>\n",
       "      <td>1199.00</td>\n",
       "    </tr>\n",
       "    <tr>\n",
       "      <th>4</th>\n",
       "      <td>HP 15S-FQ5085NS Intel Core i5-1235U/16GB/512GB...</td>\n",
       "      <td>New</td>\n",
       "      <td>HP</td>\n",
       "      <td>15S</td>\n",
       "      <td>Intel Core i5</td>\n",
       "      <td>16</td>\n",
       "      <td>512</td>\n",
       "      <td>SSD</td>\n",
       "      <td>NaN</td>\n",
       "      <td>15.6</td>\n",
       "      <td>No</td>\n",
       "      <td>669.01</td>\n",
       "    </tr>\n",
       "  </tbody>\n",
       "</table>\n",
       "</div>"
      ],
      "text/plain": [
       "                                              Laptop Status   Brand  \\\n",
       "0  ASUS ExpertBook B1 B1502CBA-EJ0436X Intel Core...    New    Asus   \n",
       "1  Alurin Go Start Intel Celeron N4020/8GB/256GB ...    New  Alurin   \n",
       "2  ASUS ExpertBook B1 B1502CBA-EJ0424X Intel Core...    New    Asus   \n",
       "3  MSI Katana GF66 12UC-082XES Intel Core i7-1270...    New     MSI   \n",
       "4  HP 15S-FQ5085NS Intel Core i5-1235U/16GB/512GB...    New      HP   \n",
       "\n",
       "        Model            CPU  RAM  Storage Storage type       GPU  Screen  \\\n",
       "0  ExpertBook  Intel Core i5    8      512          SSD       NaN    15.6   \n",
       "1          Go  Intel Celeron    8      256          SSD       NaN    15.6   \n",
       "2  ExpertBook  Intel Core i3    8      256          SSD       NaN    15.6   \n",
       "3      Katana  Intel Core i7   16     1000          SSD  RTX 3050    15.6   \n",
       "4         15S  Intel Core i5   16      512          SSD       NaN    15.6   \n",
       "\n",
       "  Touch  Final Price  \n",
       "0    No      1009.00  \n",
       "1    No       299.00  \n",
       "2    No       789.00  \n",
       "3    No      1199.00  \n",
       "4    No       669.01  "
      ]
     },
     "execution_count": 16,
     "metadata": {},
     "output_type": "execute_result"
    }
   ],
   "source": [
    "df.head()"
   ]
  },
  {
   "cell_type": "code",
   "execution_count": 17,
   "id": "63c405b0-c34d-48db-ba75-905d1cc59e54",
   "metadata": {},
   "outputs": [
    {
     "name": "stdout",
     "output_type": "stream",
     "text": [
      "(2160, 12)\n"
     ]
    }
   ],
   "source": [
    "print(df.shape)"
   ]
  },
  {
   "cell_type": "code",
   "execution_count": 18,
   "id": "cd99f3a0-cbbb-49b0-a54d-6a23ae8549f2",
   "metadata": {},
   "outputs": [],
   "source": [
    "df.columns = df.columns.str.lower().str.replace(' ', '_')"
   ]
  },
  {
   "cell_type": "code",
   "execution_count": 19,
   "id": "a2a48541-1762-41af-b960-310817cabd5b",
   "metadata": {},
   "outputs": [
    {
     "data": {
      "text/html": [
       "<div>\n",
       "<style scoped>\n",
       "    .dataframe tbody tr th:only-of-type {\n",
       "        vertical-align: middle;\n",
       "    }\n",
       "\n",
       "    .dataframe tbody tr th {\n",
       "        vertical-align: top;\n",
       "    }\n",
       "\n",
       "    .dataframe thead th {\n",
       "        text-align: right;\n",
       "    }\n",
       "</style>\n",
       "<table border=\"1\" class=\"dataframe\">\n",
       "  <thead>\n",
       "    <tr style=\"text-align: right;\">\n",
       "      <th></th>\n",
       "      <th>laptop</th>\n",
       "      <th>status</th>\n",
       "      <th>brand</th>\n",
       "      <th>model</th>\n",
       "      <th>cpu</th>\n",
       "      <th>ram</th>\n",
       "      <th>storage</th>\n",
       "      <th>storage_type</th>\n",
       "      <th>gpu</th>\n",
       "      <th>screen</th>\n",
       "      <th>touch</th>\n",
       "      <th>final_price</th>\n",
       "    </tr>\n",
       "  </thead>\n",
       "  <tbody>\n",
       "    <tr>\n",
       "      <th>0</th>\n",
       "      <td>ASUS ExpertBook B1 B1502CBA-EJ0436X Intel Core...</td>\n",
       "      <td>New</td>\n",
       "      <td>Asus</td>\n",
       "      <td>ExpertBook</td>\n",
       "      <td>Intel Core i5</td>\n",
       "      <td>8</td>\n",
       "      <td>512</td>\n",
       "      <td>SSD</td>\n",
       "      <td>NaN</td>\n",
       "      <td>15.6</td>\n",
       "      <td>No</td>\n",
       "      <td>1009.00</td>\n",
       "    </tr>\n",
       "    <tr>\n",
       "      <th>1</th>\n",
       "      <td>Alurin Go Start Intel Celeron N4020/8GB/256GB ...</td>\n",
       "      <td>New</td>\n",
       "      <td>Alurin</td>\n",
       "      <td>Go</td>\n",
       "      <td>Intel Celeron</td>\n",
       "      <td>8</td>\n",
       "      <td>256</td>\n",
       "      <td>SSD</td>\n",
       "      <td>NaN</td>\n",
       "      <td>15.6</td>\n",
       "      <td>No</td>\n",
       "      <td>299.00</td>\n",
       "    </tr>\n",
       "    <tr>\n",
       "      <th>2</th>\n",
       "      <td>ASUS ExpertBook B1 B1502CBA-EJ0424X Intel Core...</td>\n",
       "      <td>New</td>\n",
       "      <td>Asus</td>\n",
       "      <td>ExpertBook</td>\n",
       "      <td>Intel Core i3</td>\n",
       "      <td>8</td>\n",
       "      <td>256</td>\n",
       "      <td>SSD</td>\n",
       "      <td>NaN</td>\n",
       "      <td>15.6</td>\n",
       "      <td>No</td>\n",
       "      <td>789.00</td>\n",
       "    </tr>\n",
       "    <tr>\n",
       "      <th>3</th>\n",
       "      <td>MSI Katana GF66 12UC-082XES Intel Core i7-1270...</td>\n",
       "      <td>New</td>\n",
       "      <td>MSI</td>\n",
       "      <td>Katana</td>\n",
       "      <td>Intel Core i7</td>\n",
       "      <td>16</td>\n",
       "      <td>1000</td>\n",
       "      <td>SSD</td>\n",
       "      <td>RTX 3050</td>\n",
       "      <td>15.6</td>\n",
       "      <td>No</td>\n",
       "      <td>1199.00</td>\n",
       "    </tr>\n",
       "    <tr>\n",
       "      <th>4</th>\n",
       "      <td>HP 15S-FQ5085NS Intel Core i5-1235U/16GB/512GB...</td>\n",
       "      <td>New</td>\n",
       "      <td>HP</td>\n",
       "      <td>15S</td>\n",
       "      <td>Intel Core i5</td>\n",
       "      <td>16</td>\n",
       "      <td>512</td>\n",
       "      <td>SSD</td>\n",
       "      <td>NaN</td>\n",
       "      <td>15.6</td>\n",
       "      <td>No</td>\n",
       "      <td>669.01</td>\n",
       "    </tr>\n",
       "  </tbody>\n",
       "</table>\n",
       "</div>"
      ],
      "text/plain": [
       "                                              laptop status   brand  \\\n",
       "0  ASUS ExpertBook B1 B1502CBA-EJ0436X Intel Core...    New    Asus   \n",
       "1  Alurin Go Start Intel Celeron N4020/8GB/256GB ...    New  Alurin   \n",
       "2  ASUS ExpertBook B1 B1502CBA-EJ0424X Intel Core...    New    Asus   \n",
       "3  MSI Katana GF66 12UC-082XES Intel Core i7-1270...    New     MSI   \n",
       "4  HP 15S-FQ5085NS Intel Core i5-1235U/16GB/512GB...    New      HP   \n",
       "\n",
       "        model            cpu  ram  storage storage_type       gpu  screen  \\\n",
       "0  ExpertBook  Intel Core i5    8      512          SSD       NaN    15.6   \n",
       "1          Go  Intel Celeron    8      256          SSD       NaN    15.6   \n",
       "2  ExpertBook  Intel Core i3    8      256          SSD       NaN    15.6   \n",
       "3      Katana  Intel Core i7   16     1000          SSD  RTX 3050    15.6   \n",
       "4         15S  Intel Core i5   16      512          SSD       NaN    15.6   \n",
       "\n",
       "  touch  final_price  \n",
       "0    No      1009.00  \n",
       "1    No       299.00  \n",
       "2    No       789.00  \n",
       "3    No      1199.00  \n",
       "4    No       669.01  "
      ]
     },
     "execution_count": 19,
     "metadata": {},
     "output_type": "execute_result"
    }
   ],
   "source": [
    "df.head()"
   ]
  },
  {
   "cell_type": "code",
   "execution_count": 20,
   "id": "417a08a9-33ed-4c8a-9852-adbc08a53591",
   "metadata": {},
   "outputs": [],
   "source": [
    "base = ['ram', 'storage', 'screen', 'final_price']\n",
    "df = df[base]"
   ]
  },
  {
   "cell_type": "code",
   "execution_count": 21,
   "id": "19ae4457-af3c-4056-acc0-08d9b1fba766",
   "metadata": {},
   "outputs": [
    {
     "data": {
      "text/html": [
       "<div>\n",
       "<style scoped>\n",
       "    .dataframe tbody tr th:only-of-type {\n",
       "        vertical-align: middle;\n",
       "    }\n",
       "\n",
       "    .dataframe tbody tr th {\n",
       "        vertical-align: top;\n",
       "    }\n",
       "\n",
       "    .dataframe thead th {\n",
       "        text-align: right;\n",
       "    }\n",
       "</style>\n",
       "<table border=\"1\" class=\"dataframe\">\n",
       "  <thead>\n",
       "    <tr style=\"text-align: right;\">\n",
       "      <th></th>\n",
       "      <th>ram</th>\n",
       "      <th>storage</th>\n",
       "      <th>screen</th>\n",
       "      <th>final_price</th>\n",
       "    </tr>\n",
       "  </thead>\n",
       "  <tbody>\n",
       "    <tr>\n",
       "      <th>0</th>\n",
       "      <td>8</td>\n",
       "      <td>512</td>\n",
       "      <td>15.6</td>\n",
       "      <td>1009.00</td>\n",
       "    </tr>\n",
       "    <tr>\n",
       "      <th>1</th>\n",
       "      <td>8</td>\n",
       "      <td>256</td>\n",
       "      <td>15.6</td>\n",
       "      <td>299.00</td>\n",
       "    </tr>\n",
       "    <tr>\n",
       "      <th>2</th>\n",
       "      <td>8</td>\n",
       "      <td>256</td>\n",
       "      <td>15.6</td>\n",
       "      <td>789.00</td>\n",
       "    </tr>\n",
       "    <tr>\n",
       "      <th>3</th>\n",
       "      <td>16</td>\n",
       "      <td>1000</td>\n",
       "      <td>15.6</td>\n",
       "      <td>1199.00</td>\n",
       "    </tr>\n",
       "    <tr>\n",
       "      <th>4</th>\n",
       "      <td>16</td>\n",
       "      <td>512</td>\n",
       "      <td>15.6</td>\n",
       "      <td>669.01</td>\n",
       "    </tr>\n",
       "  </tbody>\n",
       "</table>\n",
       "</div>"
      ],
      "text/plain": [
       "   ram  storage  screen  final_price\n",
       "0    8      512    15.6      1009.00\n",
       "1    8      256    15.6       299.00\n",
       "2    8      256    15.6       789.00\n",
       "3   16     1000    15.6      1199.00\n",
       "4   16      512    15.6       669.01"
      ]
     },
     "execution_count": 21,
     "metadata": {},
     "output_type": "execute_result"
    }
   ],
   "source": [
    "df.head()"
   ]
  },
  {
   "cell_type": "markdown",
   "id": "bc94fad0-1ba7-4cca-81e5-94a38748dc72",
   "metadata": {},
   "source": [
    "### EDA "
   ]
  },
  {
   "cell_type": "code",
   "execution_count": 22,
   "id": "94660a24-da66-49bf-b832-18ed957ac34f",
   "metadata": {},
   "outputs": [
    {
     "name": "stderr",
     "output_type": "stream",
     "text": [
      "C:\\Users\\Admin-IT\\anaconda3\\Lib\\site-packages\\seaborn\\_oldcore.py:1119: FutureWarning: use_inf_as_na option is deprecated and will be removed in a future version. Convert inf values to NaN before operating instead.\n",
      "  with pd.option_context('mode.use_inf_as_na', True):\n"
     ]
    },
    {
     "data": {
      "text/plain": [
       "<Axes: xlabel='final_price', ylabel='Count'>"
      ]
     },
     "execution_count": 22,
     "metadata": {},
     "output_type": "execute_result"
    },
    {
     "data": {
      "image/png": "[encoded data removed]",
      "text/plain": [
       "<Figure size 640x480 with 1 Axes>"
      ]
     },
     "metadata": {},
     "output_type": "display_data"
    }
   ],
   "source": [
    "sns.histplot(df.final_price, bins=50)"
   ]
  },
  {
   "cell_type": "code",
   "execution_count": 25,
   "id": "059343ca-89f2-4f22-88c1-94cf3ca4d9c1",
   "metadata": {},
   "outputs": [
    {
     "name": "stderr",
     "output_type": "stream",
     "text": [
      "C:\\Users\\Admin-IT\\anaconda3\\Lib\\site-packages\\seaborn\\_oldcore.py:1119: FutureWarning: use_inf_as_na option is deprecated and will be removed in a future version. Convert inf values to NaN before operating instead.\n",
      "  with pd.option_context('mode.use_inf_as_na', True):\n"
     ]
    },
    {
     "data": {
      "image/png": "[encoded data removed]",
      "text/plain": [
       "<Figure size 640x480 with 1 Axes>"
      ]
     },
     "metadata": {},
     "output_type": "display_data"
    }
   ],
   "source": [
    "sns.histplot(df.final_price[df.final_price < 7000], bins=50)\n",
    "plt.show()"
   ]
  },
  {
   "cell_type": "code",
   "execution_count": 28,
   "id": "64566580-1745-4a4d-9d05-a7b755813bba",
   "metadata": {},
   "outputs": [],
   "source": [
    "priceLog = np.log1p(df.final_price)"
   ]
  },
  {
   "cell_type": "code",
   "execution_count": 29,
   "id": "8d8e5086-d555-42f6-8438-c52b0c10619c",
   "metadata": {},
   "outputs": [
    {
     "name": "stderr",
     "output_type": "stream",
     "text": [
      "C:\\Users\\Admin-IT\\anaconda3\\Lib\\site-packages\\seaborn\\_oldcore.py:1119: FutureWarning: use_inf_as_na option is deprecated and will be removed in a future version. Convert inf values to NaN before operating instead.\n",
      "  with pd.option_context('mode.use_inf_as_na', True):\n"
     ]
    },
    {
     "data": {
      "text/plain": [
       "<Axes: xlabel='final_price', ylabel='Count'>"
      ]
     },
     "execution_count": 29,
     "metadata": {},
     "output_type": "execute_result"
    },
    {
     "data": {
      "image/png": "[encoded data removed]",
      "text/plain": [
       "<Figure size 640x480 with 1 Axes>"
      ]
     },
     "metadata": {},
     "output_type": "display_data"
    }
   ],
   "source": [
    "sns.histplot(priceLog, bins=50)"
   ]
  },
  {
   "cell_type": "markdown",
   "id": "727b898e-59a6-4569-9903-36fc317d49b2",
   "metadata": {},
   "source": [
    "#### Question 1.Missing values "
   ]
  },
  {
   "cell_type": "code",
   "execution_count": 13,
   "id": "6bdb3c26-e534-4bf6-889b-3f4900ab1db9",
   "metadata": {},
   "outputs": [
    {
     "data": {
      "text/plain": [
       "ram            0\n",
       "storage        0\n",
       "screen         4\n",
       "final_price    0\n",
       "dtype: int64"
      ]
     },
     "execution_count": 13,
     "metadata": {},
     "output_type": "execute_result"
    }
   ],
   "source": [
    "df.isnull().sum()"
   ]
  },
  {
   "cell_type": "markdown",
   "id": "6971ddec-3504-4dd4-9125-a4c09e12d231",
   "metadata": {},
   "source": [
    "#### Question 2.Median for RAM"
   ]
  },
  {
   "cell_type": "code",
   "execution_count": 30,
   "id": "9a4ed0f1-35c1-40e8-8238-963a506bf903",
   "metadata": {},
   "outputs": [
    {
     "name": "stdout",
     "output_type": "stream",
     "text": [
      "The median for RAM is 16.0\n"
     ]
    }
   ],
   "source": [
    "medRam = df['ram'].median()\n",
    "print(f\"The median for RAM is {medRam}\")"
   ]
  },
  {
   "cell_type": "markdown",
   "id": "aba4c816-2deb-416d-a347-b3736399e561",
   "metadata": {},
   "source": [
    "##### Prepare, split, shuffle dataset(Train, val ,Test)"
   ]
  },
  {
   "cell_type": "code",
   "execution_count": 35,
   "id": "62bcad67-f521-435d-95a8-70453e31bd72",
   "metadata": {},
   "outputs": [
    {
     "data": {
      "text/plain": [
       "(2160, 2160)"
      ]
     },
     "execution_count": 35,
     "metadata": {},
     "output_type": "execute_result"
    }
   ],
   "source": [
    "n = len(df)\n",
    "n_val = int (n * 0.2)\n",
    "n_test = int (n * 0.2)\n",
    "n_train = n - n_val - n_test\n",
    "n, n_val + n_test + n_train"
   ]
  },
  {
   "cell_type": "code",
   "execution_count": 36,
   "id": "fa3cbff4-95e1-4283-8139-eaf40ffa14e5",
   "metadata": {},
   "outputs": [
    {
     "data": {
      "text/plain": [
       "array([2079,  668, 2073, ..., 1130, 1294,  860])"
      ]
     },
     "execution_count": 36,
     "metadata": {},
     "output_type": "execute_result"
    }
   ],
   "source": [
    "idx = np.arange(n)\n",
    "np.random.seed(42)\n",
    "np.random.shuffle(idx)\n",
    "idx"
   ]
  },
  {
   "cell_type": "code",
   "execution_count": 38,
   "id": "8c788551-4bd6-4272-a39f-7b16e5c15569",
   "metadata": {},
   "outputs": [],
   "source": [
    "df_train = df.iloc[idx[:n_train]]\n",
    "df_val = df.iloc[idx[n_train:n_train + n_val]]\n",
    "df_test = df.iloc[idx[n_train + n_val:]]"
   ]
  },
  {
   "cell_type": "code",
   "execution_count": 39,
   "id": "bd70d260-bb13-43a0-8aa5-d8fbe305cffd",
   "metadata": {},
   "outputs": [
    {
     "data": {
      "text/html": [
       "<div>\n",
       "<style scoped>\n",
       "    .dataframe tbody tr th:only-of-type {\n",
       "        vertical-align: middle;\n",
       "    }\n",
       "\n",
       "    .dataframe tbody tr th {\n",
       "        vertical-align: top;\n",
       "    }\n",
       "\n",
       "    .dataframe thead th {\n",
       "        text-align: right;\n",
       "    }\n",
       "</style>\n",
       "<table border=\"1\" class=\"dataframe\">\n",
       "  <thead>\n",
       "    <tr style=\"text-align: right;\">\n",
       "      <th></th>\n",
       "      <th>ram</th>\n",
       "      <th>storage</th>\n",
       "      <th>screen</th>\n",
       "      <th>final_price</th>\n",
       "    </tr>\n",
       "  </thead>\n",
       "  <tbody>\n",
       "    <tr>\n",
       "      <th>0</th>\n",
       "      <td>32</td>\n",
       "      <td>1000</td>\n",
       "      <td>15.6</td>\n",
       "      <td>1123.29</td>\n",
       "    </tr>\n",
       "    <tr>\n",
       "      <th>1</th>\n",
       "      <td>4</td>\n",
       "      <td>64</td>\n",
       "      <td>14.1</td>\n",
       "      <td>201.05</td>\n",
       "    </tr>\n",
       "    <tr>\n",
       "      <th>2</th>\n",
       "      <td>32</td>\n",
       "      <td>1000</td>\n",
       "      <td>14.0</td>\n",
       "      <td>997.74</td>\n",
       "    </tr>\n",
       "    <tr>\n",
       "      <th>3</th>\n",
       "      <td>16</td>\n",
       "      <td>512</td>\n",
       "      <td>13.3</td>\n",
       "      <td>1016.00</td>\n",
       "    </tr>\n",
       "    <tr>\n",
       "      <th>4</th>\n",
       "      <td>32</td>\n",
       "      <td>1000</td>\n",
       "      <td>16.0</td>\n",
       "      <td>2739.00</td>\n",
       "    </tr>\n",
       "    <tr>\n",
       "      <th>...</th>\n",
       "      <td>...</td>\n",
       "      <td>...</td>\n",
       "      <td>...</td>\n",
       "      <td>...</td>\n",
       "    </tr>\n",
       "    <tr>\n",
       "      <th>1291</th>\n",
       "      <td>8</td>\n",
       "      <td>256</td>\n",
       "      <td>14.0</td>\n",
       "      <td>549.00</td>\n",
       "    </tr>\n",
       "    <tr>\n",
       "      <th>1292</th>\n",
       "      <td>32</td>\n",
       "      <td>1000</td>\n",
       "      <td>16.0</td>\n",
       "      <td>1999.00</td>\n",
       "    </tr>\n",
       "    <tr>\n",
       "      <th>1293</th>\n",
       "      <td>16</td>\n",
       "      <td>512</td>\n",
       "      <td>15.6</td>\n",
       "      <td>1059.00</td>\n",
       "    </tr>\n",
       "    <tr>\n",
       "      <th>1294</th>\n",
       "      <td>16</td>\n",
       "      <td>512</td>\n",
       "      <td>14.0</td>\n",
       "      <td>1671.00</td>\n",
       "    </tr>\n",
       "    <tr>\n",
       "      <th>1295</th>\n",
       "      <td>16</td>\n",
       "      <td>512</td>\n",
       "      <td>14.0</td>\n",
       "      <td>1056.00</td>\n",
       "    </tr>\n",
       "  </tbody>\n",
       "</table>\n",
       "<p>1296 rows × 4 columns</p>\n",
       "</div>"
      ],
      "text/plain": [
       "      ram  storage  screen  final_price\n",
       "0      32     1000    15.6      1123.29\n",
       "1       4       64    14.1       201.05\n",
       "2      32     1000    14.0       997.74\n",
       "3      16      512    13.3      1016.00\n",
       "4      32     1000    16.0      2739.00\n",
       "...   ...      ...     ...          ...\n",
       "1291    8      256    14.0       549.00\n",
       "1292   32     1000    16.0      1999.00\n",
       "1293   16      512    15.6      1059.00\n",
       "1294   16      512    14.0      1671.00\n",
       "1295   16      512    14.0      1056.00\n",
       "\n",
       "[1296 rows x 4 columns]"
      ]
     },
     "execution_count": 39,
     "metadata": {},
     "output_type": "execute_result"
    }
   ],
   "source": [
    "df_train = df_train.reset_index(drop=True)\n",
    "df_val = df_val.reset_index(drop=True)\n",
    "df_test = df_test.reset_index(drop=True)\n",
    "df_train"
   ]
  },
  {
   "cell_type": "code",
   "execution_count": 40,
   "id": "5799806b-ddeb-4b51-9332-2ae6a86b078d",
   "metadata": {},
   "outputs": [
    {
     "data": {
      "text/html": [
       "<div>\n",
       "<style scoped>\n",
       "    .dataframe tbody tr th:only-of-type {\n",
       "        vertical-align: middle;\n",
       "    }\n",
       "\n",
       "    .dataframe tbody tr th {\n",
       "        vertical-align: top;\n",
       "    }\n",
       "\n",
       "    .dataframe thead th {\n",
       "        text-align: right;\n",
       "    }\n",
       "</style>\n",
       "<table border=\"1\" class=\"dataframe\">\n",
       "  <thead>\n",
       "    <tr style=\"text-align: right;\">\n",
       "      <th></th>\n",
       "      <th>ram</th>\n",
       "      <th>storage</th>\n",
       "      <th>screen</th>\n",
       "      <th>final_price</th>\n",
       "    </tr>\n",
       "  </thead>\n",
       "  <tbody>\n",
       "    <tr>\n",
       "      <th>0</th>\n",
       "      <td>32</td>\n",
       "      <td>1000</td>\n",
       "      <td>16.0</td>\n",
       "      <td>2599.00</td>\n",
       "    </tr>\n",
       "    <tr>\n",
       "      <th>1</th>\n",
       "      <td>16</td>\n",
       "      <td>512</td>\n",
       "      <td>15.6</td>\n",
       "      <td>999.00</td>\n",
       "    </tr>\n",
       "    <tr>\n",
       "      <th>2</th>\n",
       "      <td>12</td>\n",
       "      <td>512</td>\n",
       "      <td>15.6</td>\n",
       "      <td>477.28</td>\n",
       "    </tr>\n",
       "    <tr>\n",
       "      <th>3</th>\n",
       "      <td>8</td>\n",
       "      <td>256</td>\n",
       "      <td>13.6</td>\n",
       "      <td>1519.00</td>\n",
       "    </tr>\n",
       "    <tr>\n",
       "      <th>4</th>\n",
       "      <td>8</td>\n",
       "      <td>512</td>\n",
       "      <td>15.6</td>\n",
       "      <td>402.99</td>\n",
       "    </tr>\n",
       "    <tr>\n",
       "      <th>...</th>\n",
       "      <td>...</td>\n",
       "      <td>...</td>\n",
       "      <td>...</td>\n",
       "      <td>...</td>\n",
       "    </tr>\n",
       "    <tr>\n",
       "      <th>427</th>\n",
       "      <td>8</td>\n",
       "      <td>128</td>\n",
       "      <td>13.0</td>\n",
       "      <td>1049.00</td>\n",
       "    </tr>\n",
       "    <tr>\n",
       "      <th>428</th>\n",
       "      <td>8</td>\n",
       "      <td>256</td>\n",
       "      <td>13.3</td>\n",
       "      <td>799.00</td>\n",
       "    </tr>\n",
       "    <tr>\n",
       "      <th>429</th>\n",
       "      <td>8</td>\n",
       "      <td>512</td>\n",
       "      <td>14.0</td>\n",
       "      <td>565.54</td>\n",
       "    </tr>\n",
       "    <tr>\n",
       "      <th>430</th>\n",
       "      <td>16</td>\n",
       "      <td>512</td>\n",
       "      <td>14.0</td>\n",
       "      <td>738.00</td>\n",
       "    </tr>\n",
       "    <tr>\n",
       "      <th>431</th>\n",
       "      <td>4</td>\n",
       "      <td>64</td>\n",
       "      <td>14.0</td>\n",
       "      <td>452.00</td>\n",
       "    </tr>\n",
       "  </tbody>\n",
       "</table>\n",
       "<p>432 rows × 4 columns</p>\n",
       "</div>"
      ],
      "text/plain": [
       "     ram  storage  screen  final_price\n",
       "0     32     1000    16.0      2599.00\n",
       "1     16      512    15.6       999.00\n",
       "2     12      512    15.6       477.28\n",
       "3      8      256    13.6      1519.00\n",
       "4      8      512    15.6       402.99\n",
       "..   ...      ...     ...          ...\n",
       "427    8      128    13.0      1049.00\n",
       "428    8      256    13.3       799.00\n",
       "429    8      512    14.0       565.54\n",
       "430   16      512    14.0       738.00\n",
       "431    4       64    14.0       452.00\n",
       "\n",
       "[432 rows x 4 columns]"
      ]
     },
     "execution_count": 40,
     "metadata": {},
     "output_type": "execute_result"
    }
   ],
   "source": [
    "df_val"
   ]
  },
  {
   "cell_type": "code",
   "execution_count": 41,
   "id": "a2f974d1-b5c4-418a-b11c-7b73f789be27",
   "metadata": {},
   "outputs": [
    {
     "data": {
      "text/html": [
       "<div>\n",
       "<style scoped>\n",
       "    .dataframe tbody tr th:only-of-type {\n",
       "        vertical-align: middle;\n",
       "    }\n",
       "\n",
       "    .dataframe tbody tr th {\n",
       "        vertical-align: top;\n",
       "    }\n",
       "\n",
       "    .dataframe thead th {\n",
       "        text-align: right;\n",
       "    }\n",
       "</style>\n",
       "<table border=\"1\" class=\"dataframe\">\n",
       "  <thead>\n",
       "    <tr style=\"text-align: right;\">\n",
       "      <th></th>\n",
       "      <th>ram</th>\n",
       "      <th>storage</th>\n",
       "      <th>screen</th>\n",
       "      <th>final_price</th>\n",
       "    </tr>\n",
       "  </thead>\n",
       "  <tbody>\n",
       "    <tr>\n",
       "      <th>0</th>\n",
       "      <td>32</td>\n",
       "      <td>1000</td>\n",
       "      <td>15.6</td>\n",
       "      <td>4805.65</td>\n",
       "    </tr>\n",
       "    <tr>\n",
       "      <th>1</th>\n",
       "      <td>16</td>\n",
       "      <td>512</td>\n",
       "      <td>13.0</td>\n",
       "      <td>2189.00</td>\n",
       "    </tr>\n",
       "    <tr>\n",
       "      <th>2</th>\n",
       "      <td>16</td>\n",
       "      <td>512</td>\n",
       "      <td>15.6</td>\n",
       "      <td>1349.00</td>\n",
       "    </tr>\n",
       "    <tr>\n",
       "      <th>3</th>\n",
       "      <td>16</td>\n",
       "      <td>512</td>\n",
       "      <td>15.0</td>\n",
       "      <td>2175.83</td>\n",
       "    </tr>\n",
       "    <tr>\n",
       "      <th>4</th>\n",
       "      <td>16</td>\n",
       "      <td>1000</td>\n",
       "      <td>15.6</td>\n",
       "      <td>1248.59</td>\n",
       "    </tr>\n",
       "    <tr>\n",
       "      <th>...</th>\n",
       "      <td>...</td>\n",
       "      <td>...</td>\n",
       "      <td>...</td>\n",
       "      <td>...</td>\n",
       "    </tr>\n",
       "    <tr>\n",
       "      <th>427</th>\n",
       "      <td>8</td>\n",
       "      <td>512</td>\n",
       "      <td>15.0</td>\n",
       "      <td>1838.29</td>\n",
       "    </tr>\n",
       "    <tr>\n",
       "      <th>428</th>\n",
       "      <td>8</td>\n",
       "      <td>256</td>\n",
       "      <td>15.6</td>\n",
       "      <td>531.80</td>\n",
       "    </tr>\n",
       "    <tr>\n",
       "      <th>429</th>\n",
       "      <td>8</td>\n",
       "      <td>256</td>\n",
       "      <td>13.3</td>\n",
       "      <td>765.33</td>\n",
       "    </tr>\n",
       "    <tr>\n",
       "      <th>430</th>\n",
       "      <td>8</td>\n",
       "      <td>512</td>\n",
       "      <td>14.0</td>\n",
       "      <td>803.61</td>\n",
       "    </tr>\n",
       "    <tr>\n",
       "      <th>431</th>\n",
       "      <td>32</td>\n",
       "      <td>1000</td>\n",
       "      <td>16.0</td>\n",
       "      <td>2102.18</td>\n",
       "    </tr>\n",
       "  </tbody>\n",
       "</table>\n",
       "<p>432 rows × 4 columns</p>\n",
       "</div>"
      ],
      "text/plain": [
       "     ram  storage  screen  final_price\n",
       "0     32     1000    15.6      4805.65\n",
       "1     16      512    13.0      2189.00\n",
       "2     16      512    15.6      1349.00\n",
       "3     16      512    15.0      2175.83\n",
       "4     16     1000    15.6      1248.59\n",
       "..   ...      ...     ...          ...\n",
       "427    8      512    15.0      1838.29\n",
       "428    8      256    15.6       531.80\n",
       "429    8      256    13.3       765.33\n",
       "430    8      512    14.0       803.61\n",
       "431   32     1000    16.0      2102.18\n",
       "\n",
       "[432 rows x 4 columns]"
      ]
     },
     "execution_count": 41,
     "metadata": {},
     "output_type": "execute_result"
    }
   ],
   "source": [
    "df_test"
   ]
  },
  {
   "cell_type": "code",
   "execution_count": 42,
   "id": "beb76493-1b15-4f12-bbef-6d7a60cfb45d",
   "metadata": {},
   "outputs": [],
   "source": [
    "y_train = np.log1p(df_train.final_price.values)\n",
    "y_val = np.log1p(df_val.final_price.values)\n",
    "y_test = np.log1p(df_test.final_price.values)"
   ]
  },
  {
   "cell_type": "code",
   "execution_count": 43,
   "id": "21c02e1d-c358-4348-98df-7fe35c63b316",
   "metadata": {},
   "outputs": [
    {
     "data": {
      "text/plain": [
       "array([7.024907  , 5.30851519, 6.90649448, ..., 6.96602419, 7.42177579,\n",
       "       6.96318999])"
      ]
     },
     "execution_count": 43,
     "metadata": {},
     "output_type": "execute_result"
    }
   ],
   "source": [
    "y_train"
   ]
  },
  {
   "cell_type": "code",
   "execution_count": 44,
   "id": "76c1a98b-8561-44e8-b0b2-1dcb154f2d07",
   "metadata": {},
   "outputs": [
    {
     "data": {
      "text/plain": [
       "array([7.86326672, 6.90775528, 6.17019634, 7.32646561, 6.00139013,\n",
       "       6.74523635, 7.3115924 , 6.72143775, 6.10924758, 8.24794549,\n",
       "       7.13933514, 7.54960917, 6.78773224, 7.09007684, 6.38181602,\n",
       "       7.09007684, 5.53101513, 6.89770494, 7.25135208, 6.2146081 ,\n",
       "       6.12102243, 6.63138235, 7.32711672, 6.34814199, 8.36660051,\n",
       "       6.03975459, 7.19758504, 7.54960917, 7.54961443, 6.18517929,\n",
       "       7.64969262, 7.86327057, 6.56667243, 6.23441073, 7.21971524,\n",
       "       7.74846002, 6.63333159, 7.15807032, 7.54960917, 7.17012724,\n",
       "       7.10497366, 7.97280734, 6.62007321, 6.29156914, 6.62007321,\n",
       "       6.49885427, 7.57558978, 8.2160908 , 6.82634998, 7.98989937,\n",
       "       6.91770561, 6.57786136, 7.31277362, 7.17011954, 6.80461452,\n",
       "       6.38012254, 7.60579547, 6.7580945 , 7.05875815, 6.70033743,\n",
       "       7.60090246, 6.24999455, 7.48380669, 6.40867705, 5.81484669,\n",
       "       7.31322705, 6.64476582, 5.79301361, 6.68461173, 6.27287701,\n",
       "       6.77992191, 6.25575004, 7.69943472, 6.9445307 , 6.62007321,\n",
       "       7.20785987, 6.25311702, 7.85514925, 6.33546197, 7.60090246,\n",
       "       5.85793315, 6.08677473, 6.68461173, 6.75901162, 6.45416029,\n",
       "       7.27931884, 6.50955869, 6.7521886 , 6.86275791, 6.19440539,\n",
       "       7.24439893, 7.04751722, 5.82838664, 6.11368218, 7.50108765,\n",
       "       6.90775528, 7.047552  , 6.68461173, 7.59085212, 8.2139236 ,\n",
       "       7.29743647, 7.05789794, 6.59573953, 6.82527544, 7.04842116,\n",
       "       6.80239476, 6.54873473, 8.12563395, 6.11124559, 7.43838353,\n",
       "       6.97541393, 6.30991828, 7.64969262, 8.14828371, 6.39972574,\n",
       "       7.51207125, 7.10263103, 6.49963665, 6.86593278, 5.91622902,\n",
       "       5.9824238 , 7.04751722, 7.93379687, 6.83265451, 7.37149558,\n",
       "       7.3115924 , 7.74244542, 5.99146455, 5.98718038, 7.03697489,\n",
       "       7.40853057, 6.64075127, 6.34563636, 6.60325253, 6.6792725 ,\n",
       "       6.81069357, 7.61788248, 7.21495317, 6.10924758, 6.36659072,\n",
       "       6.16749553, 5.96614674, 6.90775528, 6.60247934, 6.75066863,\n",
       "       7.54960917, 7.3065314 , 7.60090246, 6.88559147, 7.8180722 ,\n",
       "       5.87493073, 7.1706963 , 7.04751722, 6.55108034, 6.34138171,\n",
       "       5.97380961, 6.55108034, 8.38935982, 7.82550894, 7.59990196,\n",
       "       5.90033561, 7.74500713, 6.80471429, 6.95654544, 7.40853057,\n",
       "       7.10414409, 5.81794415, 6.44844626, 5.65599181, 7.64969262,\n",
       "       6.95748786, 7.76397324, 7.17011954, 6.84235238, 6.38012254,\n",
       "       6.90775528, 8.41183268, 6.67203295, 6.59442714, 6.55108034,\n",
       "       7.35883727, 6.48667895, 7.20785987, 8.11040321, 7.39046534,\n",
       "       7.69621264, 6.62139234, 7.18772519, 6.94846527, 8.04193418,\n",
       "       7.48492467, 7.91206055, 7.54433211, 7.11023071, 6.23947631,\n",
       "       7.04751722, 6.58877516, 6.31175296, 6.68461173, 7.138867  ,\n",
       "       6.79628726, 5.61159408, 6.00881319, 7.37837122, 6.65930674,\n",
       "       5.59281367, 8.24275635, 6.69171146, 7.7406644 , 7.3524411 ,\n",
       "       7.98956045, 5.61535191, 6.63068339, 6.27287701, 7.24136628,\n",
       "       7.42708464, 7.76217061, 7.84385256, 7.86326672, 7.36795475,\n",
       "       7.1745635 , 8.38958479, 7.99967858, 7.90137365, 6.87434326,\n",
       "       7.37775891, 5.72299669, 7.00306546, 6.62007321, 5.70378247,\n",
       "       8.1605211 , 6.33167977, 6.89583451, 7.75319427, 6.31896811,\n",
       "       6.17505613, 6.20619279, 7.14479385, 7.66530347, 6.33792247,\n",
       "       8.29404964, 6.33615294, 6.94011598, 8.2160881 , 6.97011017,\n",
       "       6.31714664, 5.99948232, 6.68461173, 7.19636442, 5.70378247,\n",
       "       6.80240587, 6.2146081 , 6.72182321, 7.77904864, 5.97888576,\n",
       "       6.39692966, 8.10167775, 6.51759741, 5.91579767, 6.61492665,\n",
       "       6.35898546, 8.0063709 , 6.65929392, 6.67309567, 6.3985783 ,\n",
       "       6.38330391, 6.2146081 , 7.37775891, 7.85166118, 6.4372075 ,\n",
       "       7.03879231, 5.78382518, 6.80240587, 6.97769171, 8.03947347,\n",
       "       7.45954049, 5.98401184, 6.97381452, 6.41347535, 6.55108034,\n",
       "       6.74524811, 5.7791682 , 6.60934924, 7.62070509, 7.52342729,\n",
       "       7.46737107, 6.2146081 , 5.44302359, 7.42596557, 6.60074087,\n",
       "       6.03784705, 6.97541393, 6.89721998, 6.6147256 , 7.2796636 ,\n",
       "       6.51654804, 7.31322039, 6.90775528, 7.46164039, 8.41183268,\n",
       "       6.47233084, 7.15099161, 7.46737107, 6.2146081 , 7.28248623,\n",
       "       7.82444993, 7.46737107, 6.46146818, 7.17012724, 6.67651655,\n",
       "       7.17626218, 7.24422752, 7.82404601, 7.24422752, 7.59085212,\n",
       "       6.80716116, 6.67958662, 7.28913942, 7.45760352, 6.58221903,\n",
       "       6.67708346, 6.88755257, 7.17161074, 7.60110244, 7.54960917,\n",
       "       6.87729607, 6.30991828, 6.79794041, 7.01211529, 6.58098582,\n",
       "       6.723099  , 5.96357934, 6.69758965, 7.03810787, 6.39025745,\n",
       "       7.25841215, 7.22320085, 6.2385785 , 6.61204103, 7.60090246,\n",
       "       7.04751722, 6.06378521, 7.06988263, 8.46680896, 7.63640955,\n",
       "       7.54960917, 6.03308622, 6.59304453, 8.00636757, 6.40301113,\n",
       "       7.29709101, 7.41456686, 7.26206042, 8.00636757, 7.39633529,\n",
       "       7.54433211, 7.31322039, 7.54960917, 6.1347637 , 6.66929502,\n",
       "       7.72400024, 6.52119534, 6.53670609, 6.75272588, 6.93805167,\n",
       "       6.99942247, 7.72180507, 7.19668657, 7.51207125, 6.68461173,\n",
       "       7.42118351, 7.08504754, 7.18539459, 8.87507321, 6.93969958,\n",
       "       7.43896571, 7.39510755, 6.5792651 , 7.79462956, 6.2146081 ,\n",
       "       6.65672652, 6.56640516, 6.46480635, 7.46514574, 7.97246602,\n",
       "       7.1326493 , 7.43838941, 7.19308459, 7.69892713, 7.15355229,\n",
       "       7.22883828, 7.88231492, 5.94017125, 6.39692966, 7.02464903,\n",
       "       7.27170371, 6.00198402, 7.37775891, 7.32383057, 7.24422752,\n",
       "       6.30793449, 6.27287701, 6.58034783, 6.27511977, 6.85555631,\n",
       "       5.97279128, 6.62007321, 6.06840244, 7.97246602, 6.99198613,\n",
       "       8.18868912, 7.54433211, 7.31322039, 6.09580204, 7.60090246,\n",
       "       6.10253622, 7.05455328, 6.03030057, 6.83518459, 6.37614855,\n",
       "       6.58034783, 6.70148114, 6.54606779, 6.74523635, 7.82404601,\n",
       "       6.41286862, 6.50729264, 6.95654544, 6.68461173, 6.33954769,\n",
       "       6.60529792, 6.11589213])"
      ]
     },
     "execution_count": 44,
     "metadata": {},
     "output_type": "execute_result"
    }
   ],
   "source": [
    "y_val"
   ]
  },
  {
   "cell_type": "code",
   "execution_count": 45,
   "id": "fbf5ce1d-9cc0-4218-95af-dad6a63f4c90",
   "metadata": {},
   "outputs": [
    {
     "data": {
      "text/plain": [
       "array([8.47775565, 7.69165682, 7.20785987, 7.68562497, 7.13057078,\n",
       "       6.32076829, 6.49932077, 7.24422752, 7.17012724, 6.53077558,\n",
       "       7.49214173, 7.43838353, 6.30991828, 7.20076066, 6.82328612,\n",
       "       7.37775891, 6.50382399, 7.9373747 , 7.10660614, 7.56664222,\n",
       "       6.22059017, 7.26822302, 6.57527108, 6.55108034, 7.69621264,\n",
       "       7.97246602, 6.47906248, 6.78670566, 7.43838941, 6.70930434,\n",
       "       7.24422752, 6.90775528, 6.68586095, 7.17012724, 6.73933663,\n",
       "       7.07625678, 7.68955873, 7.7406644 , 7.37149558, 7.20785987,\n",
       "       7.64969262, 6.90775528, 5.76186269, 8.24275635, 6.60074087,\n",
       "       8.1019777 , 6.44573569, 6.77659821, 7.17011954, 7.40853057,\n",
       "       6.89817958, 6.4248204 , 6.68461173, 6.08121384, 5.48168005,\n",
       "       8.03915739, 6.14474342, 7.38770924, 7.04751722, 6.9982265 ,\n",
       "       6.28821166, 6.2146081 , 6.27287701, 7.30809394, 6.30991828,\n",
       "       6.90775528, 8.01072141, 7.02286809, 7.57558465, 5.70378247,\n",
       "       5.97169542, 5.94017125, 6.2146081 , 7.37775891, 7.95402109,\n",
       "       8.31874225, 7.08977679, 7.591458  , 5.94017125, 6.04025471,\n",
       "       8.00636757, 6.68461173, 6.37381455, 6.51891127, 6.47347394,\n",
       "       6.3216492 , 6.43131498, 6.20619279, 6.78670566, 8.03915739,\n",
       "       7.21523998, 7.83852074, 7.24422752, 6.68461173, 6.91133885,\n",
       "       7.19684386, 7.52247595, 7.17011954, 6.84659239, 7.33302301,\n",
       "       7.72260669, 7.88666394, 7.0909015 , 6.85646198, 6.68461173,\n",
       "       7.43838353, 6.80239476, 7.36345078, 6.15697899, 6.09850116,\n",
       "       6.68461173, 5.48063892, 6.77774909, 7.9628649 , 8.18868912,\n",
       "       5.5129851 , 6.47294889, 7.05963481, 5.99146455, 7.54430036,\n",
       "       7.30040529, 7.69621718, 6.31314942, 6.59304453, 6.84080318,\n",
       "       7.27931884, 7.30157282, 6.20526458, 7.80792069, 6.87882068,\n",
       "       7.12205988, 7.43838353, 6.37570602, 6.79969111, 7.1255968 ,\n",
       "       7.6274178 , 6.90775528, 6.68586095, 8.20659453, 6.36304534,\n",
       "       5.58025799, 6.16512369, 6.42175234, 7.24138777, 7.86327057,\n",
       "       7.0024198 , 6.55433218, 7.90100705, 5.99146455, 7.00306546,\n",
       "       6.85646198, 6.9794618 , 6.09584708, 7.0204141 , 7.1436255 ,\n",
       "       6.43380788, 6.72891565, 6.0890222 , 7.6139322 , 6.62151217,\n",
       "       6.66840612, 7.10660614, 6.69393067, 7.09007684, 7.27838046,\n",
       "       7.43838353, 6.87729607, 7.50659727, 8.10167775, 7.17011954,\n",
       "       7.9373747 , 6.34563636, 7.60090246, 8.14612951, 6.25382881,\n",
       "       6.63358156, 7.63474334, 6.17224325, 7.5857939 , 6.2146081 ,\n",
       "       7.91206055, 7.40128621, 6.30991828, 7.48436864, 7.46737107,\n",
       "       7.11580144, 7.60090246, 6.39692966, 7.97768685, 6.90479089,\n",
       "       7.24422752, 7.49554194, 7.6126828 , 7.11697028, 7.61429241,\n",
       "       6.88755257, 7.80792069, 6.75179129, 6.23441073, 6.42032061,\n",
       "       7.54960917, 8.51719519, 7.43838353, 6.88232464, 7.3065314 ,\n",
       "       6.04438901, 6.64429742, 7.37775891, 5.88610403, 7.86326672,\n",
       "       7.49554194, 5.9348942 , 7.07326972, 6.44570395, 7.64969262,\n",
       "       6.37842618, 7.24318411, 6.38706449, 7.85530434, 7.18849581,\n",
       "       6.2146081 , 7.54072243, 7.47306909, 7.9041281 , 6.10924758,\n",
       "       7.4389128 , 6.9679092 , 6.34570653, 6.96508035, 6.2146081 ,\n",
       "       7.7463439 , 6.4645883 , 7.1428195 , 5.97126184, 6.11146734,\n",
       "       5.90536185, 5.85793315, 6.77341213, 7.27217615, 6.2146081 ,\n",
       "       6.90731518, 6.45519856, 6.16541785, 6.92363847, 6.59080916,\n",
       "       7.90100705, 5.94019757, 5.9255651 , 7.19720329, 7.24422752,\n",
       "       6.21406795, 5.79909265, 7.00306546, 7.22062253, 7.30809394,\n",
       "       7.10085191, 7.39405048, 7.09007684, 6.5220928 , 5.70378247,\n",
       "       6.70930434, 7.54960917, 6.31821107, 6.79794041, 7.24135196,\n",
       "       7.65185695, 7.6306991 , 6.57527108, 6.44565633, 7.00396505,\n",
       "       7.13449237, 6.53680753, 7.11909342, 7.53369371, 6.66939656,\n",
       "       7.07689027, 7.56314867, 5.99146455, 6.50334461, 6.93087592,\n",
       "       7.6126828 , 7.49554194, 6.230757  , 6.79122146, 7.60090246,\n",
       "       6.75343792, 8.13153071, 6.3442143 , 6.42736186, 6.7604031 ,\n",
       "       6.55108034, 7.65444323, 7.43838941, 6.9501057 , 5.97520812,\n",
       "       6.3473717 , 6.48298502, 7.83114873, 7.39848023, 7.17901067,\n",
       "       8.09864588, 7.31386018, 7.57558465, 7.86172708, 6.63331843,\n",
       "       6.16958981, 7.00984244, 6.80240587, 6.47692621, 6.27287701,\n",
       "       6.36648763, 6.91630859, 7.93315868, 6.68461173, 6.99760512,\n",
       "       8.00636757, 5.89943149, 8.08641028, 8.24275635, 7.40853057,\n",
       "       7.49604182, 8.32031419, 7.31385352, 6.66783427, 6.78777734,\n",
       "       6.63593343, 6.75353126, 5.79909265, 6.1737861 , 6.93585671,\n",
       "       7.89313541, 5.77762136, 6.69851463, 6.72756345, 5.79456728,\n",
       "       6.153307  , 6.41336059, 6.39761276, 6.76849321, 7.39018143,\n",
       "       8.0063709 , 6.31171666, 7.24422752, 6.71632839, 7.45097452,\n",
       "       5.98898648, 6.63061742, 6.39692966, 7.74932246, 6.81069357,\n",
       "       7.20785987, 7.29479162, 6.69640442, 7.10660614, 6.70495343,\n",
       "       7.43838353, 6.50128967, 6.62007321, 7.54433211, 6.90902447,\n",
       "       7.60866227, 6.62390585, 6.60716357, 7.40853057, 5.90900642,\n",
       "       6.90775528, 7.34601021, 7.78322402, 7.76217486, 6.90775528,\n",
       "       8.3428398 , 7.37832125, 7.69806093, 6.56316417, 6.45519856,\n",
       "       6.2166061 , 6.54965074, 6.13122649, 5.98951264, 6.55108034,\n",
       "       6.74302214, 6.06378521, 6.39692966, 6.88755257, 8.0063709 ,\n",
       "       6.92416982, 7.00949023, 6.91708165, 7.77689151, 7.7526703 ,\n",
       "       7.7186855 , 6.76680213, 5.74418838, 5.87211779, 7.22767702,\n",
       "       6.99176549, 7.32647219, 7.31322039, 6.01371516, 6.57268805,\n",
       "       6.46985479, 7.07436234, 7.20863735, 6.86788075, 7.31322039,\n",
       "       7.06986563, 5.91269187, 7.40834267, 5.8823191 , 7.60090246,\n",
       "       6.74108657, 7.7186855 , 7.30040529, 6.67203295, 7.56528046,\n",
       "       7.13626839, 6.89060912, 6.80571148, 7.05399187, 5.78213144,\n",
       "       6.85646198, 7.32646561, 7.4831263 , 5.76211427, 7.8860814 ,\n",
       "       7.64382784, 7.78322818, 7.51713491, 6.27814612, 6.64161289,\n",
       "       6.69035769, 7.65120576])"
      ]
     },
     "execution_count": 45,
     "metadata": {},
     "output_type": "execute_result"
    }
   ],
   "source": [
    "y_test"
   ]
  },
  {
   "cell_type": "code",
   "execution_count": 46,
   "id": "5ba46932-4ade-4195-8c88-9bd90e6e3769",
   "metadata": {},
   "outputs": [],
   "source": [
    "del df_train['final_price']\n",
    "del df_val['final_price']\n",
    "del df_test['final_price']"
   ]
  },
  {
   "cell_type": "markdown",
   "id": "519b5ce8-a5ad-4361-8e7b-fb65484af447",
   "metadata": {},
   "source": [
    "#### Question 3.Filling NAs"
   ]
  },
  {
   "cell_type": "code",
   "execution_count": 47,
   "id": "468bc8a8-09f9-4b09-b210-6c6669f65c68",
   "metadata": {},
   "outputs": [
    {
     "data": {
      "text/plain": [
       "ram        0\n",
       "storage    0\n",
       "screen     3\n",
       "dtype: int64"
      ]
     },
     "execution_count": 47,
     "metadata": {},
     "output_type": "execute_result"
    }
   ],
   "source": [
    "df_train.isnull().sum()"
   ]
  },
  {
   "cell_type": "code",
   "execution_count": 48,
   "id": "69e342a6-f170-4bcf-99bc-257388330a61",
   "metadata": {},
   "outputs": [
    {
     "data": {
      "text/plain": [
       "ram        0\n",
       "storage    0\n",
       "screen     0\n",
       "dtype: int64"
      ]
     },
     "execution_count": 48,
     "metadata": {},
     "output_type": "execute_result"
    }
   ],
   "source": [
    "df_train_zero= df_train.fillna(0)\n",
    "df_train_zero.isnull().sum()"
   ]
  },
  {
   "cell_type": "code",
   "execution_count": 50,
   "id": "1c44c68b-750c-4d53-b095-a6d62739c6e6",
   "metadata": {},
   "outputs": [
    {
     "data": {
      "text/plain": [
       "ram        0\n",
       "storage    0\n",
       "screen     0\n",
       "dtype: int64"
      ]
     },
     "execution_count": 50,
     "metadata": {},
     "output_type": "execute_result"
    }
   ],
   "source": [
    "df_train_mean = df_train.copy()\n",
    "df_train_mean['screen'] = df_train['screen'].fillna(df_train['screen'].mean())\n",
    "df_train_mean.isnull().sum()"
   ]
  },
  {
   "cell_type": "code",
   "execution_count": 52,
   "id": "2a1e39b0-3462-478e-acb8-d83310ab9cf7",
   "metadata": {},
   "outputs": [],
   "source": [
    "df_val_zero = df_val.fillna(0)\n",
    "df_val_mean = df_val.copy()\n",
    "df_val_mean['screen'] = df_val['screen'].fillna(df_train['screen'].mean())"
   ]
  },
  {
   "cell_type": "code",
   "execution_count": 54,
   "id": "4c006bd8-5122-4bd4-8d19-a92aef70daf4",
   "metadata": {},
   "outputs": [],
   "source": [
    "def train_linear_regression(X, y):\n",
    "    Xb = np.c_[np.ones(X.shape[0]), X]\n",
    "    z = np.linalg.inv(Xb.T.dot(Xb)).dot(Xb.T).dot(y)\n",
    "    a = z[0]\n",
    "    b = z[1:]\n",
    "\n",
    "    return a, b\n",
    "    \n",
    "    "
   ]
  },
  {
   "cell_type": "code",
   "execution_count": 58,
   "id": "89df4b4b-bf7c-4ba1-ad4c-2461b7545424",
   "metadata": {},
   "outputs": [],
   "source": [
    "def rmse(y, y_p):\n",
    "    se = (y - y_p) ** 2\n",
    "    mse = se.mean()\n",
    "    return np.sqrt(mse)\n",
    "    "
   ]
  },
  {
   "cell_type": "code",
   "execution_count": 59,
   "id": "cc6081df-2332-4a81-8b87-7b9babe1d2ed",
   "metadata": {},
   "outputs": [],
   "source": [
    "def prepare(df):\n",
    "    df = df.copy()\n",
    "    X = df.values\n",
    "    return X"
   ]
  },
  {
   "cell_type": "code",
   "execution_count": 60,
   "id": "2b07b3b0-de93-4798-9064-dd68ed3202ab",
   "metadata": {},
   "outputs": [
    {
     "name": "stdout",
     "output_type": "stream",
     "text": [
      "Fillna 0: 0.43\n",
      " Mean: 0.43\n"
     ]
    }
   ],
   "source": [
    "X_train_zero = prepare(df_train_zero)\n",
    "w0, w = train_linear_regression(X_train_zero, y_train)\n",
    "X_val = prepare(df_val_zero)\n",
    "y_p = w0 + X_val.dot(w)\n",
    "result_zero = rmse(y_val, y_p)\n",
    "\n",
    "X_train_mean = prepare(df_train_mean)\n",
    "w0, w = train_linear_regression(X_train_mean, y_train)\n",
    "y_p = w0 + X_val.dot(w)\n",
    "result_mean = rmse(y_val, y_p)\n",
    "print(f'Fillna 0: {round(result_zero, 2)}\\n Mean: {round(result_mean, 2)}')"
   ]
  },
  {
   "cell_type": "markdown",
   "id": "f0c26eef-2c5a-4405-b309-8a64b5c0a6d0",
   "metadata": {},
   "source": [
    "#### Question 4. Regularization"
   ]
  },
  {
   "cell_type": "code",
   "execution_count": 62,
   "id": "7fa3374f-e5d9-4028-bfe2-926c367d7001",
   "metadata": {},
   "outputs": [],
   "source": [
    "def prepare_X(df): \n",
    "    df = df.copy()\n",
    "    df = df.fillna(0)\n",
    "    X = df.values\n",
    "    return X"
   ]
  },
  {
   "cell_type": "code",
   "execution_count": 63,
   "id": "5aa302fb-b20a-479a-b1af-6584cb5b353e",
   "metadata": {},
   "outputs": [],
   "source": [
    "def train_linear_regression_reg(X, y, r=0.001): \n",
    "\n",
    "    \n",
    "    X_with_bias = np.c_[np.ones(X.shape[0]), X]  \n",
    "\n",
    "   \n",
    "\n",
    "    XTX = X_with_bias.T.dot(X_with_bias)\n",
    "    XTX += r * np.eye(XTX.shape[0])\n",
    "    \n",
    "    theta = np.linalg.inv(XTX).dot(X_with_bias.T).dot(y)\n",
    "    \n",
    "   \n",
    "    b = theta[0]       \n",
    "    w = theta[1:]     \n",
    "    \n",
    "    return b, w"
   ]
  },
  {
   "cell_type": "code",
   "execution_count": 64,
   "id": "5bb33a3f-88b7-46ad-930d-b2d6b6da25c4",
   "metadata": {},
   "outputs": [
    {
     "name": "stdout",
     "output_type": "stream",
     "text": [
      "Before the log1p\n",
      "r is: 0, Weights are: 6.7271637061124805, Score is: 0.43\n",
      "r is: 0.01, Weights are: 6.721004333260219, Score is: 0.43\n",
      "r is: 0.1, Weights are: 6.666075503828108, Score is: 0.43\n",
      "r is: 1, Weights are: 6.162616499461252, Score is: 0.43\n",
      "r is: 5, Weights are: 4.616086176497313, Score is: 0.46\n",
      "r is: 10, Weights are: 3.5167547207936254, Score is: 0.51\n",
      "r is: 100, Weights are: 0.6849263362660136, Score is: 0.67\n"
     ]
    }
   ],
   "source": [
    "print(\"Before the log1p\")\n",
    "for r in [0, 0.01, 0.1, 1, 5, 10, 100]:\n",
    "    X_train = prepare_X(df_train)\n",
    "    w0, w = train_linear_regression_reg(X_train, y_train, r=r) \n",
    "    \n",
    "    X_val = prepare_X(df_val) \n",
    "    y_pred = w0 + X_val.dot(w) \n",
    "    score = rmse(y_val, y_pred)\n",
    "    print(f'r is: {r}, Weights are: {w0}, Score is: {round(score, 2)}')"
   ]
  },
  {
   "cell_type": "code",
   "execution_count": 65,
   "id": "81d636b9-2558-46ba-b79e-0f9108a7df0c",
   "metadata": {},
   "outputs": [
    {
     "name": "stdout",
     "output_type": "stream",
     "text": [
      "After  the log1p \n",
      "r is: 0, Weights are: 6.7271637061124805, Score is: 716.51\n",
      "r is: 0.01, Weights are: 6.721004333260219, Score is: 716.53\n",
      "r is: 0.1, Weights are: 6.666075503828108, Score is: 716.74\n",
      "r is: 1, Weights are: 6.162616499461252, Score is: 720.41\n",
      "r is: 5, Weights are: 4.616086176497313, Score is: 744.13\n",
      "r is: 10, Weights are: 3.5167547207936254, Score is: 772.71\n",
      "r is: 100, Weights are: 0.6849263362660136, Score is: 908.73\n"
     ]
    }
   ],
   "source": [
    "print(\"After  the log1p \")\n",
    "for r in [0, 0.01, 0.1, 1, 5, 10, 100]:\n",
    "    X_train = prepare_X(df_train)\n",
    "    w0, w = train_linear_regression_reg(X_train, y_train, r=r)\n",
    "    \n",
    "    X_val = prepare_X(df_val)\n",
    "    y_pred = w0 + X_val.dot(w) \n",
    "    y_pred_original = np.expm1(y_pred)\n",
    "    y_val_original = np.expm1(y_val)\n",
    "    score = rmse(y_val_original, y_pred_original)\n",
    "    print(f'r is: {r}, Weights are: {w0}, Score is: {round(score, 2)}')"
   ]
  },
  {
   "cell_type": "markdown",
   "id": "7c9cca22-3b62-4ba4-adb7-ca0073de6aa4",
   "metadata": {},
   "source": [
    "#### Question 5. RMSE spread "
   ]
  },
  {
   "cell_type": "code",
   "execution_count": 66,
   "id": "04150928-3143-4309-89f0-3f1cbc626542",
   "metadata": {},
   "outputs": [],
   "source": [
    "def split_dataset(df, seed):\n",
    "    \n",
    "    n = len(df)\n",
    "    df = df.copy()\n",
    "    idx = np.arange(n)\n",
    "    np.random.seed(seed)\n",
    "    np.random.shuffle(idx)\n",
    "\n",
    "    \n",
    "    df_train_seed = df.iloc[idx[:n_train]].reset_index(drop=True)\n",
    "    df_val_seed = df.iloc[idx[n_train:n_train+n_val]].reset_index(drop=True)\n",
    "    df_test_seed = df.iloc[idx[n_train+n_val:]].reset_index(drop=True)\n",
    "\n",
    "\n",
    "    y_train_seed = df_train_seed.pop('final_price').values\n",
    "    y_val_seed = df_val_seed.pop('final_price').values\n",
    "    y_test_seed = df_test_seed.pop('final_price').values\n",
    "\n",
    "    return df_train_seed, df_val_seed, df_test_seed, y_train_seed, y_val_seed, y_test_seed"
   ]
  },
  {
   "cell_type": "code",
   "execution_count": 68,
   "id": "86a4dc9a-9038-4da4-9829-834a7d4b8d8d",
   "metadata": {},
   "outputs": [
    {
     "name": "stdout",
     "output_type": "stream",
     "text": [
      "Seed : 0 and RMSE : 565.4520868770995\n",
      "\n",
      "Seed : 1 and RMSE : 636.7985423056726\n",
      "\n",
      "Seed : 2 and RMSE : 588.955869790796\n",
      "\n",
      "Seed : 3 and RMSE : 597.8148920012515\n",
      "\n",
      "Seed : 4 and RMSE : 571.962791511103\n",
      "\n",
      "Seed : 5 and RMSE : 573.238325661895\n",
      "\n",
      "Seed : 6 and RMSE : 647.3438328407194\n",
      "\n",
      "Seed : 7 and RMSE : 550.4398184485962\n",
      "\n",
      "Seed : 8 and RMSE : 587.3335036169963\n",
      "\n",
      "Seed : 9 and RMSE : 576.101792943313\n",
      "\n",
      "Total RMSE :  [565.4520868770995, 636.7985423056726, 588.955869790796, 597.8148920012515, 571.962791511103, 573.238325661895, 647.3438328407194, 550.4398184485962, 587.3335036169963, 576.101792943313]\n",
      "29.176491258292383\n",
      "\n",
      "Total std :29.176\n"
     ]
    }
   ],
   "source": [
    "score = []\n",
    "for i in [0, 1, 2, 3, 4, 5, 6, 7, 8, 9]:\n",
    "    df_train, df_val, df_test, y_train, y_val, y_test = split_dataset(df, i)\n",
    "    X_train = prepare_X(df_train)\n",
    "    w0, w = train_linear_regression(X_train, y_train)\n",
    "    X_val = prepare_X(df_val) \n",
    "    y_pred = w0 + X_val.dot(w)\n",
    "    score.append(rmse(y_val, y_pred))\n",
    "    print(f\"Seed : {i} and RMSE : {rmse(y_val, y_pred)}\\n\")\n",
    "\n",
    "\n",
    "print(\"Total RMSE : \", score)\n",
    "std = np.std(score)\n",
    "print(std)\n",
    "print(f'\\nTotal std :{round(std, 3)}')"
   ]
  },
  {
   "cell_type": "markdown",
   "id": "ee5ce1bf-a6be-4059-9f39-2d10065cf940",
   "metadata": {},
   "source": [
    "#### Question 6"
   ]
  },
  {
   "cell_type": "code",
   "execution_count": 69,
   "id": "23ca2a17-7d7c-42a3-8816-46cd06e75af5",
   "metadata": {},
   "outputs": [],
   "source": [
    "df_train, df_val, df_test, y_train, y_val, y_test = split_dataset(df, 9)"
   ]
  },
  {
   "cell_type": "code",
   "execution_count": 70,
   "id": "c4d91787-9df4-4245-8c01-96de38eab7c6",
   "metadata": {},
   "outputs": [
    {
     "data": {
      "text/html": [
       "<div>\n",
       "<style scoped>\n",
       "    .dataframe tbody tr th:only-of-type {\n",
       "        vertical-align: middle;\n",
       "    }\n",
       "\n",
       "    .dataframe tbody tr th {\n",
       "        vertical-align: top;\n",
       "    }\n",
       "\n",
       "    .dataframe thead th {\n",
       "        text-align: right;\n",
       "    }\n",
       "</style>\n",
       "<table border=\"1\" class=\"dataframe\">\n",
       "  <thead>\n",
       "    <tr style=\"text-align: right;\">\n",
       "      <th></th>\n",
       "      <th>ram</th>\n",
       "      <th>storage</th>\n",
       "      <th>screen</th>\n",
       "    </tr>\n",
       "  </thead>\n",
       "  <tbody>\n",
       "    <tr>\n",
       "      <th>0</th>\n",
       "      <td>32</td>\n",
       "      <td>1000</td>\n",
       "      <td>15.6</td>\n",
       "    </tr>\n",
       "    <tr>\n",
       "      <th>1</th>\n",
       "      <td>8</td>\n",
       "      <td>512</td>\n",
       "      <td>13.3</td>\n",
       "    </tr>\n",
       "    <tr>\n",
       "      <th>2</th>\n",
       "      <td>8</td>\n",
       "      <td>512</td>\n",
       "      <td>15.6</td>\n",
       "    </tr>\n",
       "    <tr>\n",
       "      <th>3</th>\n",
       "      <td>32</td>\n",
       "      <td>1000</td>\n",
       "      <td>17.3</td>\n",
       "    </tr>\n",
       "    <tr>\n",
       "      <th>4</th>\n",
       "      <td>16</td>\n",
       "      <td>1000</td>\n",
       "      <td>16.0</td>\n",
       "    </tr>\n",
       "    <tr>\n",
       "      <th>...</th>\n",
       "      <td>...</td>\n",
       "      <td>...</td>\n",
       "      <td>...</td>\n",
       "    </tr>\n",
       "    <tr>\n",
       "      <th>1723</th>\n",
       "      <td>16</td>\n",
       "      <td>512</td>\n",
       "      <td>14.0</td>\n",
       "    </tr>\n",
       "    <tr>\n",
       "      <th>1724</th>\n",
       "      <td>16</td>\n",
       "      <td>512</td>\n",
       "      <td>13.3</td>\n",
       "    </tr>\n",
       "    <tr>\n",
       "      <th>1725</th>\n",
       "      <td>8</td>\n",
       "      <td>256</td>\n",
       "      <td>15.6</td>\n",
       "    </tr>\n",
       "    <tr>\n",
       "      <th>1726</th>\n",
       "      <td>16</td>\n",
       "      <td>512</td>\n",
       "      <td>15.6</td>\n",
       "    </tr>\n",
       "    <tr>\n",
       "      <th>1727</th>\n",
       "      <td>16</td>\n",
       "      <td>512</td>\n",
       "      <td>15.6</td>\n",
       "    </tr>\n",
       "  </tbody>\n",
       "</table>\n",
       "<p>1728 rows × 3 columns</p>\n",
       "</div>"
      ],
      "text/plain": [
       "      ram  storage  screen\n",
       "0      32     1000    15.6\n",
       "1       8      512    13.3\n",
       "2       8      512    15.6\n",
       "3      32     1000    17.3\n",
       "4      16     1000    16.0\n",
       "...   ...      ...     ...\n",
       "1723   16      512    14.0\n",
       "1724   16      512    13.3\n",
       "1725    8      256    15.6\n",
       "1726   16      512    15.6\n",
       "1727   16      512    15.6\n",
       "\n",
       "[1728 rows x 3 columns]"
      ]
     },
     "execution_count": 70,
     "metadata": {},
     "output_type": "execute_result"
    }
   ],
   "source": [
    "df_train_val = pd.concat([df_train, df_val])\n",
    "df_train_val = df_train_val.reset_index(drop=True)\n",
    "df_train_val"
   ]
  },
  {
   "cell_type": "code",
   "execution_count": 71,
   "id": "20180eb3-a9a2-464b-8dbb-158dfd3ad435",
   "metadata": {},
   "outputs": [],
   "source": [
    "y_train_val = np.concatenate([y_train, y_val])"
   ]
  },
  {
   "cell_type": "code",
   "execution_count": 73,
   "id": "4b6c5b52-7ded-4482-a2e9-f71593ba39f5",
   "metadata": {},
   "outputs": [
    {
     "data": {
      "text/plain": [
       "608.6099822049559"
      ]
     },
     "execution_count": 73,
     "metadata": {},
     "output_type": "execute_result"
    }
   ],
   "source": [
    "X_train_val = prepare_X(df_train_val)\n",
    "w0, w = train_linear_regression_reg(X_train_val, y_train_val, r=0.001) \n",
    "X_test = prepare_X(df_test) \n",
    "y_pred = w0 + X_test.dot(w)  \n",
    "result = rmse(y_test, y_pred)\n",
    "result"
   ]
  },
  {
   "cell_type": "code",
   "execution_count": null,
   "id": "a16f83ad-67a8-4bd1-9e20-2b1af136ca22",
   "metadata": {},
   "outputs": [],
   "source": []
  }
 ],
 "metadata": {
  "kernelspec": {
   "display_name": "Python 3 (ipykernel)",
   "language": "python",
   "name": "python3"
  },
  "language_info": {
   "codemirror_mode": {
    "name": "ipython",
    "version": 3
   },
   "file_extension": ".py",
   "mimetype": "text/x-python",
   "name": "python",
   "nbconvert_exporter": "python",
   "pygments_lexer": "ipython3",
   "version": "3.11.7"
  }
 },
 "nbformat": 4,
 "nbformat_minor": 5
}
