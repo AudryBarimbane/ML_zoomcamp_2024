{
 "cells": [
  {
   "cell_type": "markdown",
   "id": "bd91fe1f-9b71-4adc-9288-225e469f3dbf",
   "metadata": {},
   "source": [
    "## ML ZoomCamp 2024 - Machine Learning for Regression"
   ]
  },
  {
   "cell_type": "markdown",
   "id": "734c6634-6ffc-4cb1-95e8-722b976e73bc",
   "metadata": {},
   "source": [
    " <p>This project is about creation of a model for helping users to predict car prices.The dataset was obtained from <a href=\"https://www.kaggle.com/datasets/CooperUnion/cardataset\">from this dataset</a></p>"
   ]
  },
  {
   "cell_type": "markdown",
   "id": "f0e00cf0-130c-41bb-91ff-29037c02903a",
   "metadata": {},
   "source": [
    "### Project plan:\n",
    "<ul>\n",
    "    <li>Prepare data and Exploratory Data Analysis(EDA)</li>\n",
    "    <li>Use linear regression for predicting price</li>\n",
    "    <li>Understanding the internals of linear regression</li>\n",
    "    <li>Evaluating the model with RMSE</li>\n",
    "    <li>Feature engineering</li>\n",
    "    <li>Regularization</li>\n",
    "    <li>Using the model</li>\n",
    "</ul>"
   ]
  },
  {
   "cell_type": "markdown",
   "id": "166260bc-16e4-4ed4-87f4-b8fbfe538d6e",
   "metadata": {},
   "source": [
    "### Data preparation - Car price prediction"
   ]
  },
  {
   "cell_type": "markdown",
   "id": "dfaa4633-b877-4eb2-8730-be7e6d970884",
   "metadata": {},
   "source": [
    "#### Loading data and get an overview"
   ]
  },
  {
   "cell_type": "code",
   "execution_count": 3,
   "id": "ec0dcc1b-5daf-475a-bd70-c5626ff01a81",
   "metadata": {},
   "outputs": [],
   "source": [
    "#import libraries\n",
    "import pandas as pd\n",
    "import numpy as np"
   ]
  },
  {
   "cell_type": "code",
   "execution_count": 5,
   "id": "0686c370-0ba0-4076-852e-261feda14c6d",
   "metadata": {},
   "outputs": [],
   "source": [
    "#reading csv file\n",
    "df = pd.read_csv('data.csv')"
   ]
  },
  {
   "cell_type": "code",
   "execution_count": 6,
   "id": "efc3d602-e029-4164-be36-de0028de746a",
   "metadata": {},
   "outputs": [
    {
     "data": {
      "text/html": [
       "<div>\n",
       "<style scoped>\n",
       "    .dataframe tbody tr th:only-of-type {\n",
       "        vertical-align: middle;\n",
       "    }\n",
       "\n",
       "    .dataframe tbody tr th {\n",
       "        vertical-align: top;\n",
       "    }\n",
       "\n",
       "    .dataframe thead th {\n",
       "        text-align: right;\n",
       "    }\n",
       "</style>\n",
       "<table border=\"1\" class=\"dataframe\">\n",
       "  <thead>\n",
       "    <tr style=\"text-align: right;\">\n",
       "      <th></th>\n",
       "      <th>Make</th>\n",
       "      <th>Model</th>\n",
       "      <th>Year</th>\n",
       "      <th>Engine Fuel Type</th>\n",
       "      <th>Engine HP</th>\n",
       "      <th>Engine Cylinders</th>\n",
       "      <th>Transmission Type</th>\n",
       "      <th>Driven_Wheels</th>\n",
       "      <th>Number of Doors</th>\n",
       "      <th>Market Category</th>\n",
       "      <th>Vehicle Size</th>\n",
       "      <th>Vehicle Style</th>\n",
       "      <th>highway MPG</th>\n",
       "      <th>city mpg</th>\n",
       "      <th>Popularity</th>\n",
       "      <th>MSRP</th>\n",
       "    </tr>\n",
       "  </thead>\n",
       "  <tbody>\n",
       "    <tr>\n",
       "      <th>0</th>\n",
       "      <td>BMW</td>\n",
       "      <td>1 Series M</td>\n",
       "      <td>2011</td>\n",
       "      <td>premium unleaded (required)</td>\n",
       "      <td>335.0</td>\n",
       "      <td>6.0</td>\n",
       "      <td>MANUAL</td>\n",
       "      <td>rear wheel drive</td>\n",
       "      <td>2.0</td>\n",
       "      <td>Factory Tuner,Luxury,High-Performance</td>\n",
       "      <td>Compact</td>\n",
       "      <td>Coupe</td>\n",
       "      <td>26</td>\n",
       "      <td>19</td>\n",
       "      <td>3916</td>\n",
       "      <td>46135</td>\n",
       "    </tr>\n",
       "    <tr>\n",
       "      <th>1</th>\n",
       "      <td>BMW</td>\n",
       "      <td>1 Series</td>\n",
       "      <td>2011</td>\n",
       "      <td>premium unleaded (required)</td>\n",
       "      <td>300.0</td>\n",
       "      <td>6.0</td>\n",
       "      <td>MANUAL</td>\n",
       "      <td>rear wheel drive</td>\n",
       "      <td>2.0</td>\n",
       "      <td>Luxury,Performance</td>\n",
       "      <td>Compact</td>\n",
       "      <td>Convertible</td>\n",
       "      <td>28</td>\n",
       "      <td>19</td>\n",
       "      <td>3916</td>\n",
       "      <td>40650</td>\n",
       "    </tr>\n",
       "    <tr>\n",
       "      <th>2</th>\n",
       "      <td>BMW</td>\n",
       "      <td>1 Series</td>\n",
       "      <td>2011</td>\n",
       "      <td>premium unleaded (required)</td>\n",
       "      <td>300.0</td>\n",
       "      <td>6.0</td>\n",
       "      <td>MANUAL</td>\n",
       "      <td>rear wheel drive</td>\n",
       "      <td>2.0</td>\n",
       "      <td>Luxury,High-Performance</td>\n",
       "      <td>Compact</td>\n",
       "      <td>Coupe</td>\n",
       "      <td>28</td>\n",
       "      <td>20</td>\n",
       "      <td>3916</td>\n",
       "      <td>36350</td>\n",
       "    </tr>\n",
       "    <tr>\n",
       "      <th>3</th>\n",
       "      <td>BMW</td>\n",
       "      <td>1 Series</td>\n",
       "      <td>2011</td>\n",
       "      <td>premium unleaded (required)</td>\n",
       "      <td>230.0</td>\n",
       "      <td>6.0</td>\n",
       "      <td>MANUAL</td>\n",
       "      <td>rear wheel drive</td>\n",
       "      <td>2.0</td>\n",
       "      <td>Luxury,Performance</td>\n",
       "      <td>Compact</td>\n",
       "      <td>Coupe</td>\n",
       "      <td>28</td>\n",
       "      <td>18</td>\n",
       "      <td>3916</td>\n",
       "      <td>29450</td>\n",
       "    </tr>\n",
       "    <tr>\n",
       "      <th>4</th>\n",
       "      <td>BMW</td>\n",
       "      <td>1 Series</td>\n",
       "      <td>2011</td>\n",
       "      <td>premium unleaded (required)</td>\n",
       "      <td>230.0</td>\n",
       "      <td>6.0</td>\n",
       "      <td>MANUAL</td>\n",
       "      <td>rear wheel drive</td>\n",
       "      <td>2.0</td>\n",
       "      <td>Luxury</td>\n",
       "      <td>Compact</td>\n",
       "      <td>Convertible</td>\n",
       "      <td>28</td>\n",
       "      <td>18</td>\n",
       "      <td>3916</td>\n",
       "      <td>34500</td>\n",
       "    </tr>\n",
       "  </tbody>\n",
       "</table>\n",
       "</div>"
      ],
      "text/plain": [
       "  Make       Model  Year             Engine Fuel Type  Engine HP  \\\n",
       "0  BMW  1 Series M  2011  premium unleaded (required)      335.0   \n",
       "1  BMW    1 Series  2011  premium unleaded (required)      300.0   \n",
       "2  BMW    1 Series  2011  premium unleaded (required)      300.0   \n",
       "3  BMW    1 Series  2011  premium unleaded (required)      230.0   \n",
       "4  BMW    1 Series  2011  premium unleaded (required)      230.0   \n",
       "\n",
       "   Engine Cylinders Transmission Type     Driven_Wheels  Number of Doors  \\\n",
       "0               6.0            MANUAL  rear wheel drive              2.0   \n",
       "1               6.0            MANUAL  rear wheel drive              2.0   \n",
       "2               6.0            MANUAL  rear wheel drive              2.0   \n",
       "3               6.0            MANUAL  rear wheel drive              2.0   \n",
       "4               6.0            MANUAL  rear wheel drive              2.0   \n",
       "\n",
       "                         Market Category Vehicle Size Vehicle Style  \\\n",
       "0  Factory Tuner,Luxury,High-Performance      Compact         Coupe   \n",
       "1                     Luxury,Performance      Compact   Convertible   \n",
       "2                Luxury,High-Performance      Compact         Coupe   \n",
       "3                     Luxury,Performance      Compact         Coupe   \n",
       "4                                 Luxury      Compact   Convertible   \n",
       "\n",
       "   highway MPG  city mpg  Popularity   MSRP  \n",
       "0           26        19        3916  46135  \n",
       "1           28        19        3916  40650  \n",
       "2           28        20        3916  36350  \n",
       "3           28        18        3916  29450  \n",
       "4           28        18        3916  34500  "
      ]
     },
     "execution_count": 6,
     "metadata": {},
     "output_type": "execute_result"
    }
   ],
   "source": [
    "#getting first overview after downloading\n",
    "df.head()\n"
   ]
  },
  {
   "cell_type": "code",
   "execution_count": 7,
   "id": "56af90ed-3c33-43e8-aff4-745c076b3b35",
   "metadata": {},
   "outputs": [
    {
     "data": {
      "text/plain": [
       "0           MANUAL\n",
       "1           MANUAL\n",
       "2           MANUAL\n",
       "3           MANUAL\n",
       "4           MANUAL\n",
       "           ...    \n",
       "11909    AUTOMATIC\n",
       "11910    AUTOMATIC\n",
       "11911    AUTOMATIC\n",
       "11912    AUTOMATIC\n",
       "11913    AUTOMATIC\n",
       "Name: Transmission Type, Length: 11914, dtype: object"
      ]
     },
     "execution_count": 7,
     "metadata": {},
     "output_type": "execute_result"
    }
   ],
   "source": [
    "df['Transmission Type']"
   ]
  },
  {
   "cell_type": "code",
   "execution_count": 8,
   "id": "f263465a-eec8-4f95-bba5-1f57451d71b3",
   "metadata": {},
   "outputs": [
    {
     "ename": "SyntaxError",
     "evalue": "invalid syntax (2384802771.py, line 1)",
     "output_type": "error",
     "traceback": [
      "\u001b[1;36m  Cell \u001b[1;32mIn[8], line 1\u001b[1;36m\u001b[0m\n\u001b[1;33m    df.Transmission Type\u001b[0m\n\u001b[1;37m                    ^\u001b[0m\n\u001b[1;31mSyntaxError\u001b[0m\u001b[1;31m:\u001b[0m invalid syntax\n"
     ]
    }
   ],
   "source": [
    "df.Transmission Type"
   ]
  },
  {
   "cell_type": "code",
   "execution_count": 9,
   "id": "48abbcb7-bd73-45a1-bfbb-aa3d63dde145",
   "metadata": {},
   "outputs": [],
   "source": [
    "#what we can see here , there is some inconsistency in the way of naming columns\n",
    "# sometimes the columns have underscores , sometimes not,sometimes the columns have capital letters, sometimes not\n",
    "\n",
    "#df['Transformation Type'] is working\n",
    "#df.Transformation Type is not working beacause of space"
   ]
  },
  {
   "cell_type": "markdown",
   "id": "181668d3-20e2-4c8c-8387-dfa798e0d71c",
   "metadata": {},
   "source": [
    "### Cleaning "
   ]
  },
  {
   "cell_type": "markdown",
   "id": "a4cf69bd-e8df-4eed-abf4-c8a5f2d68c07",
   "metadata": {},
   "source": [
    "<p>To make the columns more consistent we might decide to make them all lowercased and we might replace spaces with underscores.</p>\n",
    "<p>The following code snippets show how to get this.</p>"
   ]
  },
  {
   "cell_type": "code",
   "execution_count": 1,
   "id": "6dcbf3f4-5e39-474f-ac4a-56fffea49342",
   "metadata": {},
   "outputs": [
    {
     "ename": "NameError",
     "evalue": "name 'df' is not defined",
     "output_type": "error",
     "traceback": [
      "\u001b[1;31m---------------------------------------------------------------------------\u001b[0m",
      "\u001b[1;31mNameError\u001b[0m                                 Traceback (most recent call last)",
      "Cell \u001b[1;32mIn[1], line 5\u001b[0m\n\u001b[0;32m      1\u001b[0m \u001b[38;5;66;03m# Pandas DataFrame has a field called columns, \u001b[39;00m\n\u001b[0;32m      2\u001b[0m \u001b[38;5;66;03m# that contains the name of the columns\u001b[39;00m\n\u001b[0;32m      3\u001b[0m \u001b[38;5;66;03m# columns is an index, that is a special data structure \u001b[39;00m\n\u001b[0;32m      4\u001b[0m \u001b[38;5;66;03m# in Pandas (very similar to series)\u001b[39;00m\n\u001b[1;32m----> 5\u001b[0m df\u001b[38;5;241m.\u001b[39mcolumns\n",
      "\u001b[1;31mNameError\u001b[0m: name 'df' is not defined"
     ]
    }
   ],
   "source": [
    "# Pandas DataFrame has a field called columns, \n",
    "# that contains the name of the columns\n",
    "# columns is an index, that is a special data structure \n",
    "# in Pandas (very similar to series)\n",
    "df.columns"
   ]
  },
  {
   "cell_type": "code",
   "execution_count": 10,
   "id": "aba6aab1-87f2-4cee-a59f-4fbc1d9c815a",
   "metadata": {},
   "outputs": [
    {
     "data": {
      "text/html": [
       "<div>\n",
       "<style scoped>\n",
       "    .dataframe tbody tr th:only-of-type {\n",
       "        vertical-align: middle;\n",
       "    }\n",
       "\n",
       "    .dataframe tbody tr th {\n",
       "        vertical-align: top;\n",
       "    }\n",
       "\n",
       "    .dataframe thead th {\n",
       "        text-align: right;\n",
       "    }\n",
       "</style>\n",
       "<table border=\"1\" class=\"dataframe\">\n",
       "  <thead>\n",
       "    <tr style=\"text-align: right;\">\n",
       "      <th></th>\n",
       "      <th>make</th>\n",
       "      <th>model</th>\n",
       "      <th>year</th>\n",
       "      <th>engine_fuel_type</th>\n",
       "      <th>engine_hp</th>\n",
       "      <th>engine_cylinders</th>\n",
       "      <th>transmission_type</th>\n",
       "      <th>driven_wheels</th>\n",
       "      <th>number_of_doors</th>\n",
       "      <th>market_category</th>\n",
       "      <th>vehicle_size</th>\n",
       "      <th>vehicle_style</th>\n",
       "      <th>highway_mpg</th>\n",
       "      <th>city_mpg</th>\n",
       "      <th>popularity</th>\n",
       "      <th>msrp</th>\n",
       "    </tr>\n",
       "  </thead>\n",
       "  <tbody>\n",
       "    <tr>\n",
       "      <th>0</th>\n",
       "      <td>BMW</td>\n",
       "      <td>1 Series M</td>\n",
       "      <td>2011</td>\n",
       "      <td>premium unleaded (required)</td>\n",
       "      <td>335.0</td>\n",
       "      <td>6.0</td>\n",
       "      <td>MANUAL</td>\n",
       "      <td>rear wheel drive</td>\n",
       "      <td>2.0</td>\n",
       "      <td>Factory Tuner,Luxury,High-Performance</td>\n",
       "      <td>Compact</td>\n",
       "      <td>Coupe</td>\n",
       "      <td>26</td>\n",
       "      <td>19</td>\n",
       "      <td>3916</td>\n",
       "      <td>46135</td>\n",
       "    </tr>\n",
       "    <tr>\n",
       "      <th>1</th>\n",
       "      <td>BMW</td>\n",
       "      <td>1 Series</td>\n",
       "      <td>2011</td>\n",
       "      <td>premium unleaded (required)</td>\n",
       "      <td>300.0</td>\n",
       "      <td>6.0</td>\n",
       "      <td>MANUAL</td>\n",
       "      <td>rear wheel drive</td>\n",
       "      <td>2.0</td>\n",
       "      <td>Luxury,Performance</td>\n",
       "      <td>Compact</td>\n",
       "      <td>Convertible</td>\n",
       "      <td>28</td>\n",
       "      <td>19</td>\n",
       "      <td>3916</td>\n",
       "      <td>40650</td>\n",
       "    </tr>\n",
       "    <tr>\n",
       "      <th>2</th>\n",
       "      <td>BMW</td>\n",
       "      <td>1 Series</td>\n",
       "      <td>2011</td>\n",
       "      <td>premium unleaded (required)</td>\n",
       "      <td>300.0</td>\n",
       "      <td>6.0</td>\n",
       "      <td>MANUAL</td>\n",
       "      <td>rear wheel drive</td>\n",
       "      <td>2.0</td>\n",
       "      <td>Luxury,High-Performance</td>\n",
       "      <td>Compact</td>\n",
       "      <td>Coupe</td>\n",
       "      <td>28</td>\n",
       "      <td>20</td>\n",
       "      <td>3916</td>\n",
       "      <td>36350</td>\n",
       "    </tr>\n",
       "    <tr>\n",
       "      <th>3</th>\n",
       "      <td>BMW</td>\n",
       "      <td>1 Series</td>\n",
       "      <td>2011</td>\n",
       "      <td>premium unleaded (required)</td>\n",
       "      <td>230.0</td>\n",
       "      <td>6.0</td>\n",
       "      <td>MANUAL</td>\n",
       "      <td>rear wheel drive</td>\n",
       "      <td>2.0</td>\n",
       "      <td>Luxury,Performance</td>\n",
       "      <td>Compact</td>\n",
       "      <td>Coupe</td>\n",
       "      <td>28</td>\n",
       "      <td>18</td>\n",
       "      <td>3916</td>\n",
       "      <td>29450</td>\n",
       "    </tr>\n",
       "    <tr>\n",
       "      <th>4</th>\n",
       "      <td>BMW</td>\n",
       "      <td>1 Series</td>\n",
       "      <td>2011</td>\n",
       "      <td>premium unleaded (required)</td>\n",
       "      <td>230.0</td>\n",
       "      <td>6.0</td>\n",
       "      <td>MANUAL</td>\n",
       "      <td>rear wheel drive</td>\n",
       "      <td>2.0</td>\n",
       "      <td>Luxury</td>\n",
       "      <td>Compact</td>\n",
       "      <td>Convertible</td>\n",
       "      <td>28</td>\n",
       "      <td>18</td>\n",
       "      <td>3916</td>\n",
       "      <td>34500</td>\n",
       "    </tr>\n",
       "  </tbody>\n",
       "</table>\n",
       "</div>"
      ],
      "text/plain": [
       "  make       model  year             engine_fuel_type  engine_hp  \\\n",
       "0  BMW  1 Series M  2011  premium unleaded (required)      335.0   \n",
       "1  BMW    1 Series  2011  premium unleaded (required)      300.0   \n",
       "2  BMW    1 Series  2011  premium unleaded (required)      300.0   \n",
       "3  BMW    1 Series  2011  premium unleaded (required)      230.0   \n",
       "4  BMW    1 Series  2011  premium unleaded (required)      230.0   \n",
       "\n",
       "   engine_cylinders transmission_type     driven_wheels  number_of_doors  \\\n",
       "0               6.0            MANUAL  rear wheel drive              2.0   \n",
       "1               6.0            MANUAL  rear wheel drive              2.0   \n",
       "2               6.0            MANUAL  rear wheel drive              2.0   \n",
       "3               6.0            MANUAL  rear wheel drive              2.0   \n",
       "4               6.0            MANUAL  rear wheel drive              2.0   \n",
       "\n",
       "                         market_category vehicle_size vehicle_style  \\\n",
       "0  Factory Tuner,Luxury,High-Performance      Compact         Coupe   \n",
       "1                     Luxury,Performance      Compact   Convertible   \n",
       "2                Luxury,High-Performance      Compact         Coupe   \n",
       "3                     Luxury,Performance      Compact         Coupe   \n",
       "4                                 Luxury      Compact   Convertible   \n",
       "\n",
       "   highway_mpg  city_mpg  popularity   msrp  \n",
       "0           26        19        3916  46135  \n",
       "1           28        19        3916  40650  \n",
       "2           28        20        3916  36350  \n",
       "3           28        18        3916  29450  \n",
       "4           28        18        3916  34500  "
      ]
     },
     "execution_count": 10,
     "metadata": {},
     "output_type": "execute_result"
    }
   ],
   "source": [
    "# like series it also has the str method for doing string \n",
    "# manipulation what we can do now is to apply the same \n",
    "# string function to all column names\n",
    "df.columns = df.columns.str.lower().str.replace(' ','_')\n",
    "df.head()"
   ]
  },
  {
   "cell_type": "markdown",
   "id": "670fe939-7dec-40e2-9b13-97677ea46c98",
   "metadata": {},
   "source": [
    "##### Actually we have the same problems with the values. Before we can apply that, we need to detect all string columns, \n",
    "##### because the str function works only on strings."
   ]
  },
  {
   "cell_type": "code",
   "execution_count": 11,
   "id": "f3819209-e5c6-4d05-b93c-0070b4ef5b54",
   "metadata": {},
   "outputs": [
    {
     "data": {
      "text/plain": [
       "make                  object\n",
       "model                 object\n",
       "year                   int64\n",
       "engine_fuel_type      object\n",
       "engine_hp            float64\n",
       "engine_cylinders     float64\n",
       "transmission_type     object\n",
       "driven_wheels         object\n",
       "number_of_doors      float64\n",
       "market_category       object\n",
       "vehicle_size          object\n",
       "vehicle_style         object\n",
       "highway_mpg            int64\n",
       "city_mpg               int64\n",
       "popularity             int64\n",
       "msrp                   int64\n",
       "dtype: object"
      ]
     },
     "execution_count": 11,
     "metadata": {},
     "output_type": "execute_result"
    }
   ],
   "source": [
    "df.dtypes\n"
   ]
  },
  {
   "cell_type": "code",
   "execution_count": 12,
   "id": "1925b534-6f3f-4c24-9fe8-340ba54889a9",
   "metadata": {},
   "outputs": [
    {
     "data": {
      "text/plain": [
       "make                  True\n",
       "model                 True\n",
       "year                 False\n",
       "engine_fuel_type      True\n",
       "engine_hp            False\n",
       "engine_cylinders     False\n",
       "transmission_type     True\n",
       "driven_wheels         True\n",
       "number_of_doors      False\n",
       "market_category       True\n",
       "vehicle_size          True\n",
       "vehicle_style         True\n",
       "highway_mpg          False\n",
       "city_mpg             False\n",
       "popularity           False\n",
       "msrp                 False\n",
       "dtype: bool"
      ]
     },
     "execution_count": 12,
     "metadata": {},
     "output_type": "execute_result"
    }
   ],
   "source": [
    "# to select only the object\n",
    "df.dtypes == 'object'"
   ]
  },
  {
   "cell_type": "markdown",
   "id": "b02fa7e2-d88e-4b20-b37a-b268600f6c97",
   "metadata": {},
   "source": [
    "##### The output of the last line of code in the last snippet are the values and the index of the series.\n",
    "##### We’re not interested in values here, but we’re interested in the names.\n"
   ]
  },
  {
   "cell_type": "code",
   "execution_count": 13,
   "id": "d1a95000-f379-4472-80d7-3f5a43105339",
   "metadata": {},
   "outputs": [
    {
     "data": {
      "text/plain": [
       "['make',\n",
       " 'model',\n",
       " 'engine_fuel_type',\n",
       " 'transmission_type',\n",
       " 'driven_wheels',\n",
       " 'market_category',\n",
       " 'vehicle_size',\n",
       " 'vehicle_style']"
      ]
     },
     "execution_count": 13,
     "metadata": {},
     "output_type": "execute_result"
    }
   ],
   "source": [
    "# Get access to the index of that series \n",
    "# Converting it to a python list with name strings\n",
    "strings = list(df.dtypes[df.dtypes == 'object'].index)\n",
    "strings"
   ]
  },
  {
   "cell_type": "markdown",
   "id": "e27c6a68-d381-4681-bfe0-66aa460bf587",
   "metadata": {},
   "source": [
    "##### Similar to what we’ve done with the column names we want to apply to the specified columns."
   ]
  },
  {
   "cell_type": "code",
   "execution_count": 14,
   "id": "6ff43d90-7a96-4478-9da8-65d9a6727755",
   "metadata": {},
   "outputs": [
    {
     "data": {
      "text/html": [
       "<div>\n",
       "<style scoped>\n",
       "    .dataframe tbody tr th:only-of-type {\n",
       "        vertical-align: middle;\n",
       "    }\n",
       "\n",
       "    .dataframe tbody tr th {\n",
       "        vertical-align: top;\n",
       "    }\n",
       "\n",
       "    .dataframe thead th {\n",
       "        text-align: right;\n",
       "    }\n",
       "</style>\n",
       "<table border=\"1\" class=\"dataframe\">\n",
       "  <thead>\n",
       "    <tr style=\"text-align: right;\">\n",
       "      <th></th>\n",
       "      <th>make</th>\n",
       "      <th>model</th>\n",
       "      <th>year</th>\n",
       "      <th>engine_fuel_type</th>\n",
       "      <th>engine_hp</th>\n",
       "      <th>engine_cylinders</th>\n",
       "      <th>transmission_type</th>\n",
       "      <th>driven_wheels</th>\n",
       "      <th>number_of_doors</th>\n",
       "      <th>market_category</th>\n",
       "      <th>vehicle_size</th>\n",
       "      <th>vehicle_style</th>\n",
       "      <th>highway_mpg</th>\n",
       "      <th>city_mpg</th>\n",
       "      <th>popularity</th>\n",
       "      <th>msrp</th>\n",
       "    </tr>\n",
       "  </thead>\n",
       "  <tbody>\n",
       "    <tr>\n",
       "      <th>0</th>\n",
       "      <td>bmw</td>\n",
       "      <td>1_series_m</td>\n",
       "      <td>2011</td>\n",
       "      <td>premium_unleaded_(required)</td>\n",
       "      <td>335.0</td>\n",
       "      <td>6.0</td>\n",
       "      <td>manual</td>\n",
       "      <td>rear_wheel_drive</td>\n",
       "      <td>2.0</td>\n",
       "      <td>factory_tuner,luxury,high-performance</td>\n",
       "      <td>compact</td>\n",
       "      <td>coupe</td>\n",
       "      <td>26</td>\n",
       "      <td>19</td>\n",
       "      <td>3916</td>\n",
       "      <td>46135</td>\n",
       "    </tr>\n",
       "    <tr>\n",
       "      <th>1</th>\n",
       "      <td>bmw</td>\n",
       "      <td>1_series</td>\n",
       "      <td>2011</td>\n",
       "      <td>premium_unleaded_(required)</td>\n",
       "      <td>300.0</td>\n",
       "      <td>6.0</td>\n",
       "      <td>manual</td>\n",
       "      <td>rear_wheel_drive</td>\n",
       "      <td>2.0</td>\n",
       "      <td>luxury,performance</td>\n",
       "      <td>compact</td>\n",
       "      <td>convertible</td>\n",
       "      <td>28</td>\n",
       "      <td>19</td>\n",
       "      <td>3916</td>\n",
       "      <td>40650</td>\n",
       "    </tr>\n",
       "    <tr>\n",
       "      <th>2</th>\n",
       "      <td>bmw</td>\n",
       "      <td>1_series</td>\n",
       "      <td>2011</td>\n",
       "      <td>premium_unleaded_(required)</td>\n",
       "      <td>300.0</td>\n",
       "      <td>6.0</td>\n",
       "      <td>manual</td>\n",
       "      <td>rear_wheel_drive</td>\n",
       "      <td>2.0</td>\n",
       "      <td>luxury,high-performance</td>\n",
       "      <td>compact</td>\n",
       "      <td>coupe</td>\n",
       "      <td>28</td>\n",
       "      <td>20</td>\n",
       "      <td>3916</td>\n",
       "      <td>36350</td>\n",
       "    </tr>\n",
       "    <tr>\n",
       "      <th>3</th>\n",
       "      <td>bmw</td>\n",
       "      <td>1_series</td>\n",
       "      <td>2011</td>\n",
       "      <td>premium_unleaded_(required)</td>\n",
       "      <td>230.0</td>\n",
       "      <td>6.0</td>\n",
       "      <td>manual</td>\n",
       "      <td>rear_wheel_drive</td>\n",
       "      <td>2.0</td>\n",
       "      <td>luxury,performance</td>\n",
       "      <td>compact</td>\n",
       "      <td>coupe</td>\n",
       "      <td>28</td>\n",
       "      <td>18</td>\n",
       "      <td>3916</td>\n",
       "      <td>29450</td>\n",
       "    </tr>\n",
       "    <tr>\n",
       "      <th>4</th>\n",
       "      <td>bmw</td>\n",
       "      <td>1_series</td>\n",
       "      <td>2011</td>\n",
       "      <td>premium_unleaded_(required)</td>\n",
       "      <td>230.0</td>\n",
       "      <td>6.0</td>\n",
       "      <td>manual</td>\n",
       "      <td>rear_wheel_drive</td>\n",
       "      <td>2.0</td>\n",
       "      <td>luxury</td>\n",
       "      <td>compact</td>\n",
       "      <td>convertible</td>\n",
       "      <td>28</td>\n",
       "      <td>18</td>\n",
       "      <td>3916</td>\n",
       "      <td>34500</td>\n",
       "    </tr>\n",
       "  </tbody>\n",
       "</table>\n",
       "</div>"
      ],
      "text/plain": [
       "  make       model  year             engine_fuel_type  engine_hp  \\\n",
       "0  bmw  1_series_m  2011  premium_unleaded_(required)      335.0   \n",
       "1  bmw    1_series  2011  premium_unleaded_(required)      300.0   \n",
       "2  bmw    1_series  2011  premium_unleaded_(required)      300.0   \n",
       "3  bmw    1_series  2011  premium_unleaded_(required)      230.0   \n",
       "4  bmw    1_series  2011  premium_unleaded_(required)      230.0   \n",
       "\n",
       "   engine_cylinders transmission_type     driven_wheels  number_of_doors  \\\n",
       "0               6.0            manual  rear_wheel_drive              2.0   \n",
       "1               6.0            manual  rear_wheel_drive              2.0   \n",
       "2               6.0            manual  rear_wheel_drive              2.0   \n",
       "3               6.0            manual  rear_wheel_drive              2.0   \n",
       "4               6.0            manual  rear_wheel_drive              2.0   \n",
       "\n",
       "                         market_category vehicle_size vehicle_style  \\\n",
       "0  factory_tuner,luxury,high-performance      compact         coupe   \n",
       "1                     luxury,performance      compact   convertible   \n",
       "2                luxury,high-performance      compact         coupe   \n",
       "3                     luxury,performance      compact         coupe   \n",
       "4                                 luxury      compact   convertible   \n",
       "\n",
       "   highway_mpg  city_mpg  popularity   msrp  \n",
       "0           26        19        3916  46135  \n",
       "1           28        19        3916  40650  \n",
       "2           28        20        3916  36350  \n",
       "3           28        18        3916  29450  \n",
       "4           28        18        3916  34500  "
      ]
     },
     "execution_count": 14,
     "metadata": {},
     "output_type": "execute_result"
    }
   ],
   "source": [
    "df['make'].str.lower().str.replace(' ','_')\n",
    " \n",
    "# Better way\n",
    "for col in strings:\n",
    "    df[col] = df[col].str.lower().str.replace(' ','_')\n",
    " \n",
    "df.head()"
   ]
  },
  {
   "cell_type": "markdown",
   "id": "ad437043-a383-456f-85b3-f508b1271955",
   "metadata": {},
   "source": [
    "### EDA"
   ]
  },
  {
   "cell_type": "markdown",
   "id": "16d8d822-9348-4c01-817d-60a9003aee03",
   "metadata": {},
   "source": [
    "#### Getting an overview"
   ]
  },
  {
   "cell_type": "code",
   "execution_count": 15,
   "id": "43ca775a-11c4-46c8-a707-7db2534400ef",
   "metadata": {},
   "outputs": [
    {
     "name": "stdout",
     "output_type": "stream",
     "text": [
      "make\n",
      "0    bmw\n",
      "1    bmw\n",
      "2    bmw\n",
      "3    bmw\n",
      "4    bmw\n",
      "Name: make, dtype: object\n",
      "\n",
      "model\n",
      "0    1_series_m\n",
      "1      1_series\n",
      "2      1_series\n",
      "3      1_series\n",
      "4      1_series\n",
      "Name: model, dtype: object\n",
      "\n",
      "year\n",
      "0    2011\n",
      "1    2011\n",
      "2    2011\n",
      "3    2011\n",
      "4    2011\n",
      "Name: year, dtype: int64\n",
      "\n",
      "engine_fuel_type\n",
      "0    premium_unleaded_(required)\n",
      "1    premium_unleaded_(required)\n",
      "2    premium_unleaded_(required)\n",
      "3    premium_unleaded_(required)\n",
      "4    premium_unleaded_(required)\n",
      "Name: engine_fuel_type, dtype: object\n",
      "\n",
      "engine_hp\n",
      "0    335.0\n",
      "1    300.0\n",
      "2    300.0\n",
      "3    230.0\n",
      "4    230.0\n",
      "Name: engine_hp, dtype: float64\n",
      "\n",
      "engine_cylinders\n",
      "0    6.0\n",
      "1    6.0\n",
      "2    6.0\n",
      "3    6.0\n",
      "4    6.0\n",
      "Name: engine_cylinders, dtype: float64\n",
      "\n",
      "transmission_type\n",
      "0    manual\n",
      "1    manual\n",
      "2    manual\n",
      "3    manual\n",
      "4    manual\n",
      "Name: transmission_type, dtype: object\n",
      "\n",
      "driven_wheels\n",
      "0    rear_wheel_drive\n",
      "1    rear_wheel_drive\n",
      "2    rear_wheel_drive\n",
      "3    rear_wheel_drive\n",
      "4    rear_wheel_drive\n",
      "Name: driven_wheels, dtype: object\n",
      "\n",
      "number_of_doors\n",
      "0    2.0\n",
      "1    2.0\n",
      "2    2.0\n",
      "3    2.0\n",
      "4    2.0\n",
      "Name: number_of_doors, dtype: float64\n",
      "\n",
      "market_category\n",
      "0    factory_tuner,luxury,high-performance\n",
      "1                       luxury,performance\n",
      "2                  luxury,high-performance\n",
      "3                       luxury,performance\n",
      "4                                   luxury\n",
      "Name: market_category, dtype: object\n",
      "\n",
      "vehicle_size\n",
      "0    compact\n",
      "1    compact\n",
      "2    compact\n",
      "3    compact\n",
      "4    compact\n",
      "Name: vehicle_size, dtype: object\n",
      "\n",
      "vehicle_style\n",
      "0          coupe\n",
      "1    convertible\n",
      "2          coupe\n",
      "3          coupe\n",
      "4    convertible\n",
      "Name: vehicle_style, dtype: object\n",
      "\n",
      "highway_mpg\n",
      "0    26\n",
      "1    28\n",
      "2    28\n",
      "3    28\n",
      "4    28\n",
      "Name: highway_mpg, dtype: int64\n",
      "\n",
      "city_mpg\n",
      "0    19\n",
      "1    19\n",
      "2    20\n",
      "3    18\n",
      "4    18\n",
      "Name: city_mpg, dtype: int64\n",
      "\n",
      "popularity\n",
      "0    3916\n",
      "1    3916\n",
      "2    3916\n",
      "3    3916\n",
      "4    3916\n",
      "Name: popularity, dtype: int64\n",
      "\n",
      "msrp\n",
      "0    46135\n",
      "1    40650\n",
      "2    36350\n",
      "3    29450\n",
      "4    34500\n",
      "Name: msrp, dtype: int64\n",
      "\n"
     ]
    }
   ],
   "source": [
    "for col in df.columns:\n",
    "    print(col)\n",
    "    print(df[col].head())\n",
    "    print()"
   ]
  },
  {
   "cell_type": "code",
   "execution_count": 16,
   "id": "3f8b3b1d-0672-4e4f-b5e2-a88e01943a52",
   "metadata": {},
   "outputs": [
    {
     "name": "stdout",
     "output_type": "stream",
     "text": [
      "make\n",
      "['bmw' 'audi' 'fiat' 'mercedes-benz' 'chrysler' 'nissan' 'volvo' 'mazda'\n",
      " 'mitsubishi' 'ferrari' 'alfa_romeo' 'toyota' 'mclaren' 'maybach'\n",
      " 'pontiac' 'porsche' 'saab' 'gmc' 'hyundai' 'plymouth' 'honda'\n",
      " 'oldsmobile' 'suzuki' 'ford' 'cadillac' 'kia' 'bentley' 'chevrolet'\n",
      " 'dodge' 'lamborghini' 'lincoln' 'subaru' 'volkswagen' 'spyker' 'buick'\n",
      " 'acura' 'rolls-royce' 'maserati' 'lexus' 'aston_martin' 'land_rover'\n",
      " 'lotus' 'infiniti' 'scion' 'genesis' 'hummer' 'tesla' 'bugatti']\n",
      "number of unique values:  48\n",
      "\n",
      "model\n",
      "['1_series_m' '1_series' '100' '124_spider' '190-class' '2_series' '200'\n",
      " '200sx' '240sx' '240' '2' '3_series_gran_turismo' '3_series' '300-class'\n",
      " '3000gt' '300' '300m' '300zx' '323' '350-class' '350z' '360' '370z' '3'\n",
      " '4_series_gran_coupe' '4_series' '400-class' '420-class' '456m'\n",
      " '458_italia' '4c' '4runner' '5_series_gran_turismo' '5_series'\n",
      " '500-class' '500e' '500' '500l' '500x' '550' '560-class' '570s' '575m'\n",
      " '57' '599' '5' '6_series_gran_coupe' '6_series' '600-class' '6000'\n",
      " '612_scaglietti' '626' '62' '650s_coupe' '650s_spider' '6' '7_series'\n",
      " '718_cayman' '740' '760' '780' '8_series' '80' '850' '86' '9-2x'\n",
      " '9-3_griffin' '9-3' '9-4x' '9-5' '9-7x' '9000' '900' '90' '911' '928'\n",
      " '929' '940' '944' '960' '968' 'a3' 'a4_allroad' 'a4' 'a5' 'a6' 'a7' 'a8'\n",
      " 'acadia_limited' 'acadia' 'accent' 'acclaim' 'accord_crosstour'\n",
      " 'accord_hybrid' 'accord_plug-in_hybrid' 'accord' 'achieva'\n",
      " 'activehybrid_5' 'activehybrid_7' 'activehybrid_x6' 'aerio' 'aerostar'\n",
      " 'alero' 'allante' 'allroad_quattro' 'allroad' 'alpina_b6_gran_coupe'\n",
      " 'alpina_b7' 'alpina' 'altima_hybrid' 'altima' 'amanti' 'amg_gt' 'armada'\n",
      " 'arnage' 'aspen' 'aspire' 'astro_cargo' 'astro' 'ats_coupe' 'ats-v' 'ats'\n",
      " 'aurora' 'avalanche' 'avalon_hybrid' 'avalon' 'avenger' 'aventador'\n",
      " 'aveo' 'aviator' 'axxess' 'azera' 'aztek' 'azure_t' 'azure'\n",
      " 'b-class_electric_drive' 'b-series_pickup' 'b-series_truck' 'b-series'\n",
      " 'b9_tribeca' 'baja' 'beetle_convertible' 'beetle' 'beretta'\n",
      " 'black_diamond_avalanche' 'blackwood' 'blazer' 'bolt_ev' 'bonneville'\n",
      " 'borrego' 'boxster' 'bravada' 'breeze' 'bronco_ii' 'bronco' 'brooklands'\n",
      " 'brougham' 'brz' 'c-class' 'c-max_hybrid' 'c30' 'c36_amg' 'c43_amg' 'c70'\n",
      " 'c8' 'cabriolet' 'cabrio' 'cadenza' 'caliber' 'california_t' 'california'\n",
      " 'camaro' 'camry_hybrid' 'camry_solara' 'camry' 'canyon' 'caprice'\n",
      " 'captiva_sport' 'caravan' 'carrera_gt' 'cascada' 'catera' 'cavalier'\n",
      " 'cayenne' 'cayman_s' 'cayman' 'cc' 'celebrity' 'celica' 'century'\n",
      " 'challenger' 'charger' 'chevy_van' 'ciera' 'cirrus' 'city_express'\n",
      " 'civic_crx' 'civic_del_sol' 'civic' 'c/k_1500_series' 'c/k_2500_series'\n",
      " 'cl-class' 'cla-class' 'cl' 'classic' 'clk-class' 'cls-class' 'cobalt'\n",
      " 'colorado' 'colt' 'concorde' 'continental_flying_spur_speed'\n",
      " 'continental_flying_spur' 'continental_gt_speed_convertible'\n",
      " 'continental_gt_speed' 'continental_gt3-r' 'continental_gt'\n",
      " 'continental_gtc_speed' 'continental_gtc'\n",
      " 'continental_supersports_convertible' 'continental_supersports'\n",
      " 'continental' 'contour_svt' 'contour' 'corniche' 'corolla_im' 'corolla'\n",
      " 'corrado' 'corsica' 'corvette_stingray' 'corvette' 'coupe' 'cr-v' 'cr-z'\n",
      " 'cressida' 'crossfire' 'crosstour' 'crosstrek' 'crown_victoria'\n",
      " 'cruze_limited' 'cruze' 'ct_200h' 'ct6' 'cts_coupe' 'cts-v_coupe'\n",
      " 'cts-v_wagon' 'cts-v' 'cts_wagon' 'cts' 'cube' 'custom_cruiser'\n",
      " 'cutlass_calais' 'cutlass_ciera' 'cutlass_supreme' 'cutlass' 'cx-3'\n",
      " 'cx-5' 'cx-7' 'cx-9' 'dakota' 'dart' 'dawn' 'daytona' 'db7' 'db9_gt'\n",
      " 'db9' 'dbs' 'defender' 'deville' 'diablo' 'diamante'\n",
      " 'discovery_series_ii' 'discovery_sport' 'discovery' 'dts' 'durango'\n",
      " 'dynasty' 'e-150' 'e-250' 'e-class' 'e-golf' 'e-series_van'\n",
      " 'e-series_wagon' 'e55_amg' 'echo' 'eclipse_spyder' 'eclipse' 'edge'\n",
      " 'eighty-eight_royale' 'eighty-eight' 'elantra_coupe' 'elantra_gt'\n",
      " 'elantra_touring' 'elantra' 'eldorado' 'electra' 'element' 'elise'\n",
      " 'enclave' 'encore' 'endeavor' 'entourage' 'envision' 'envoy_xl'\n",
      " 'envoy_xuv' 'envoy' 'enzo' 'eos' 'equator' 'equinox' 'equus' 'es_250'\n",
      " 'es_300h' 'es_300' 'es_330' 'es_350' 'escalade_esv' 'escalade_ext'\n",
      " 'escalade_hybrid' 'escalade' 'escape_hybrid' 'escape' 'escort' 'esprit'\n",
      " 'estate_wagon' 'esteem' 'eurovan' 'evora_400' 'evora' 'ex35' 'excel'\n",
      " 'exige' 'ex' 'expedition' 'explorer_sport_trac' 'explorer_sport'\n",
      " 'explorer' 'expo' 'express_cargo' 'express' 'f-150_heritage'\n",
      " 'f-150_svt_lightning' 'f-150' 'f-250' 'f12_berlinetta' 'f430' 'festiva'\n",
      " 'ff' 'fiesta' 'firebird' 'fit_ev' 'fit' 'five_hundred' 'fj_cruiser'\n",
      " 'fleetwood' 'flex' 'flying_spur' 'focus_rs' 'focus_st' 'focus' 'forenza'\n",
      " 'forester' 'forte' 'fox' 'fr-s' 'freelander' 'freestar' 'freestyle'\n",
      " 'frontier' 'fusion_hybrid' 'fusion' 'fx35' 'fx45' 'fx50' 'fx' 'g-class'\n",
      " 'g_convertible' 'g_coupe' 'g_sedan' 'g20' 'g35' 'g37_convertible'\n",
      " 'g37_coupe' 'g37_sedan' 'g37' 'g3' 'g5' 'g6' 'g80' 'g8' 'galant'\n",
      " 'gallardo' 'genesis_coupe' 'genesis' 'ghibli' 'ghost_series_ii' 'ghost'\n",
      " 'gl-class' 'gla-class' 'glc-class' 'gle-class_coupe' 'gle-class' 'gli'\n",
      " 'glk-class' 'gls-class' 'golf_alltrack' 'golf_gti' 'golf_r'\n",
      " 'golf_sportwagen' 'golf' 'grand_am' 'grand_caravan' 'grand_prix'\n",
      " 'grand_vitara' 'grand_voyager' 'gransport' 'granturismo_convertible'\n",
      " 'granturismo' 'gs_200t' 'gs_300' 'gs_350' 'gs_400' 'gs_430' 'gs_450h'\n",
      " 'gs_460' 'gs_f' 'gt-r' 'gt' 'gti' 'gto' 'gx_460' 'gx_470' 'h3' 'h3t'\n",
      " 'hhr' 'highlander_hybrid' 'highlander' 'horizon' 'hr-v' 'hs_250h'\n",
      " 'huracan' 'i-miev' 'i30' 'i35' 'i3' 'ia' 'ilx_hybrid' 'ilx'\n",
      " 'impala_limited' 'impala' 'imperial' 'impreza_wrx' 'impreza' 'im'\n",
      " 'insight' 'integra' 'intrepid' 'intrigue' 'iq' 'is_200t' 'is_250_c'\n",
      " 'is_250' 'is_300' 'is_350_c' 'is_350' 'is_f' 'j30' 'jetta_gli'\n",
      " 'jetta_hybrid' 'jetta_sportwagen' 'jetta' 'jimmy' 'journey' 'juke'\n",
      " 'justy' 'jx' 'k900' 'kizashi' 'lacrosse' 'lancer_evolution'\n",
      " 'lancer_sportback' 'lancer' 'land_cruiser' 'landaulet' 'laser' 'le_baron'\n",
      " 'le_mans' 'leaf' 'legacy' 'legend' 'lesabre' 'levante' 'lfa' 'lhs'\n",
      " 'loyale' 'lr2' 'lr3' 'lr4' 'ls_400' 'ls_430' 'ls_460' 'ls_600h_l' 'ls'\n",
      " 'lss' 'ltd_crown_victoria' 'lucerne' 'lumina_minivan' 'lumina' 'lx_450'\n",
      " 'lx_470' 'lx_570' 'm-class' 'm2' 'm30' 'm35' 'm37' 'm3' 'm4_gts' 'm45'\n",
      " 'm4' 'm56' 'm5' 'm6_gran_coupe' 'm6' 'macan' 'magnum' 'malibu_classic'\n",
      " 'malibu_hybrid' 'malibu_limited' 'malibu_maxx' 'malibu' 'mark_lt'\n",
      " 'mark_viii' 'mark_vii' 'matrix' 'maxima' 'maybach' 'mazdaspeed_3'\n",
      " 'mazdaspeed_6' 'mazdaspeed_mx-5_miata' 'mazdaspeed_protege' 'm' 'mdx'\n",
      " 'metris' 'metro' 'mighty_max_pickup' 'millenia' 'mirage_g4' 'mirage'\n",
      " 'mkc' 'mks' 'mkt' 'mkx' 'mkz_hybrid' 'mkz' 'ml55_amg' 'model_s' 'monaco'\n",
      " 'montana_sv6' 'montana' 'monte_carlo' 'montero_sport' 'montero' 'mp4-12c'\n",
      " 'mpv' 'mr2_spyder' 'mr2' 'mulsanne' 'murano_crosscabriolet' 'murano'\n",
      " 'murcielago' 'mustang_svt_cobra' 'mustang' 'mx-3' 'mx-5_miata' 'mx-6'\n",
      " 'navajo' 'navigator' 'neon' 'new_beetle' 'new_yorker' 'ninety-eight'\n",
      " 'nitro' 'nsx' 'nv200' 'nx_200t' 'nx_300h' 'nx' 'odyssey' 'omni'\n",
      " 'optima_hybrid' 'optima' 'outback' 'outlander_sport' 'outlander'\n",
      " 'pacifica' 'panamera' 'park_avenue' 'park_ward' 'paseo' 'passat'\n",
      " 'passport' 'pathfinder' 'phaeton' 'phantom_coupe'\n",
      " 'phantom_drophead_coupe' 'phantom' 'pickup' 'pilot' 'precis' 'prelude'\n",
      " 'previa' 'prius_c' 'prius_prime' 'prius_v' 'prius' 'prizm' 'probe'\n",
      " 'protege5' 'protege' 'prowler' 'pt_cruiser' 'pulsar' 'q3' 'q40' 'q45'\n",
      " 'q50' 'q5' 'q60_convertible' 'q60_coupe' 'q70' 'q7' 'quattroporte'\n",
      " 'quest' 'qx4' 'qx50' 'qx56' 'qx60' 'qx70' 'qx80' 'qx' 'r-class' 'r32'\n",
      " 'r8' 'rabbit' 'raider' 'rainier' 'rally_wagon' 'ram_150' 'ram_250'\n",
      " 'ram_50_pickup' 'ram_cargo' 'ram_pickup_1500' 'ram_van' 'ram_wagon'\n",
      " 'ramcharger' 'range_rover_evoque' 'range_rover_sport' 'range_rover'\n",
      " 'ranger' 'rapide_s' 'rapide' 'rav4_ev' 'rav4_hybrid' 'rav4' 'rc_200t'\n",
      " 'rc_300' 'rc_350' 'rc_f' 'rdx' 'reatta' 'regal' 'regency' 'rendezvous'\n",
      " 'reno' 'reventon' 'ridgeline' 'rio' 'riviera' 'rl' 'rlx' 'roadmaster'\n",
      " 'rogue_select' 'rogue' 'rondo' 'routan' 'rs_4' 'rs_5' 'rs_6' 'rs_7' 'rsx'\n",
      " 'rx_300' 'rx_330' 'rx_350' 'rx_400h' 'rx_450h' 'rx-7' 'rx-8'\n",
      " 's-10_blazer' 's-10' 's-15_jimmy' 's-15' 's-class' 's2000' 's3' 's40'\n",
      " 's4' 's5' 's60_cross_country' 's60' 's6' 's70' 's7' 's80' 's8' 's90'\n",
      " 'safari_cargo' 'safari' 'samurai' 'santa_fe_sport' 'santa_fe'\n",
      " 'savana_cargo' 'savana' 'sc_300' 'sc_400' 'sc_430' 'scoupe' 'sebring'\n",
      " 'sedona' 'sentra' 'sephia' 'sequoia' 'seville' 'shadow' 'shelby_gt350'\n",
      " 'shelby_gt500' 'sidekick' 'sienna' 'sierra_1500_classic'\n",
      " 'sierra_1500_hybrid' 'sierra_1500' 'sierra_1500hd' 'sierra_c3'\n",
      " 'sierra_classic_1500' 'sigma' 'silhouette' 'silver_seraph'\n",
      " 'silverado_1500_classic' 'silverado_1500_hybrid' 'silverado_1500'\n",
      " 'sixty_special' 'skylark' 'sl-class' 'slc-class' 'slk-class'\n",
      " 'slr_mclaren' 'sls_amg_gt_final_edition' 'sls_amg_gt' 'sls_amg' 'slx'\n",
      " 'solstice' 'sonata_hybrid' 'sonata' 'sonic' 'sonoma' 'sorento' 'soul_ev'\n",
      " 'soul' 'spark_ev' 'spark' 'spectra' 'spirit' 'sportage' 'sportvan'\n",
      " 'spyder' 'sq5' 'srt_viper' 'srx' 'ss' 'ssr' 'stanza' 'stealth' 'stratus'\n",
      " 'sts-v' 'sts' 'suburban' 'sunbird' 'sundance' 'sunfire' 'superamerica'\n",
      " 'supersports_convertible_isr' 'supra' 'svx' 'swift' 'sx4' 'syclone'\n",
      " 't100' 'tacoma' 'tahoe_hybrid' 'tahoe_limited/z71' 'tahoe' 'taurus_x'\n",
      " 'taurus' 'tc' 'tempo' 'tercel' 'terrain' 'terraza' 'thunderbird'\n",
      " 'tiburon' 'tiguan' 'titan' 'tl' 'tlx' 'toronado' 'torrent' 'touareg_2'\n",
      " 'touareg' 'town_and_country' 'town_car' 'tracker' 'trailblazer_ext'\n",
      " 'trailblazer' 'trans_sport' 'transit_connect' 'transit_wagon' 'traverse'\n",
      " 'trax' 'tribeca' 'tribute_hybrid' 'tribute' 'truck' 'tsx_sport_wagon'\n",
      " 'tsx' 'tt_rs' 'tt' 'tts' 'tucson' 'tundra' 'typhoon' 'uplander'\n",
      " 'v12_vanquish' 'v12_vantage_s' 'v12_vantage' 'v40' 'v50'\n",
      " 'v60_cross_country' 'v60' 'v70' 'v8_vantage' 'v8' 'v90' 'vanagon'\n",
      " 'vandura' 'van' 'vanquish' 'vanwagon' 'veloster' 'venture' 'venza'\n",
      " 'veracruz' 'verano' 'verona' 'versa_note' 'versa' 'veyron_16.4' 'vibe'\n",
      " 'vigor' 'viper' 'virage' 'vitara' 'voyager' 'windstar_cargo' 'windstar'\n",
      " 'wraith' 'wrx' 'x-90' 'x1' 'x3' 'x4' 'x5_m' 'x5' 'x6_m' 'x6' 'xa' 'xb'\n",
      " 'xc60' 'xc70' 'xc90' 'xc' 'xd' 'xg300' 'xg350' 'xl-7' 'xl7' 'xlr-v' 'xlr'\n",
      " 'xt5' 'xterra' 'xts' 'xt' 'xv_crosstrek' 'yaris_ia' 'yaris'\n",
      " 'yukon_denali' 'yukon_hybrid' 'yukon_xl' 'yukon' 'z3' 'z4_m' 'z4' 'z8'\n",
      " 'zdx' 'zephyr']\n",
      "number of unique values:  914\n",
      "\n",
      "year\n",
      "[2011 2012 2013 1992 1993 1994 2017 1991 2016 1990 2015 1996 1997 1998\n",
      " 2014 1999 2002 2003 2004 1995 2007 2008 2009 2001 2010 2000 2005 2006]\n",
      "number of unique values:  28\n",
      "\n",
      "engine_fuel_type\n",
      "['premium_unleaded_(required)' 'regular_unleaded'\n",
      " 'premium_unleaded_(recommended)' 'flex-fuel_(unleaded/e85)' 'diesel'\n",
      " 'electric' 'flex-fuel_(premium_unleaded_recommended/e85)' 'natural_gas'\n",
      " 'flex-fuel_(premium_unleaded_required/e85)'\n",
      " 'flex-fuel_(unleaded/natural_gas)' nan]\n",
      "number of unique values:  10\n",
      "\n",
      "engine_hp\n",
      "[ 335.  300.  230.  320.  172.  160.  130.  158.  240.  248.  162.  217.\n",
      "  184.  295.  115.  140.  155.  114.  100.  241.  180.  177.  228.  121.\n",
      "  148.  194.  218.  161.  292.  250.  255.  222.   82.  134.  306.  400.\n",
      "  425.  350.  332.  268.  282.  275.  201.  442.  562.  597.  237.  270.\n",
      "  445.  443.  302.  322.  315.   nan  101.  135.  485.  238.  515.  543.\n",
      "  631.  604.  620.  611.  661.  157.  402.  389.  110.  532.  170.  165.\n",
      "  125.  641.  535.  153.  144.  188.  372.  108.  168.  190.  205.  200.\n",
      "  227.  173.  220.  210.  280.  207.  265.  260.  290.  285.  390.  225.\n",
      "  185.  150.  430.  520.  560.  475.  500.  540.  370.  580.  420.  345.\n",
      "  195.  193.  208.  181.  236.  186.  252.  310.  333.  340.  450.  281.\n",
      "  288.  138.  137.  106.  271.  196.  212.  278.  189.  480.  152.  600.\n",
      "  375.  198.  182.  179.  264.  503.  456.  317.  235.  385.  303.   63.\n",
      "  321.  272.  464.  202.  215.  283.  700.  720.  750.  107.  293.  119.\n",
      "  143.  245.  120.  337.  276.  330.  132.  199.  530.  451.  329.  469.\n",
      "  362.   94.  553.  453.  483.  323.  426.  505.  455.  650.  178.  242.\n",
      "  305.  605.  440.  570.  325.  175.  707.  131.   62.   92.  102.  127.\n",
      "  174.  621.  510.  429.  536.  355.  382.  577.  113.  136.  234.  552.\n",
      "  626.  616.  572.  521.  567.  582.  460.  164.  192.  224.  239.  404.\n",
      "  318.  556.  640.  122.  146.  244.  273.  563.  141.  435.  550.  360.\n",
      "  145.  349.  166.  147.  128.  197.  291.  660.  261.  156.  403.   95.\n",
      "  297.   81.  257.  365.  203.  231.  731.  651.  287.  123.  126.  416.\n",
      "  343.  348.  328.  298.  171.  219.  221.  311.  361.  256.  415.  274.\n",
      "  449.  395.  401.  454.  444.  338.  342.  467.  545.  565.  301.  263.\n",
      "   93.  187.  610.   66.  111.   98.  204.  211.   73.  304.  381.  142.\n",
      "   74.  424.  253.   90.  386.  359.  438.  232.  383.  518.  493.  259.\n",
      "  523.   55.   79.  116.  151.   78.  191.  592.  632.  670.   88.  167.\n",
      "  118.  380.  214.  573.  284.   99.  103.  525.  254.  470.  154.  176.\n",
      "  279.  377.  251.  223.  308.  105.  316.  124.  526.  662.  266.  296.\n",
      "  557.  617.  583.  622.   84.  163.  354.  159.   96.  206.  169.  133.\n",
      "  568.  109. 1001.  645.  490.  624.  410.   97.  394.]\n",
      "number of unique values:  356\n",
      "\n",
      "engine_cylinders\n",
      "[ 6.  4.  5.  8. 12.  0. nan 10.  3. 16.]\n",
      "number of unique values:  9\n",
      "\n",
      "transmission_type\n",
      "['manual' 'automatic' 'automated_manual' 'direct_drive' 'unknown']\n",
      "number of unique values:  5\n",
      "\n",
      "driven_wheels\n",
      "['rear_wheel_drive' 'front_wheel_drive' 'all_wheel_drive'\n",
      " 'four_wheel_drive']\n",
      "number of unique values:  4\n",
      "\n",
      "number_of_doors\n",
      "[ 2.  4.  3. nan]\n",
      "number of unique values:  3\n",
      "\n",
      "market_category\n",
      "['factory_tuner,luxury,high-performance' 'luxury,performance'\n",
      " 'luxury,high-performance' 'luxury' 'performance' 'flex_fuel'\n",
      " 'flex_fuel,performance' nan 'hatchback' 'hatchback,luxury,performance'\n",
      " 'hatchback,luxury' 'luxury,high-performance,hybrid' 'diesel,luxury'\n",
      " 'hatchback,performance' 'hatchback,factory_tuner,performance'\n",
      " 'high-performance' 'factory_tuner,high-performance'\n",
      " 'exotic,high-performance' 'exotic,factory_tuner,high-performance'\n",
      " 'factory_tuner,performance' 'crossover' 'exotic,luxury'\n",
      " 'exotic,luxury,high-performance' 'exotic,luxury,performance'\n",
      " 'factory_tuner,luxury,performance' 'flex_fuel,luxury' 'crossover,luxury'\n",
      " 'hatchback,factory_tuner,luxury,performance' 'crossover,hatchback'\n",
      " 'hybrid' 'luxury,performance,hybrid'\n",
      " 'crossover,luxury,performance,hybrid' 'crossover,luxury,performance'\n",
      " 'exotic,factory_tuner,luxury,high-performance'\n",
      " 'flex_fuel,luxury,high-performance' 'crossover,flex_fuel' 'diesel'\n",
      " 'hatchback,diesel' 'crossover,luxury,diesel'\n",
      " 'crossover,luxury,high-performance'\n",
      " 'exotic,flex_fuel,factory_tuner,luxury,high-performance'\n",
      " 'exotic,flex_fuel,luxury,high-performance'\n",
      " 'exotic,factory_tuner,luxury,performance' 'hatchback,hybrid'\n",
      " 'crossover,hybrid' 'hatchback,luxury,hybrid'\n",
      " 'flex_fuel,luxury,performance' 'crossover,performance' 'luxury,hybrid'\n",
      " 'crossover,flex_fuel,luxury,performance' 'crossover,flex_fuel,luxury'\n",
      " 'crossover,flex_fuel,performance'\n",
      " 'hatchback,factory_tuner,high-performance' 'hatchback,flex_fuel'\n",
      " 'factory_tuner,luxury' 'crossover,factory_tuner,luxury,high-performance'\n",
      " 'crossover,factory_tuner,luxury,performance'\n",
      " 'crossover,hatchback,factory_tuner,performance'\n",
      " 'crossover,hatchback,performance' 'flex_fuel,hybrid'\n",
      " 'flex_fuel,performance,hybrid' 'crossover,exotic,luxury,high-performance'\n",
      " 'crossover,exotic,luxury,performance' 'exotic,performance'\n",
      " 'exotic,luxury,high-performance,hybrid' 'crossover,luxury,hybrid'\n",
      " 'flex_fuel,factory_tuner,luxury,high-performance' 'performance,hybrid'\n",
      " 'crossover,factory_tuner,performance' 'crossover,diesel'\n",
      " 'flex_fuel,diesel' 'crossover,hatchback,luxury']\n",
      "number of unique values:  71\n",
      "\n",
      "vehicle_size\n",
      "['compact' 'midsize' 'large']\n",
      "number of unique values:  3\n",
      "\n",
      "vehicle_style\n",
      "['coupe' 'convertible' 'sedan' 'wagon' '4dr_hatchback' '2dr_hatchback'\n",
      " '4dr_suv' 'passenger_minivan' 'cargo_minivan' 'crew_cab_pickup'\n",
      " 'regular_cab_pickup' 'extended_cab_pickup' '2dr_suv' 'cargo_van'\n",
      " 'convertible_suv' 'passenger_van']\n",
      "number of unique values:  16\n",
      "\n",
      "highway_mpg\n",
      "[ 26  28  27  25  24  20  21  22  35  34  31  30  32  33  23  36  29  45\n",
      "  43  40  42  19  18  17  15  37  39  41  16  14  38 108 103  12 354  47\n",
      "  46  82 110  44  13 105  99 102 111 106  48 101  90  97  94  98 100 107\n",
      "  53  50  74  92 109]\n",
      "number of unique values:  59\n",
      "\n",
      "city_mpg\n",
      "[ 19  20  18  17  16  26  23  22  21  24  15  25  29  28  32  31  30  14\n",
      "  10  27  12  13   9  11 122 121   8  50  49  47  35  33  40  85 128  42\n",
      "  43  36  44 126   7  34 132 110 137 129  39  41 124  37  88  94  86 101\n",
      "  95  89 102  98  92  97  91  53  55  51  54  58  78  38 120]\n",
      "number of unique values:  69\n",
      "\n",
      "popularity\n",
      "[3916 3105  819  617 1013 2009  870  586  436 2774  113 2031  416   67\n",
      "  210 1715  376  549 1439  535 2202   26  481 5657 1624 1720  520 1385\n",
      " 1851 1158   61  640  873    2  155  204   86  238  454  259  258  613\n",
      "  190  105   21  130 1391  820]\n",
      "number of unique values:  48\n",
      "\n",
      "msrp\n",
      "[46135 40650 36350 ... 46120 50620 50920]\n",
      "number of unique values:  6049\n",
      "\n"
     ]
    }
   ],
   "source": [
    "for col in df.columns:\n",
    "    print(col)\n",
    "    print(df[col].unique())\n",
    "    print(\"number of unique values: \", df[col].nunique())\n",
    "    print()"
   ]
  },
  {
   "cell_type": "markdown",
   "id": "15b811ca-32f7-448e-b5f4-098bec86673d",
   "metadata": {},
   "source": [
    "#### Distribution of price"
   ]
  },
  {
   "cell_type": "markdown",
   "id": "c5be4c68-d9b6-4064-8284-a566c366806a",
   "metadata": {},
   "source": [
    "##### Visualize of price column "
   ]
  },
  {
   "cell_type": "code",
   "execution_count": 18,
   "id": "f467c2c3-e74d-427a-b49a-fc1753187737",
   "metadata": {},
   "outputs": [],
   "source": [
    "import matplotlib.pyplot as plt\n",
    "import seaborn as sns "
   ]
  },
  {
   "cell_type": "code",
   "execution_count": 21,
   "id": "553f68cd-10b7-4733-a5af-1d61da85b67e",
   "metadata": {},
   "outputs": [],
   "source": [
    "#Display the plots in notebook\n",
    "%matplotlib inline"
   ]
  },
  {
   "cell_type": "code",
   "execution_count": 23,
   "id": "5ab88513-ce61-4112-b2b9-546557c2a3bd",
   "metadata": {},
   "outputs": [
    {
     "name": "stderr",
     "output_type": "stream",
     "text": [
      "C:\\Users\\Admin-IT\\anaconda3\\Lib\\site-packages\\seaborn\\_oldcore.py:1119: FutureWarning: use_inf_as_na option is deprecated and will be removed in a future version. Convert inf values to NaN before operating instead.\n",
      "  with pd.option_context('mode.use_inf_as_na', True):\n"
     ]
    },
    {
     "data": {
      "text/plain": [
       "<Axes: xlabel='msrp', ylabel='Count'>"
      ]
     },
     "execution_count": 23,
     "metadata": {},
     "output_type": "execute_result"
    },
    {
     "data": {
      "image/png": "[encoded data removed]",
      "text/plain": [
       "<Figure size 640x480 with 1 Axes>"
      ]
     },
     "metadata": {},
     "output_type": "display_data"
    }
   ],
   "source": [
    "#bins : number of bars in the histogram\n",
    "#in the diagram 1e6 means 10^6  = 1000000\n",
    "sns.histplot(df.msrp, bins=50)"
   ]
  },
  {
   "cell_type": "code",
   "execution_count": 25,
   "id": "9e0ffdb5-d946-4c29-8cfa-477b7a27bf09",
   "metadata": {},
   "outputs": [
    {
     "name": "stderr",
     "output_type": "stream",
     "text": [
      "C:\\Users\\Admin-IT\\anaconda3\\Lib\\site-packages\\seaborn\\_oldcore.py:1119: FutureWarning: use_inf_as_na option is deprecated and will be removed in a future version. Convert inf values to NaN before operating instead.\n",
      "  with pd.option_context('mode.use_inf_as_na', True):\n"
     ]
    },
    {
     "data": {
      "text/plain": [
       "<Axes: xlabel='msrp', ylabel='Count'>"
      ]
     },
     "execution_count": 25,
     "metadata": {},
     "output_type": "execute_result"
    },
    {
     "data": {
      "image/png": "[encoded data removed]",
      "text/plain": [
       "<Figure size 640x480 with 1 Axes>"
      ]
     },
     "metadata": {},
     "output_type": "display_data"
    }
   ],
   "source": [
    "sns.histplot(df.msrp[df.msrp < 100000], bins=50)"
   ]
  },
  {
   "cell_type": "code",
   "execution_count": 26,
   "id": "ba645d30-3c8e-4015-89f8-6dd9685e162e",
   "metadata": {},
   "outputs": [
    {
     "name": "stderr",
     "output_type": "stream",
     "text": [
      "C:\\Users\\Admin-IT\\anaconda3\\Lib\\site-packages\\seaborn\\_oldcore.py:1119: FutureWarning: use_inf_as_na option is deprecated and will be removed in a future version. Convert inf values to NaN before operating instead.\n",
      "  with pd.option_context('mode.use_inf_as_na', True):\n"
     ]
    },
    {
     "data": {
      "text/plain": [
       "<Axes: xlabel='msrp', ylabel='Count'>"
      ]
     },
     "execution_count": 26,
     "metadata": {},
     "output_type": "execute_result"
    },
    {
     "data": {
      "image/png": "[encoded data removed]",
      "text/plain": [
       "<Figure size 640x480 with 1 Axes>"
      ]
     },
     "metadata": {},
     "output_type": "display_data"
    }
   ],
   "source": [
    "price_logs = np.log1p(df.msrp)\n",
    "sns.histplot(price_logs, bins=50)"
   ]
  },
  {
   "cell_type": "markdown",
   "id": "2fe86104-8252-418d-870f-d2b7c5eb1a67",
   "metadata": {},
   "source": [
    "#### Missing values"
   ]
  },
  {
   "cell_type": "code",
   "execution_count": 27,
   "id": "79539110-6c1e-4a18-b1c3-5725bf04dffb",
   "metadata": {},
   "outputs": [
    {
     "data": {
      "text/plain": [
       "make                    0\n",
       "model                   0\n",
       "year                    0\n",
       "engine_fuel_type        3\n",
       "engine_hp              69\n",
       "engine_cylinders       30\n",
       "transmission_type       0\n",
       "driven_wheels           0\n",
       "number_of_doors         6\n",
       "market_category      3742\n",
       "vehicle_size            0\n",
       "vehicle_style           0\n",
       "highway_mpg             0\n",
       "city_mpg                0\n",
       "popularity              0\n",
       "msrp                    0\n",
       "dtype: int64"
      ]
     },
     "execution_count": 27,
     "metadata": {},
     "output_type": "execute_result"
    }
   ],
   "source": [
    "df.isnull().sum()"
   ]
  },
  {
   "cell_type": "markdown",
   "id": "2217ea4c-47d7-416b-9deb-fbeee47f49c0",
   "metadata": {},
   "source": [
    "### Setting up the validation framework"
   ]
  },
  {
   "cell_type": "code",
   "execution_count": 28,
   "id": "a159ac6a-d9a7-436b-bd30-575ddf85d334",
   "metadata": {},
   "outputs": [
    {
     "data": {
      "text/plain": [
       "11914"
      ]
     },
     "execution_count": 28,
     "metadata": {},
     "output_type": "execute_result"
    }
   ],
   "source": [
    "#returns the number of records of the whole dataset\n",
    "len(df)"
   ]
  },
  {
   "cell_type": "code",
   "execution_count": 30,
   "id": "64253869-fe0b-434e-ab1f-9091f4f85d25",
   "metadata": {},
   "outputs": [
    {
     "data": {
      "text/plain": [
       "2382"
      ]
     },
     "execution_count": 30,
     "metadata": {},
     "output_type": "execute_result"
    }
   ],
   "source": [
    "#calculate 20% of the whole dataset\n",
    "int(len(df) * 0.2)"
   ]
  },
  {
   "cell_type": "code",
   "execution_count": 31,
   "id": "6d756551-3d8f-4690-a4b3-434e694b4ec9",
   "metadata": {},
   "outputs": [
    {
     "data": {
      "text/plain": [
       "(11914, 11914)"
      ]
     },
     "execution_count": 31,
     "metadata": {},
     "output_type": "execute_result"
    }
   ],
   "source": [
    "#splitting into 3 datasets\n",
    "n = len(df)\n",
    "n_val = n_test = int(n * 0.2)\n",
    "n_train = n - n_val - n_test\n",
    "n, n_val+n_test+n_train"
   ]
  },
  {
   "cell_type": "code",
   "execution_count": 32,
   "id": "57afe139-2803-4087-971d-77b333fff86a",
   "metadata": {},
   "outputs": [
    {
     "data": {
      "text/plain": [
       "(2382, 2382, 7150)"
      ]
     },
     "execution_count": 32,
     "metadata": {},
     "output_type": "execute_result"
    }
   ],
   "source": [
    "#size of dataframes\n",
    "n_val, n_test, n_train"
   ]
  },
  {
   "cell_type": "code",
   "execution_count": 33,
   "id": "6d060bdc-9815-4893-9949-19984e11bc8b",
   "metadata": {},
   "outputs": [],
   "source": [
    "df_train = df.iloc[:n_train]\n",
    "df_val = df.iloc[n_train:n_train + n_val]\n",
    "df_test = df.iloc[n_train + n_val:]"
   ]
  },
  {
   "cell_type": "code",
   "execution_count": 34,
   "id": "1f0d2b51-c3f1-4840-8c33-1883fde62975",
   "metadata": {},
   "outputs": [
    {
     "data": {
      "text/plain": [
       "array([    0,     1,     2, ..., 11911, 11912, 11913])"
      ]
     },
     "execution_count": 34,
     "metadata": {},
     "output_type": "execute_result"
    }
   ],
   "source": [
    "idx = np.arange(n)\n",
    "idx"
   ]
  },
  {
   "cell_type": "code",
   "execution_count": 38,
   "id": "fa558722-252d-4f4e-973c-9302fe87ea38",
   "metadata": {},
   "outputs": [
    {
     "data": {
      "text/plain": [
       "array([ 4165,  7527, 10828, ...,  9374, 10019, 11616])"
      ]
     },
     "execution_count": 38,
     "metadata": {},
     "output_type": "execute_result"
    }
   ],
   "source": [
    "np.random.shuffle(idx)\n",
    "idx"
   ]
  },
  {
   "cell_type": "code",
   "execution_count": 40,
   "id": "16e2d00b-6368-4d1d-a2eb-a1fcb3e4d4a1",
   "metadata": {},
   "outputs": [],
   "source": [
    "#create shuffled datasets witch correct size\n",
    "df_train = df.iloc[idx[:n_train]]\n",
    "df_val = df.iloc[idx[n_train:n_train + n_val]]\n",
    "df_test = df.iloc[idx[n_train + n_val:]]"
   ]
  },
  {
   "cell_type": "code",
   "execution_count": 41,
   "id": "bf083ddd-175f-4a53-82b2-cbe91993bc85",
   "metadata": {},
   "outputs": [],
   "source": [
    "df_train = df_train.reset_index(drop=True)\n",
    "df_val = df_val.reset_index(drop=True)\n",
    "df_test = df_test.reset_index(drop=True)"
   ]
  },
  {
   "cell_type": "code",
   "execution_count": 42,
   "id": "f67b75b3-aadd-445d-a764-24b52a44da33",
   "metadata": {},
   "outputs": [],
   "source": [
    "y_train = np.log1p(df_train.msrp.values)\n",
    "y_val = np.log1p(df_val.msrp.values)\n",
    "y_test = np.log1p(df_test.msrp.values)"
   ]
  },
  {
   "cell_type": "code",
   "execution_count": 43,
   "id": "5c57ce8d-7ff2-4d42-8e12-e7afd2aa9892",
   "metadata": {},
   "outputs": [],
   "source": [
    "#remove msrp values from dataframes (df_train, df_val, df_test) to make sure that we don’t accidentally use it for training purposes.\n",
    "del df_train['msrp']\n",
    "del df_val['msrp']\n",
    "del df_test['msrp']"
   ]
  },
  {
   "cell_type": "markdown",
   "id": "6da2d60e-fc74-47fe-9d57-f93cf8f148ae",
   "metadata": {},
   "source": [
    "### Linear regression"
   ]
  },
  {
   "cell_type": "code",
   "execution_count": 44,
   "id": "f554f41e-8a07-4837-bcff-b6138cb7cb7d",
   "metadata": {},
   "outputs": [
    {
     "data": {
      "text/plain": [
       "make                        chevrolet\n",
       "model                        colorado\n",
       "year                             2016\n",
       "engine_fuel_type     regular_unleaded\n",
       "engine_hp                       305.0\n",
       "engine_cylinders                  6.0\n",
       "transmission_type           automatic\n",
       "driven_wheels        rear_wheel_drive\n",
       "number_of_doors                   4.0\n",
       "market_category                diesel\n",
       "vehicle_size                  compact\n",
       "vehicle_style         crew_cab_pickup\n",
       "highway_mpg                        26\n",
       "city_mpg                           18\n",
       "popularity                       1385\n",
       "Name: 10, dtype: object"
      ]
     },
     "execution_count": 44,
     "metadata": {},
     "output_type": "execute_result"
    }
   ],
   "source": [
    "df_train.iloc[10]"
   ]
  },
  {
   "cell_type": "markdown",
   "id": "0d05a919-5dc1-47f4-a734-b47f2c43f700",
   "metadata": {},
   "source": [
    "### Car price baseline model"
   ]
  },
  {
   "cell_type": "code",
   "execution_count": 45,
   "id": "0b9bb373-2ca2-49e1-a78d-1728aaa8d72d",
   "metadata": {},
   "outputs": [
    {
     "data": {
      "text/plain": [
       "make                  object\n",
       "model                 object\n",
       "year                   int64\n",
       "engine_fuel_type      object\n",
       "engine_hp            float64\n",
       "engine_cylinders     float64\n",
       "transmission_type     object\n",
       "driven_wheels         object\n",
       "number_of_doors      float64\n",
       "market_category       object\n",
       "vehicle_size          object\n",
       "vehicle_style         object\n",
       "highway_mpg            int64\n",
       "city_mpg               int64\n",
       "popularity             int64\n",
       "dtype: object"
      ]
     },
     "execution_count": 45,
     "metadata": {},
     "output_type": "execute_result"
    }
   ],
   "source": [
    "df_train.dtypes"
   ]
  },
  {
   "cell_type": "code",
   "execution_count": 46,
   "id": "04e92293-f7c0-402b-bae2-216382953702",
   "metadata": {},
   "outputs": [
    {
     "data": {
      "text/plain": [
       "Index(['make', 'model', 'year', 'engine_fuel_type', 'engine_hp',\n",
       "       'engine_cylinders', 'transmission_type', 'driven_wheels',\n",
       "       'number_of_doors', 'market_category', 'vehicle_size', 'vehicle_style',\n",
       "       'highway_mpg', 'city_mpg', 'popularity'],\n",
       "      dtype='object')"
      ]
     },
     "execution_count": 46,
     "metadata": {},
     "output_type": "execute_result"
    }
   ],
   "source": [
    "df_train.columns"
   ]
  },
  {
   "cell_type": "code",
   "execution_count": 48,
   "id": "2221d402-2678-49e0-9915-bd335d08b322",
   "metadata": {},
   "outputs": [
    {
     "data": {
      "text/html": [
       "<div>\n",
       "<style scoped>\n",
       "    .dataframe tbody tr th:only-of-type {\n",
       "        vertical-align: middle;\n",
       "    }\n",
       "\n",
       "    .dataframe tbody tr th {\n",
       "        vertical-align: top;\n",
       "    }\n",
       "\n",
       "    .dataframe thead th {\n",
       "        text-align: right;\n",
       "    }\n",
       "</style>\n",
       "<table border=\"1\" class=\"dataframe\">\n",
       "  <thead>\n",
       "    <tr style=\"text-align: right;\">\n",
       "      <th></th>\n",
       "      <th>engine_hp</th>\n",
       "      <th>engine_cylinders</th>\n",
       "      <th>highway_mpg</th>\n",
       "      <th>city_mpg</th>\n",
       "      <th>popularity</th>\n",
       "    </tr>\n",
       "  </thead>\n",
       "  <tbody>\n",
       "    <tr>\n",
       "      <th>0</th>\n",
       "      <td>420.0</td>\n",
       "      <td>8.0</td>\n",
       "      <td>22</td>\n",
       "      <td>15</td>\n",
       "      <td>1624</td>\n",
       "    </tr>\n",
       "    <tr>\n",
       "      <th>1</th>\n",
       "      <td>260.0</td>\n",
       "      <td>6.0</td>\n",
       "      <td>26</td>\n",
       "      <td>19</td>\n",
       "      <td>2009</td>\n",
       "    </tr>\n",
       "    <tr>\n",
       "      <th>2</th>\n",
       "      <td>171.0</td>\n",
       "      <td>4.0</td>\n",
       "      <td>28</td>\n",
       "      <td>23</td>\n",
       "      <td>586</td>\n",
       "    </tr>\n",
       "    <tr>\n",
       "      <th>3</th>\n",
       "      <td>175.0</td>\n",
       "      <td>6.0</td>\n",
       "      <td>27</td>\n",
       "      <td>18</td>\n",
       "      <td>210</td>\n",
       "    </tr>\n",
       "    <tr>\n",
       "      <th>4</th>\n",
       "      <td>332.0</td>\n",
       "      <td>8.0</td>\n",
       "      <td>23</td>\n",
       "      <td>20</td>\n",
       "      <td>1385</td>\n",
       "    </tr>\n",
       "  </tbody>\n",
       "</table>\n",
       "</div>"
      ],
      "text/plain": [
       "   engine_hp  engine_cylinders  highway_mpg  city_mpg  popularity\n",
       "0      420.0               8.0           22        15        1624\n",
       "1      260.0               6.0           26        19        2009\n",
       "2      171.0               4.0           28        23         586\n",
       "3      175.0               6.0           27        18         210\n",
       "4      332.0               8.0           23        20        1385"
      ]
     },
     "execution_count": 48,
     "metadata": {},
     "output_type": "execute_result"
    }
   ],
   "source": [
    "base = ['engine_hp', 'engine_cylinders', 'highway_mpg', 'city_mpg', 'popularity']\n",
    "df_train[base].head()"
   ]
  },
  {
   "cell_type": "markdown",
   "id": "25e8ad8c-d207-4787-9b61-43b61eea6cbd",
   "metadata": {},
   "source": [
    "#### Value extraction"
   ]
  },
  {
   "cell_type": "code",
   "execution_count": 50,
   "id": "b81dc707-8e6a-4990-b53b-b3626021ca5f",
   "metadata": {},
   "outputs": [
    {
     "data": {
      "text/plain": [
       "array([[ 420.,    8.,   22.,   15., 1624.],\n",
       "       [ 260.,    6.,   26.,   19., 2009.],\n",
       "       [ 171.,    4.,   28.,   23.,  586.],\n",
       "       ...,\n",
       "       [ 305.,    6.,   26.,   18.,  204.],\n",
       "       [ 205.,    4.,   31.,   22., 2202.],\n",
       "       [ 120.,    4.,   23.,   20.,  481.]])"
      ]
     },
     "execution_count": 50,
     "metadata": {},
     "output_type": "execute_result"
    }
   ],
   "source": [
    "#We need to extract the values to use them in training.\n",
    "X_train = df_train[base].values\n",
    "X_train"
   ]
  },
  {
   "cell_type": "markdown",
   "id": "0124fa99-e622-48d4-89cf-135295314722",
   "metadata": {},
   "source": [
    "#### Missing values "
   ]
  },
  {
   "cell_type": "code",
   "execution_count": 51,
   "id": "c2881ed7-c5cb-4b11-a591-5a888222ec7d",
   "metadata": {},
   "outputs": [
    {
     "data": {
      "text/plain": [
       "engine_hp           44\n",
       "engine_cylinders    19\n",
       "highway_mpg          0\n",
       "city_mpg             0\n",
       "popularity           0\n",
       "dtype: int64"
      ]
     },
     "execution_count": 51,
     "metadata": {},
     "output_type": "execute_result"
    }
   ],
   "source": [
    "df_train[base].isnull().sum()"
   ]
  },
  {
   "cell_type": "code",
   "execution_count": 52,
   "id": "a9f8bfe4-2ed5-4279-b844-91b7d78d60b6",
   "metadata": {},
   "outputs": [
    {
     "data": {
      "text/plain": [
       "engine_hp           0\n",
       "engine_cylinders    0\n",
       "highway_mpg         0\n",
       "city_mpg            0\n",
       "popularity          0\n",
       "dtype: int64"
      ]
     },
     "execution_count": 52,
     "metadata": {},
     "output_type": "execute_result"
    }
   ],
   "source": [
    "df_train[base].fillna(0).isnull().sum()"
   ]
  },
  {
   "cell_type": "code",
   "execution_count": 53,
   "id": "3906d411-6fef-4d17-a93a-9bfc2f64e75c",
   "metadata": {},
   "outputs": [
    {
     "data": {
      "text/plain": [
       "array([[ 420.,    8.,   22.,   15., 1624.],\n",
       "       [ 260.,    6.,   26.,   19., 2009.],\n",
       "       [ 171.,    4.,   28.,   23.,  586.],\n",
       "       ...,\n",
       "       [ 305.,    6.,   26.,   18.,  204.],\n",
       "       [ 205.,    4.,   31.,   22., 2202.],\n",
       "       [ 120.,    4.,   23.,   20.,  481.]])"
      ]
     },
     "execution_count": 53,
     "metadata": {},
     "output_type": "execute_result"
    }
   ],
   "source": [
    "X_train = df_train[base].fillna(0).values\n",
    "X_train"
   ]
  },
  {
   "cell_type": "code",
   "execution_count": 54,
   "id": "4f88eb28-3bc0-4a7e-8d7c-7e084664ccc7",
   "metadata": {},
   "outputs": [
    {
     "data": {
      "text/plain": [
       "array([11.40032771, 10.54799581,  9.93090815, ..., 10.66862976,\n",
       "       10.10196949,  7.63964229])"
      ]
     },
     "execution_count": 54,
     "metadata": {},
     "output_type": "execute_result"
    }
   ],
   "source": [
    "y_train"
   ]
  },
  {
   "cell_type": "code",
   "execution_count": 65,
   "id": "ad952cec-5335-4111-a8c5-11af316fc2b5",
   "metadata": {},
   "outputs": [],
   "source": [
    "def train_linear_regression(X, y):\n",
    "    ones = np.ones(X.shape[0])\n",
    "    X = np.column_stack([ones, X])\n",
    "    \n",
    "    XTX = X.T.dot(X)\n",
    "    XTX_inv = np.linalg.inv(XTX)\n",
    "    w_full = XTX_inv.dot(X.T).dot(y)\n",
    "\n",
    "    return w_full[0], w_full[1:]"
   ]
  },
  {
   "cell_type": "code",
   "execution_count": 66,
   "id": "26b75f6f-2444-4089-b2e3-aeab12cdfaec",
   "metadata": {},
   "outputs": [
    {
     "data": {
      "text/plain": [
       "(7.550403967251159,\n",
       " array([ 9.16151994e-03, -1.16623004e-01,  4.47744221e-02, -1.18595304e-02,\n",
       "        -5.21978934e-06]))"
      ]
     },
     "execution_count": 66,
     "metadata": {},
     "output_type": "execute_result"
    }
   ],
   "source": [
    "#train our model using the train_linear_regression function\n",
    "w0, w = train_linear_regression(X_train, y_train)\n",
    "w0, w"
   ]
  },
  {
   "cell_type": "code",
   "execution_count": 67,
   "id": "5cfdbec9-0e78-42ff-af4d-f00d217abf81",
   "metadata": {},
   "outputs": [
    {
     "data": {
      "text/plain": [
       "array([11.2639257 , 10.16097847,  9.62838768, ..., 10.59452811,\n",
       "       10.07762698,  8.97340473])"
      ]
     },
     "execution_count": 67,
     "metadata": {},
     "output_type": "execute_result"
    }
   ],
   "source": [
    "# use this two variables to apply the model to our training dataset\n",
    "y_pred = w0 + X_train.dot(w)\n",
    "y_pred"
   ]
  },
  {
   "cell_type": "markdown",
   "id": "e72b2b34-d531-4a6d-92e8-9afc61d2472a",
   "metadata": {},
   "source": [
    "#### Plotting and performance"
   ]
  },
  {
   "cell_type": "code",
   "execution_count": 68,
   "id": "6f797b93-23b2-4d92-812b-733033956961",
   "metadata": {},
   "outputs": [
    {
     "name": "stderr",
     "output_type": "stream",
     "text": [
      "C:\\Users\\Admin-IT\\anaconda3\\Lib\\site-packages\\seaborn\\_oldcore.py:1119: FutureWarning: use_inf_as_na option is deprecated and will be removed in a future version. Convert inf values to NaN before operating instead.\n",
      "  with pd.option_context('mode.use_inf_as_na', True):\n",
      "C:\\Users\\Admin-IT\\anaconda3\\Lib\\site-packages\\seaborn\\_oldcore.py:1119: FutureWarning: use_inf_as_na option is deprecated and will be removed in a future version. Convert inf values to NaN before operating instead.\n",
      "  with pd.option_context('mode.use_inf_as_na', True):\n"
     ]
    },
    {
     "data": {
      "text/plain": [
       "<Axes: ylabel='Count'>"
      ]
     },
     "execution_count": 68,
     "metadata": {},
     "output_type": "execute_result"
    },
    {
     "data": {
      "image/png": "[encoded data removed]",
      "text/plain": [
       "<Figure size 640x480 with 1 Axes>"
      ]
     },
     "metadata": {},
     "output_type": "display_data"
    }
   ],
   "source": [
    "#alpha changes the transparency of the bars\n",
    "#bins specifies the number of bars\n",
    "sns.histplot(y_pred, color='red', alpha=0.5, bins=50)\n",
    "sns.histplot(y_train, color='blue', alpha=0.5, bins=50)"
   ]
  },
  {
   "cell_type": "markdown",
   "id": "9c88f4e8-8f46-4dd6-a50e-81e9b90217e7",
   "metadata": {},
   "source": [
    "### Root Mean Square Error(RMSE)"
   ]
  },
  {
   "cell_type": "code",
   "execution_count": 69,
   "id": "725e1f66-e813-4839-b01b-3bde2139554a",
   "metadata": {},
   "outputs": [],
   "source": [
    "def rmse(y, y_pred):\n",
    "    se = (y - y_pred) ** 2\n",
    "    mse = se.mean()\n",
    "    return np.sqrt(mse)"
   ]
  },
  {
   "cell_type": "code",
   "execution_count": 70,
   "id": "57347e58-3d0f-4e56-9658-7de48a2cdb7b",
   "metadata": {},
   "outputs": [
    {
     "data": {
      "text/plain": [
       "0.7518504143673326"
      ]
     },
     "execution_count": 70,
     "metadata": {},
     "output_type": "execute_result"
    }
   ],
   "source": [
    "rmse(y_train, y_pred)"
   ]
  },
  {
   "cell_type": "markdown",
   "id": "6b5f1bf2-b3d7-49fe-9070-9f2911691dd4",
   "metadata": {},
   "source": [
    "### Validating the model"
   ]
  },
  {
   "cell_type": "code",
   "execution_count": 72,
   "id": "2bc73ced-7270-4e07-9dfe-423f2c8e99f1",
   "metadata": {},
   "outputs": [],
   "source": [
    "base = ['engine_hp', 'engine_cylinders', 'highway_mpg', 'city_mpg', 'popularity']\n",
    "X_train = df_train[base].fillna(0).values\n",
    "w0, w = train_linear_regression(X_train, y_train)\n",
    "y_pred = w0 + X_train.dot(w)\n"
   ]
  },
  {
   "cell_type": "code",
   "execution_count": 73,
   "id": "110ea556-4a6b-4b5b-9557-7ef7c841e1a6",
   "metadata": {},
   "outputs": [],
   "source": [
    "#mplement the prepare_X function. The idea here to provide the same way of preparing the dataset regardless of whether it’s train set, validation set, or test set.\n",
    "def prepare_X(df):\n",
    "    df_num = df[base]\n",
    "    df_num = df_num.fillna(0)\n",
    "    #extracting the Numpy array\n",
    "    X = df_num.values\n",
    "    return X"
   ]
  },
  {
   "cell_type": "code",
   "execution_count": 74,
   "id": "7b367776-40ff-4e18-944a-0bb3406ad76f",
   "metadata": {},
   "outputs": [
    {
     "data": {
      "text/plain": [
       "0.7483220833082832"
      ]
     },
     "execution_count": 74,
     "metadata": {},
     "output_type": "execute_result"
    }
   ],
   "source": [
    "#we can use this function when we prepare data for the training and for the validation as well.\n",
    "#In the training part we only use training dataset to train the model.\n",
    "#In the validation part we prepare the validation dataset the same way like before and apply the model. \n",
    "#Lastly we compute the rmse.\n",
    "\n",
    "# Training part\n",
    "X_train  = prepare_X(df_train)\n",
    "w0, w = train_linear_regression(X_train, y_train)\n",
    "\n",
    "#validation part\n",
    "X_val = prepare_X(df_val)\n",
    "y_pred = w0 + X_val.dot(w)\n",
    "\n",
    "# Evaluation part\n",
    "rmse(y_val, y_pred)\n"
   ]
  },
  {
   "cell_type": "markdown",
   "id": "3c426a43-615b-41d9-bfe9-0f1795faf28a",
   "metadata": {},
   "source": [
    "<p>When we compare the RMSE from training with the value from validation (0.751 vs. 0.748) we see that the model performs similarly well on the seen and unseen data. That is what we have hoped for.</p>"
   ]
  },
  {
   "cell_type": "markdown",
   "id": "289ecd1f-3a07-4254-a168-ced05e8e6634",
   "metadata": {},
   "source": [
    "### Categorical variables"
   ]
  },
  {
   "cell_type": "markdown",
   "id": "6577ad6c-4307-447c-b82f-6bbd0e4f30df",
   "metadata": {},
   "source": [
    "<p><strong>Categorical variables</strong> are variables that are categories (typically strings)</p>\n",
    "<p>Here: make, model, engine_fuel_type, transmission_type, driven_wheels, market_category, vehicle_size, vehicle_style But, there is one value that looks like numerical variable, but it isn’t.\r\n",
    "number_of_doors is not really a numerical number.</p>"
   ]
  },
  {
   "cell_type": "code",
   "execution_count": 76,
   "id": "22ba87be-5ad5-4671-b520-514b30a50652",
   "metadata": {},
   "outputs": [
    {
     "data": {
      "text/plain": [
       "make                  object\n",
       "model                 object\n",
       "year                   int64\n",
       "engine_fuel_type      object\n",
       "engine_hp            float64\n",
       "engine_cylinders     float64\n",
       "transmission_type     object\n",
       "driven_wheels         object\n",
       "number_of_doors      float64\n",
       "market_category       object\n",
       "vehicle_size          object\n",
       "vehicle_style         object\n",
       "highway_mpg            int64\n",
       "city_mpg               int64\n",
       "popularity             int64\n",
       "dtype: object"
      ]
     },
     "execution_count": 76,
     "metadata": {},
     "output_type": "execute_result"
    }
   ],
   "source": [
    "df_train.dtypes"
   ]
  },
  {
   "cell_type": "code",
   "execution_count": 77,
   "id": "9b5d20db-3c3f-4e21-b8c4-6b92c59272e7",
   "metadata": {},
   "outputs": [
    {
     "data": {
      "text/plain": [
       "0       4.0\n",
       "1       4.0\n",
       "2       4.0\n",
       "3       2.0\n",
       "4       4.0\n",
       "       ... \n",
       "7145    4.0\n",
       "7146    2.0\n",
       "7147    4.0\n",
       "7148    2.0\n",
       "7149    4.0\n",
       "Name: number_of_doors, Length: 7150, dtype: float64"
      ]
     },
     "execution_count": 77,
     "metadata": {},
     "output_type": "execute_result"
    }
   ],
   "source": [
    "df_train.number_of_doors"
   ]
  },
  {
   "cell_type": "code",
   "execution_count": 78,
   "id": "b7fd5912-8f41-4c7b-a196-21e4e6fb0278",
   "metadata": {},
   "outputs": [
    {
     "data": {
      "text/plain": [
       "0       False\n",
       "1       False\n",
       "2       False\n",
       "3        True\n",
       "4       False\n",
       "        ...  \n",
       "7145    False\n",
       "7146     True\n",
       "7147    False\n",
       "7148     True\n",
       "7149    False\n",
       "Name: number_of_doors, Length: 7150, dtype: bool"
      ]
     },
     "execution_count": 78,
     "metadata": {},
     "output_type": "execute_result"
    }
   ],
   "source": [
    "df_train.number_of_doors == 2"
   ]
  },
  {
   "cell_type": "markdown",
   "id": "3976b3f5-6f1b-466b-a521-83fd45fee4f1",
   "metadata": {},
   "source": [
    "<p>Typical way of encoding such categorical variables is that we represent it with a bunch of binary columns – so called one-hot encoding. For each value we have a different column</p>"
   ]
  },
  {
   "cell_type": "markdown",
   "id": "ed14373a-174b-4760-bf42-bebdc50943d8",
   "metadata": {},
   "source": [
    "<p>We can imitate this encoding by turning the booleans from the last snippet into integers (1 and 0) and creating a new variable for each number of doors.</p>"
   ]
  },
  {
   "cell_type": "code",
   "execution_count": 79,
   "id": "55a11761-3e7b-43c3-a6d4-ed615ce381fd",
   "metadata": {},
   "outputs": [],
   "source": [
    "df_train['num_doors_2'] = (df_train.number_of_doors == 2).astype('int')\n",
    "df_train['num_doors_3'] = (df_train.number_of_doors == 3).astype('int')\n",
    "df_train['num_doors_4'] = (df_train.number_of_doors == 4).astype('int')"
   ]
  },
  {
   "cell_type": "markdown",
   "id": "adf5d434-4e0e-4ed8-9695-49bfdd52ca83",
   "metadata": {},
   "source": [
    "<p>But we can do this easier with string replacement.</p>"
   ]
  },
  {
   "cell_type": "code",
   "execution_count": 80,
   "id": "a7657e7a-a2f9-41b2-9d4f-84dc4515d3c3",
   "metadata": {},
   "outputs": [
    {
     "data": {
      "text/plain": [
       "'num_doors_4'"
      ]
     },
     "execution_count": 80,
     "metadata": {},
     "output_type": "execute_result"
    }
   ],
   "source": [
    "'num_doors_%s' % 4\n",
    "\n",
    " \n"
   ]
  },
  {
   "cell_type": "code",
   "execution_count": 81,
   "id": "9da640c0-cf59-4f2f-9525-bd5af31fad99",
   "metadata": {},
   "outputs": [],
   "source": [
    "# With that replacement we can write a loop\n",
    "for v in [2, 3, 4]:\n",
    "    df_train['num_doors_%s' % v] = (df_train.number_of_doors == v).astype('int')\n",
    " \n",
    "# We delete this because we'll use another solution\n",
    "for v in [2, 3, 4]:\n",
    "    del df_train['num_doors_%s' % v]"
   ]
  },
  {
   "cell_type": "markdown",
   "id": "e29fb375-a7d6-4d07-8a45-569259d784fe",
   "metadata": {},
   "source": [
    "<p>Let’s use this string replacement method in our prepare_X function.</p>"
   ]
  },
  {
   "cell_type": "code",
   "execution_count": 82,
   "id": "e69e7b00-fb24-41fd-ac97-213246582f7f",
   "metadata": {},
   "outputs": [
    {
     "data": {
      "text/plain": [
       "array([[420.,   8.,  22., ...,   0.,   0.,   1.],\n",
       "       [260.,   6.,  26., ...,   0.,   0.,   1.],\n",
       "       [171.,   4.,  28., ...,   0.,   0.,   1.],\n",
       "       ...,\n",
       "       [305.,   6.,  26., ...,   0.,   0.,   1.],\n",
       "       [205.,   4.,  31., ...,   1.,   0.,   0.],\n",
       "       [120.,   4.,  23., ...,   0.,   0.,   1.]])"
      ]
     },
     "execution_count": 82,
     "metadata": {},
     "output_type": "execute_result"
    }
   ],
   "source": [
    "def prepare_X(df):\n",
    "    df = df.copy()\n",
    "    features = base.copy()\n",
    "     \n",
    "    df['age'] = 2017 - df.year\n",
    "    features.append('age')\n",
    "     \n",
    "    for v in [2, 3, 4]:\n",
    "        df['num_doors_%s' % v] = (df.number_of_doors == v).astype('int')\n",
    "        features.append('num_doors_%s' % v)\n",
    "     \n",
    "    df_num = df[features]\n",
    "    df_num = df_num.fillna(0)\n",
    "    # extracting the Numpy array\n",
    "    X = df_num.values\n",
    "    return X\n",
    " \n",
    "prepare_X(df_train)"
   ]
  },
  {
   "cell_type": "markdown",
   "id": "8e3875da-cc37-4bba-b72c-1e12d6a7f230",
   "metadata": {},
   "source": [
    "<p>When you look at the output of the last snippet you see at the end of each list there are three new items – one for each number of doors (2, 3, 4). Now we can check if the model performance has improved with the new features."
   ]
  },
  {
   "cell_type": "code",
   "execution_count": 83,
   "id": "bdfce131-5482-4601-aa8f-656dcf3c5f1f",
   "metadata": {},
   "outputs": [
    {
     "data": {
      "text/plain": [
       "0.5189425210679331"
      ]
     },
     "execution_count": 83,
     "metadata": {},
     "output_type": "execute_result"
    }
   ],
   "source": [
    "X_train = prepare_X(df_train)\n",
    "w0, w = train_linear_regression(X_train, y_train)\n",
    " \n",
    "X_val = prepare_X(df_val)\n",
    "y_pred = w0 + X_val.dot(w)\n",
    " \n",
    "rmse(y_val, y_pred)"
   ]
  },
  {
   "cell_type": "markdown",
   "id": "d8386537-ea26-4054-9452-e79aefd19572",
   "metadata": {},
   "source": [
    "<p>We see in contrast to the last training with rmse of 0.518925210679331 there is only a slightly improvement, almost negligible so the number of doors feature is not that useful. Maybe the ‘Make’ information is more useful.</p>"
   ]
  },
  {
   "cell_type": "code",
   "execution_count": 84,
   "id": "6ee9c7a7-1611-44d7-b5d0-f3b6cf10290c",
   "metadata": {},
   "outputs": [
    {
     "data": {
      "text/plain": [
       "48"
      ]
     },
     "execution_count": 84,
     "metadata": {},
     "output_type": "execute_result"
    }
   ],
   "source": [
    "df.make.nunique()"
   ]
  },
  {
   "cell_type": "markdown",
   "id": "3d9392c0-5bc2-4dfc-9031-c8dc4a3d1ea2",
   "metadata": {},
   "source": [
    "<p>There are 48 unique values in the ‘Make’ column. That could be too much. Let’s look at the most popular ones.</p>"
   ]
  },
  {
   "cell_type": "code",
   "execution_count": 85,
   "id": "ef56f7ff-6d96-4da3-b26d-948fa052ea5c",
   "metadata": {},
   "outputs": [
    {
     "data": {
      "text/plain": [
       "make\n",
       "chevrolet     1123\n",
       "ford           881\n",
       "volkswagen     809\n",
       "toyota         746\n",
       "dodge          626\n",
       "Name: count, dtype: int64"
      ]
     },
     "execution_count": 85,
     "metadata": {},
     "output_type": "execute_result"
    }
   ],
   "source": [
    "df.make.value_counts().head()"
   ]
  },
  {
   "cell_type": "code",
   "execution_count": 86,
   "id": "1e5087d9-66b3-4d39-8fec-5a3fa226281b",
   "metadata": {},
   "outputs": [
    {
     "data": {
      "text/plain": [
       "Index(['chevrolet', 'ford', 'volkswagen', 'toyota', 'dodge'], dtype='object', name='make')"
      ]
     },
     "execution_count": 86,
     "metadata": {},
     "output_type": "execute_result"
    }
   ],
   "source": [
    "# If we want to get the actual values, we use the index property\n",
    "df.make.value_counts().head().index"
   ]
  },
  {
   "cell_type": "code",
   "execution_count": 87,
   "id": "e60714cf-18ed-41ba-a8ac-9075d9875233",
   "metadata": {},
   "outputs": [
    {
     "data": {
      "text/plain": [
       "['chevrolet', 'ford', 'volkswagen', 'toyota', 'dodge']"
      ]
     },
     "execution_count": 87,
     "metadata": {},
     "output_type": "execute_result"
    }
   ],
   "source": [
    "# Wrap it in a usual Python list\n",
    "makes = list(df.make.value_counts().head().index)\n",
    "makes"
   ]
  },
  {
   "cell_type": "markdown",
   "id": "69577615-627f-4d2d-b9d4-8d0c387666ec",
   "metadata": {},
   "source": [
    "<p>We can now adapt again our prepare_X function to add the new feature.</p>"
   ]
  },
  {
   "cell_type": "code",
   "execution_count": 88,
   "id": "f0caef59-ea49-4cbc-8fdd-640ba4f449ed",
   "metadata": {},
   "outputs": [],
   "source": [
    "def prepare_X(df):\n",
    "    df = df.copy()\n",
    "    features = base.copy()\n",
    "     \n",
    "    df['age'] = 2017 - df.year\n",
    "    features.append('age')\n",
    "     \n",
    "    for v in [2, 3, 4]:\n",
    "        df['num_doors_%s' % v] = (df.number_of_doors == v).astype('int')\n",
    "        features.append('num_doors_%s' % v)\n",
    "         \n",
    "    for v in makes:\n",
    "        df['make_%s' % v] = (df.make == v).astype('int')\n",
    "        features.append('make_%s' % v)\n",
    "     \n",
    "    df_num = df[features]\n",
    "    df_num = df_num.fillna(0)\n",
    "    # extracting the Numpy array\n",
    "    X = df_num.values\n",
    "    return X"
   ]
  },
  {
   "cell_type": "markdown",
   "id": "7d7af378-0cbf-41f6-a645-68533f2a415d",
   "metadata": {},
   "source": [
    "<p>Now we can use our new prepare_X function and train and validate again.</p>"
   ]
  },
  {
   "cell_type": "code",
   "execution_count": 89,
   "id": "8e0439e9-bdeb-46c4-9d79-51ac8afea9f0",
   "metadata": {},
   "outputs": [
    {
     "data": {
      "text/plain": [
       "0.5098859931532362"
      ]
     },
     "execution_count": 89,
     "metadata": {},
     "output_type": "execute_result"
    }
   ],
   "source": [
    "X_train = prepare_X(df_train)\n",
    "w0, w = train_linear_regression(X_train, y_train)\n",
    " \n",
    "X_val = prepare_X(df_val)\n",
    "y_pred = w0 + X_val.dot(w)\n",
    " \n",
    "rmse(y_val, y_pred)"
   ]
  },
  {
   "cell_type": "markdown",
   "id": "292090e3-1eee-4839-a209-62cd7c028cbb",
   "metadata": {},
   "source": [
    "<p>The model performance has once again improved somewhat. How about adding all the other categorical variables now? This should improve the performance even more, right? Let’s try.</p>"
   ]
  },
  {
   "cell_type": "code",
   "execution_count": 90,
   "id": "e6ff6d8b-fa20-4893-9e74-94429d447f15",
   "metadata": {},
   "outputs": [
    {
     "data": {
      "text/plain": [
       "{'make': ['chevrolet', 'ford', 'volkswagen', 'toyota', 'dodge'],\n",
       " 'engine_fuel_type': ['regular_unleaded',\n",
       "  'premium_unleaded_(required)',\n",
       "  'premium_unleaded_(recommended)',\n",
       "  'flex-fuel_(unleaded/e85)',\n",
       "  'diesel'],\n",
       " 'transmission_type': ['automatic',\n",
       "  'manual',\n",
       "  'automated_manual',\n",
       "  'direct_drive',\n",
       "  'unknown'],\n",
       " 'driven_wheels': ['front_wheel_drive',\n",
       "  'rear_wheel_drive',\n",
       "  'all_wheel_drive',\n",
       "  'four_wheel_drive'],\n",
       " 'market_category': ['crossover',\n",
       "  'flex_fuel',\n",
       "  'luxury',\n",
       "  'luxury,performance',\n",
       "  'hatchback'],\n",
       " 'vehicle_size': ['compact', 'midsize', 'large'],\n",
       " 'vehicle_style': ['sedan',\n",
       "  '4dr_suv',\n",
       "  'coupe',\n",
       "  'convertible',\n",
       "  '4dr_hatchback']}"
      ]
     },
     "execution_count": 90,
     "metadata": {},
     "output_type": "execute_result"
    }
   ],
   "source": [
    "categorical_variables = [\n",
    "    'make', 'engine_fuel_type', 'transmission_type', 'driven_wheels', \n",
    "    'market_category', 'vehicle_size', 'vehicle_style'\n",
    "]\n",
    " \n",
    "# The dictionary category will contain for each of the categories \n",
    "# the top 5 most common ones\n",
    "categories = {}\n",
    " \n",
    "for c in categorical_variables:\n",
    "    categories[c] = list(df[c].value_counts().head().index)\n",
    "     \n",
    "categories"
   ]
  },
  {
   "cell_type": "markdown",
   "id": "d1f7e66d-0ab3-42ae-bff7-f3fd9583f562",
   "metadata": {},
   "source": [
    "<p>The next snippet shows how to implement the new features to our prepare_X function. This time we need two loops as described inline.</p>"
   ]
  },
  {
   "cell_type": "code",
   "execution_count": 91,
   "id": "5e141b9f-3b87-429d-a49e-057aa89c3b48",
   "metadata": {},
   "outputs": [],
   "source": [
    "def prepare_X(df):\n",
    "    # this is good way to do, otherwise while using df you'll modify the original data\n",
    "    # what is mostly not wanted\n",
    "    df = df.copy()\n",
    "    features = base.copy()\n",
    "     \n",
    "    df['age'] = 2017 - df.year\n",
    "    features.append('age')\n",
    "     \n",
    "    for v in [2, 3, 4]:\n",
    "        df['num_doors_%s' % v] = (df.number_of_doors == v).astype('int')\n",
    "        features.append('num_doors_%s' % v)\n",
    " \n",
    "    # First loop is for each key of the dictionary categories.\n",
    "    # Second loop is for each value inside the categories\n",
    "    # For each of this values we create a new column.\n",
    "    for c, values in categories.items():    \n",
    "        for v in values:\n",
    "            df['%s_%s' % (c, v)] = (df[c] == v).astype('int')\n",
    "            features.append('%s_%s' % (c, v))\n",
    "     \n",
    "    df_num = df[features]\n",
    "    df_num = df_num.fillna(0)\n",
    "    # extracting the Numpy array\n",
    "    X = df_num.values\n",
    "    return X"
   ]
  },
  {
   "cell_type": "markdown",
   "id": "5eb4d60a-df41-47be-b95f-c955b3763fe6",
   "metadata": {},
   "source": [
    "<p>Now we can train the model again and apply it to the validation data to see what is the model performance.</p>"
   ]
  },
  {
   "cell_type": "code",
   "execution_count": 92,
   "id": "e17adc33-8f5b-4683-b145-7c3595fce175",
   "metadata": {},
   "outputs": [
    {
     "data": {
      "text/plain": [
       "75.35397947733084"
      ]
     },
     "execution_count": 92,
     "metadata": {},
     "output_type": "execute_result"
    }
   ],
   "source": [
    "X_train = prepare_X(df_train)\n",
    "w0, w = train_linear_regression(X_train, y_train)\n",
    " \n",
    "X_val = prepare_X(df_val)\n",
    "y_pred = w0 + X_val.dot(w)\n",
    " \n",
    "rmse(y_val, y_pred)"
   ]
  },
  {
   "cell_type": "markdown",
   "id": "e83bf927-c847-4870-a89f-3e626c384a6e",
   "metadata": {},
   "source": [
    "<p>This time the model performance is very bad. As you can see the RMSE (75.353) is very large. So something went wrong. In the next article we’ll see why that has happened and how to fix it.</p>"
   ]
  },
  {
   "cell_type": "markdown",
   "id": "f82261fe-cb61-4eca-8219-1b39bf322a4d",
   "metadata": {},
   "source": [
    "### Regularization"
   ]
  },
  {
   "cell_type": "markdown",
   "id": "4203aed6-4b33-4881-b706-621899d6a160",
   "metadata": {},
   "source": [
    "<p>The topic for this part is <strong>regularization</strong> as a way to solve the problem of duplicated columns in our data.</p>"
   ]
  },
  {
   "cell_type": "code",
   "execution_count": 93,
   "id": "10b170a2-2b3d-4c78-9ea6-dd237229820d",
   "metadata": {},
   "outputs": [],
   "source": [
    "# reg = regularized\n",
    "# parameter r = short for regularization\n",
    "def train_linear_regression_reg(X, y, r=0.001):\n",
    "    ones = np.ones(X.shape[0])\n",
    "    X = np.column_stack([ones, X])\n",
    "     \n",
    "    XTX = X.T.dot(X)\n",
    "    XTX = XTX + r*np.eye(XTX.shape[0])\n",
    "     \n",
    "    XTX_inv = np.linalg.inv(XTX)\n",
    "    w_full = XTX_inv.dot(X.T).dot(y)\n",
    "     \n",
    "    return w_full[0], w_full[1:]"
   ]
  },
  {
   "cell_type": "code",
   "execution_count": 94,
   "id": "afadf9d6-6f31-4a95-b26c-bb32954c9769",
   "metadata": {},
   "outputs": [
    {
     "data": {
      "text/plain": [
       "0.4580216014865772"
      ]
     },
     "execution_count": 94,
     "metadata": {},
     "output_type": "execute_result"
    }
   ],
   "source": [
    "X_train = prepare_X(df_train)\n",
    "w0, w = train_linear_regression_reg(X_train, y_train, r=0.01)\n",
    " \n",
    "X_val = prepare_X(df_val)\n",
    "y_pred = w0 + X_val.dot(w)\n",
    " \n",
    "rmse(y_val, y_pred)"
   ]
  },
  {
   "cell_type": "markdown",
   "id": "8869aa1a-0e53-40fd-b42b-ec4aafcdd311",
   "metadata": {},
   "source": [
    "### Tuning the model "
   ]
  },
  {
   "cell_type": "markdown",
   "id": "ad8890c8-e9a8-4e4a-8da4-cbc0d870e1e0",
   "metadata": {},
   "source": [
    "<p>The topic for this article is finding the best regularization parameter for our linear regression model. We realized that the parameter r affects the quality of our model and now we try to find the best value for this r.</p>"
   ]
  },
  {
   "cell_type": "code",
   "execution_count": 95,
   "id": "3908ef53-8d7c-4827-82d3-9e19a944890c",
   "metadata": {},
   "outputs": [
    {
     "name": "stdout",
     "output_type": "stream",
     "text": [
      "reg parameter:  0.0 bias term:  3577553087685303.0 rmse:  75.35397947733084\n",
      "reg parameter:  1e-05 bias term:  5.295633344094753 rmse:  0.4580306415834912\n",
      "reg parameter:  0.0001 bias term:  6.759580055341216 rmse:  0.45803058353096526\n",
      "reg parameter:  0.001 bias term:  6.7507740140532935 rmse:  0.45802975663608725\n",
      "reg parameter:  0.01 bias term:  6.737430767200124 rmse:  0.4580216014865772\n",
      "reg parameter:  0.1 bias term:  6.615563506351078 rmse:  0.4579528227388946\n",
      "reg parameter:  1 bias term:  5.874306163960158 rmse:  0.4580163670320614\n",
      "reg parameter:  10 bias term:  4.239539589639644 rmse:  0.47325541869384075\n"
     ]
    }
   ],
   "source": [
    "for r in [0.0, 0.00001, 0.0001, 0.001, 0.01, 0.1, 1, 10]:\n",
    "    X_train = prepare_X(df_train)\n",
    "    w0, w = train_linear_regression_reg(X_train, y_train, r=r)\n",
    " \n",
    "    X_val = prepare_X(df_val)\n",
    "    y_pred = w0 + X_val.dot(w)\n",
    " \n",
    "    score = rmse(y_val, y_pred)\n",
    "     \n",
    "    print(\"reg parameter: \",r, \"bias term: \",w0, \"rmse: \",score)"
   ]
  },
  {
   "cell_type": "markdown",
   "id": "48a1dbc5-2311-4855-a73d-0187a413cbb6",
   "metadata": {},
   "source": [
    "<p>What you see here is using r=0 makes the bias term huge and the rmse score aswell.\r\n",
    "0.001 could be a good parameter for r.</p>"
   ]
  },
  {
   "cell_type": "code",
   "execution_count": 96,
   "id": "1515e989-2793-478b-94a0-41090e2ed334",
   "metadata": {},
   "outputs": [
    {
     "name": "stdout",
     "output_type": "stream",
     "text": [
      "rmse:  0.45802975663608725\n"
     ]
    }
   ],
   "source": [
    "r = 0.001\n",
    "X_train = prepare_X(df_train)\n",
    "w0, w = train_linear_regression_reg(X_train, y_train, r=r)\n",
    " \n",
    "X_val = prepare_X(df_val)\n",
    "y_pred = w0 + X_val.dot(w)\n",
    " \n",
    "score = rmse(y_val, y_pred)\n",
    "    \n",
    "print(\"rmse: \",score)"
   ]
  },
  {
   "cell_type": "markdown",
   "id": "4fc6d852-3bd2-43a4-9e59-d02a46244086",
   "metadata": {},
   "source": [
    "### Using the model"
   ]
  },
  {
   "cell_type": "markdown",
   "id": "fbe4e1fb-686f-4a84-a80e-cc5448783d96",
   "metadata": {},
   "source": [
    "<p>What we want to do now is to train our final model on both training dataset and validation dataset. We call this FULL TRAIN. After that we make the final evaluation on the test dataset to make sure that our model works fine and check what is the value for RMSE. It shouldn’t be too different from what we saw on the validation dataset.</p>"
   ]
  },
  {
   "cell_type": "markdown",
   "id": "72979dff-7069-44c2-874f-a62642332193",
   "metadata": {},
   "source": [
    "### Combining datasets"
   ]
  },
  {
   "cell_type": "markdown",
   "id": "604978bd-3813-49b9-b20e-15b593172cb9",
   "metadata": {},
   "source": [
    "<p>First step to do is getting our data. So we need to combine df_train and df_val into one dataset. We can use Pandas concat() function that takes a list of dataframes and concatenates them together</p>"
   ]
  },
  {
   "cell_type": "code",
   "execution_count": 97,
   "id": "13563e93-b431-4e6f-94d7-4cb31f2df499",
   "metadata": {},
   "outputs": [],
   "source": [
    "df_full_train = pd.concat([df_train, df_val])"
   ]
  },
  {
   "cell_type": "markdown",
   "id": "a78f3df1-3883-4a77-9476-2023bd8ac21c",
   "metadata": {},
   "source": [
    "<p>We also need to concatenate y_train and y_val to get y_full_train. This time we use the concatenate function of NumPy library.</p>"
   ]
  },
  {
   "cell_type": "code",
   "execution_count": 98,
   "id": "03613257-32d0-43cc-805e-0580c7c6c867",
   "metadata": {},
   "outputs": [
    {
     "data": {
      "text/plain": [
       "array([11.40032771, 10.54799581,  9.93090815, ..., 10.84058041,\n",
       "       10.25347519, 10.8441001 ])"
      ]
     },
     "execution_count": 98,
     "metadata": {},
     "output_type": "execute_result"
    }
   ],
   "source": [
    "y_full_train = np.concatenate([y_train, y_val])\n",
    "y_full_train"
   ]
  },
  {
   "cell_type": "markdown",
   "id": "488f9878-f59e-4aaa-9407-df68a9d09c06",
   "metadata": {},
   "source": [
    "### Resetting index"
   ]
  },
  {
   "cell_type": "markdown",
   "id": "6e64064f-130c-41a6-9b76-f13100fb57b0",
   "metadata": {},
   "source": [
    "<p>Now we have again a coherent dataset for training and we can prepare it for the usage as we did before. The prepare_X() function still works fine.</p>"
   ]
  },
  {
   "cell_type": "code",
   "execution_count": 99,
   "id": "574424ff-6270-4a22-a443-b716eba73e7d",
   "metadata": {},
   "outputs": [
    {
     "data": {
      "text/plain": [
       "array([[420.,   8.,  22., ...,   0.,   0.,   0.],\n",
       "       [260.,   6.,  26., ...,   0.,   0.,   0.],\n",
       "       [171.,   4.,  28., ...,   0.,   0.,   0.],\n",
       "       ...,\n",
       "       [325.,   6.,  24., ...,   0.,   0.,   0.],\n",
       "       [261.,   6.,  21., ...,   0.,   0.,   0.],\n",
       "       [355.,   8.,  23., ...,   0.,   0.,   0.]])"
      ]
     },
     "execution_count": 99,
     "metadata": {},
     "output_type": "execute_result"
    }
   ],
   "source": [
    "X_full_train = prepare_X(df_full_train) \n",
    "X_full_train"
   ]
  },
  {
   "cell_type": "markdown",
   "id": "faff668d-ed8c-4f46-a5d7-791dfa88f6fe",
   "metadata": {},
   "source": [
    "### Train the final model"
   ]
  },
  {
   "cell_type": "markdown",
   "id": "f3794a8f-de86-4561-851d-3836eaa2bdce",
   "metadata": {},
   "source": [
    "<p>Next step is to train the final model on the combined dataset. We’re using the new train_linear_regression_reg() function to get the value for w0 and the vector w.</p>"
   ]
  },
  {
   "cell_type": "code",
   "execution_count": 100,
   "id": "57c5d10e-e052-4521-905b-edacc865dd9d",
   "metadata": {},
   "outputs": [
    {
     "data": {
      "text/plain": [
       "(6.721880018034083,\n",
       " array([ 1.21861224e-03,  1.14971914e-01, -3.60562069e-02,  1.32143349e-02,\n",
       "        -5.05293829e-05, -1.02578039e-01, -9.02203001e-01, -1.10526809e+00,\n",
       "        -7.81758522e-01, -3.75295202e-02,  1.68179889e-01,  5.50547701e-03,\n",
       "        -1.43955253e-01, -9.92926115e-02, -5.02052843e-01,  3.76650663e-02,\n",
       "        -3.50080782e-01, -5.62112325e-01,  2.71709061e-03,  1.14632932e+00,\n",
       "         9.75725830e-01,  1.20480695e+00,  2.94544446e+00,  4.46715767e-01,\n",
       "         1.76561298e+00,  1.63049171e+00,  1.72340906e+00,  1.60163946e+00,\n",
       "        -9.67346762e-02,  1.26604219e-02, -3.95437198e-02, -1.35518277e-02,\n",
       "         2.67736764e-02,  2.31879874e+00,  2.21272274e+00,  2.18983896e+00,\n",
       "         3.68067287e-02,  4.84988459e-02,  2.33399535e-01,  3.45922826e-01,\n",
       "        -1.25471199e-01]))"
      ]
     },
     "execution_count": 100,
     "metadata": {},
     "output_type": "execute_result"
    }
   ],
   "source": [
    "w0, w = train_linear_regression_reg(X_full_train, y_full_train, r=0.001)\n",
    "w0, w"
   ]
  },
  {
   "cell_type": "markdown",
   "id": "c50d0e8a-6a20-4c3c-9bac-3eef152b147a",
   "metadata": {},
   "source": [
    "### Applying model to test data\n"
   ]
  },
  {
   "cell_type": "markdown",
   "id": "fbd953e7-87d2-4b3a-b90f-5d79420ddb27",
   "metadata": {},
   "source": [
    "<p>Now is the great moment for the final model. It must pass the final test. For this purpose we use test data, which are again prepared with the prepare_X() function. Then the model is applied to the test data and the RMSE can be calculated.</p>"
   ]
  },
  {
   "cell_type": "code",
   "execution_count": 101,
   "id": "cccb988d-4976-4d79-bd77-42dd06273bc1",
   "metadata": {},
   "outputs": [
    {
     "name": "stdout",
     "output_type": "stream",
     "text": [
      "rmse:  0.5075885552679636\n"
     ]
    }
   ],
   "source": [
    "X_test = prepare_X(df_test)\n",
    "y_pred = w0 + X_test.dot(w)\n",
    " \n",
    "score = rmse(y_test, y_pred)\n",
    "    \n",
    "print(\"rmse: \",score)"
   ]
  },
  {
   "cell_type": "markdown",
   "id": "91e2bb1d-a85c-4ad4-88bd-743c045529ee",
   "metadata": {},
   "source": [
    "<p>RMSE_test = 0.5075885552679636 is not so far away from RMSE_val = 0.4568807317131709. That means the model generalizes quite well and it didn’t get this score by chance. Now we have our final model and we can use it. The way we want to use it is to predict the price of an (unseen) car – unseen means here that the model hasn’t seen this car during training.</p>"
   ]
  },
  {
   "cell_type": "markdown",
   "id": "51cdd06f-438e-4253-9588-963922030774",
   "metadata": {},
   "source": [
    "### Using the model"
   ]
  },
  {
   "cell_type": "markdown",
   "id": "bc728508-f194-4a6d-b1c8-c8b2a8c5b17c",
   "metadata": {},
   "source": [
    "<p>Using the model means:</p>\n",
    "<ol>\n",
    "    <li>Extracting all the features (getting feature vector of the car)</li>\n",
    "    <li>Applying our final model to this feature vector & predicting the price</li>\n",
    "</ol>"
   ]
  },
  {
   "cell_type": "markdown",
   "id": "6bb84269-4e46-4983-a8f7-c8bc15f1be4d",
   "metadata": {},
   "source": [
    "#### Feature Extraction"
   ]
  },
  {
   "cell_type": "markdown",
   "id": "63d0fcd1-2b23-4ea9-9109-6836289cf2be",
   "metadata": {},
   "source": [
    "<p>For this step we can take any car from our test dataset and pretend it’s a new car. Let’s just take one car.</p>"
   ]
  },
  {
   "cell_type": "code",
   "execution_count": 102,
   "id": "0557e1a2-6fcb-4d68-9416-80245a3c275e",
   "metadata": {},
   "outputs": [
    {
     "data": {
      "text/plain": [
       "make                                      gmc\n",
       "model                                  savana\n",
       "year                                     2014\n",
       "engine_fuel_type     flex-fuel_(unleaded/e85)\n",
       "engine_hp                               310.0\n",
       "engine_cylinders                          8.0\n",
       "transmission_type                   automatic\n",
       "driven_wheels                 all_wheel_drive\n",
       "number_of_doors                           3.0\n",
       "market_category                     flex_fuel\n",
       "vehicle_size                          midsize\n",
       "vehicle_style                   passenger_van\n",
       "highway_mpg                                17\n",
       "city_mpg                                   13\n",
       "popularity                                549\n",
       "Name: 20, dtype: object"
      ]
     },
     "execution_count": 102,
     "metadata": {},
     "output_type": "execute_result"
    }
   ],
   "source": [
    "df_test.iloc[20]"
   ]
  },
  {
   "cell_type": "markdown",
   "id": "0a2157d6-ab41-4432-ba32-7d24ed014c6a",
   "metadata": {},
   "source": [
    "<p>Usually the way we do it is that we don’t get a dataframe here. But it could be a Python dictionary with all the information about the car. In real life you can imagine a website or an app, where people enter all the values. Then the website sends the request with all the information (as dictionary) to the model. The model replies back with the predicted price.</p>"
   ]
  },
  {
   "cell_type": "markdown",
   "id": "f3b3b926-457b-434b-a11e-4f7970bd7ac8",
   "metadata": {},
   "source": [
    "<p>For this example we turn this data of our car into a dictionary.</p>"
   ]
  },
  {
   "cell_type": "code",
   "execution_count": 103,
   "id": "c452e660-a4c1-4f3d-be44-5c1d8a593a16",
   "metadata": {},
   "outputs": [
    {
     "data": {
      "text/plain": [
       "{'make': 'gmc',\n",
       " 'model': 'savana',\n",
       " 'year': 2014,\n",
       " 'engine_fuel_type': 'flex-fuel_(unleaded/e85)',\n",
       " 'engine_hp': 310.0,\n",
       " 'engine_cylinders': 8.0,\n",
       " 'transmission_type': 'automatic',\n",
       " 'driven_wheels': 'all_wheel_drive',\n",
       " 'number_of_doors': 3.0,\n",
       " 'market_category': 'flex_fuel',\n",
       " 'vehicle_size': 'midsize',\n",
       " 'vehicle_style': 'passenger_van',\n",
       " 'highway_mpg': 17,\n",
       " 'city_mpg': 13,\n",
       " 'popularity': 549}"
      ]
     },
     "execution_count": 103,
     "metadata": {},
     "output_type": "execute_result"
    }
   ],
   "source": [
    "car = df_test.iloc[20].to_dict()\n",
    "car"
   ]
  },
  {
   "cell_type": "markdown",
   "id": "4a6b7df3-7550-4ebe-b098-ebaff602c563",
   "metadata": {},
   "source": [
    "<p>The car is our request and now remember the prepare_X function expects a dataframe, so we need to create a dataframe with a single row for our request.</p>"
   ]
  },
  {
   "cell_type": "code",
   "execution_count": 104,
   "id": "57458dd9-a436-413c-bc10-ed5e4522edb2",
   "metadata": {},
   "outputs": [
    {
     "data": {
      "text/html": [
       "<div>\n",
       "<style scoped>\n",
       "    .dataframe tbody tr th:only-of-type {\n",
       "        vertical-align: middle;\n",
       "    }\n",
       "\n",
       "    .dataframe tbody tr th {\n",
       "        vertical-align: top;\n",
       "    }\n",
       "\n",
       "    .dataframe thead th {\n",
       "        text-align: right;\n",
       "    }\n",
       "</style>\n",
       "<table border=\"1\" class=\"dataframe\">\n",
       "  <thead>\n",
       "    <tr style=\"text-align: right;\">\n",
       "      <th></th>\n",
       "      <th>make</th>\n",
       "      <th>model</th>\n",
       "      <th>year</th>\n",
       "      <th>engine_fuel_type</th>\n",
       "      <th>engine_hp</th>\n",
       "      <th>engine_cylinders</th>\n",
       "      <th>transmission_type</th>\n",
       "      <th>driven_wheels</th>\n",
       "      <th>number_of_doors</th>\n",
       "      <th>market_category</th>\n",
       "      <th>vehicle_size</th>\n",
       "      <th>vehicle_style</th>\n",
       "      <th>highway_mpg</th>\n",
       "      <th>city_mpg</th>\n",
       "      <th>popularity</th>\n",
       "    </tr>\n",
       "  </thead>\n",
       "  <tbody>\n",
       "    <tr>\n",
       "      <th>0</th>\n",
       "      <td>gmc</td>\n",
       "      <td>savana</td>\n",
       "      <td>2014</td>\n",
       "      <td>flex-fuel_(unleaded/e85)</td>\n",
       "      <td>310.0</td>\n",
       "      <td>8.0</td>\n",
       "      <td>automatic</td>\n",
       "      <td>all_wheel_drive</td>\n",
       "      <td>3.0</td>\n",
       "      <td>flex_fuel</td>\n",
       "      <td>midsize</td>\n",
       "      <td>passenger_van</td>\n",
       "      <td>17</td>\n",
       "      <td>13</td>\n",
       "      <td>549</td>\n",
       "    </tr>\n",
       "  </tbody>\n",
       "</table>\n",
       "</div>"
      ],
      "text/plain": [
       "  make   model  year          engine_fuel_type  engine_hp  engine_cylinders  \\\n",
       "0  gmc  savana  2014  flex-fuel_(unleaded/e85)      310.0               8.0   \n",
       "\n",
       "  transmission_type    driven_wheels  number_of_doors market_category  \\\n",
       "0         automatic  all_wheel_drive              3.0       flex_fuel   \n",
       "\n",
       "  vehicle_size  vehicle_style  highway_mpg  city_mpg  popularity  \n",
       "0      midsize  passenger_van           17        13         549  "
      ]
     },
     "execution_count": 104,
     "metadata": {},
     "output_type": "execute_result"
    }
   ],
   "source": [
    "df_small = pd.DataFrame([car])\n",
    "df_small"
   ]
  },
  {
   "cell_type": "markdown",
   "id": "3b13e80f-99ed-48f4-bce4-0f43dff52241",
   "metadata": {},
   "source": [
    "<p>We can use this single row DataFrame as input for the prepare_X() function to get the feature matrix. In this case our feature matrix is a feature vector.</p>"
   ]
  },
  {
   "cell_type": "code",
   "execution_count": 105,
   "id": "487d100c-ab02-43c3-87ac-80e305edde0c",
   "metadata": {},
   "outputs": [
    {
     "data": {
      "text/plain": [
       "array([[310.,   8.,  17.,  13., 549.,   3.,   0.,   1.,   0.,   0.,   0.,\n",
       "          0.,   0.,   0.,   0.,   0.,   0.,   1.,   0.,   1.,   0.,   0.,\n",
       "          0.,   0.,   0.,   0.,   1.,   0.,   0.,   1.,   0.,   0.,   0.,\n",
       "          0.,   1.,   0.,   0.,   0.,   0.,   0.,   0.]])"
      ]
     },
     "execution_count": 105,
     "metadata": {},
     "output_type": "execute_result"
    }
   ],
   "source": [
    "X_small = prepare_X(df_small)\n",
    "X_small"
   ]
  },
  {
   "cell_type": "markdown",
   "id": "0446a29e-25be-4222-b157-6b31e4682b66",
   "metadata": {},
   "source": [
    "#### Predicting the price"
   ]
  },
  {
   "cell_type": "markdown",
   "id": "cb5c4948-2deb-4345-887f-3b7d0ff4d806",
   "metadata": {},
   "source": [
    "<p>The final step is to apply the final model to our requested car (feature vector) and predict the price.</p>"
   ]
  },
  {
   "cell_type": "code",
   "execution_count": 106,
   "id": "6e3eacba-e71f-483d-aed4-3a93db38ff1f",
   "metadata": {},
   "outputs": [
    {
     "data": {
      "text/plain": [
       "10.670522336219976"
      ]
     },
     "execution_count": 106,
     "metadata": {},
     "output_type": "execute_result"
    }
   ],
   "source": [
    "y_pred = w0 + X_small.dot(w)\n",
    "# Don't need an array but it's first (and only) item\n",
    "y_pred = y_pred[0]\n",
    "y_pred"
   ]
  },
  {
   "cell_type": "markdown",
   "id": "2628b8f5-363e-4aac-89b6-ff7cc5e5bbe5",
   "metadata": {},
   "source": [
    "<p>10.67 is still not the price in $. To get the real price we need to undo the logarithm.</p>"
   ]
  },
  {
   "cell_type": "code",
   "execution_count": 107,
   "id": "2632043f-d48e-48b5-a62f-c9871dde8fed",
   "metadata": {},
   "outputs": [
    {
     "data": {
      "text/plain": [
       "43066.431303061945"
      ]
     },
     "execution_count": 107,
     "metadata": {},
     "output_type": "execute_result"
    }
   ],
   "source": [
    "np.expm1(y_pred)"
   ]
  },
  {
   "cell_type": "markdown",
   "id": "f3ac6886-070c-4f07-9480-2c0f694214de",
   "metadata": {},
   "source": [
    "<p>After undoing the logarithm we get the price in dollars.So we think that a car with these charachteristics should cost 43066.43 dollars</p>"
   ]
  },
  {
   "cell_type": "markdown",
   "id": "3fcc3509-440d-488d-a514-32d96ce8b0d1",
   "metadata": {},
   "source": [
    "<p>Lastly to get an evaluation about model performance let’s compare the predicted price to the actual price of this requested car.</p>"
   ]
  },
  {
   "cell_type": "code",
   "execution_count": 108,
   "id": "a0d096fc-ce77-4596-b7f6-6d240a6af89a",
   "metadata": {},
   "outputs": [
    {
     "data": {
      "text/plain": [
       "34524.99999999998"
      ]
     },
     "execution_count": 108,
     "metadata": {},
     "output_type": "execute_result"
    }
   ],
   "source": [
    "np.expm1(y_test[20])"
   ]
  },
  {
   "cell_type": "code",
   "execution_count": null,
   "id": "3b88b86b-dc69-4924-9084-17b4669aa455",
   "metadata": {},
   "outputs": [],
   "source": []
  }
 ],
 "metadata": {
  "kernelspec": {
   "display_name": "Python 3 (ipykernel)",
   "language": "python",
   "name": "python3"
  },
  "language_info": {
   "codemirror_mode": {
    "name": "ipython",
    "version": 3
   },
   "file_extension": ".py",
   "mimetype": "text/x-python",
   "name": "python",
   "nbconvert_exporter": "python",
   "pygments_lexer": "ipython3",
   "version": "3.11.7"
  }
 },
 "nbformat": 4,
 "nbformat_minor": 5
}
