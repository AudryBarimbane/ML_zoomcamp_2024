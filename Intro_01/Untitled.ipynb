{
 "cells": [
  {
   "cell_type": "code",
   "execution_count": 2,
   "id": "0e4f9b33-2130-469b-beb3-98318b15dbbe",
   "metadata": {},
   "outputs": [],
   "source": [
    "import pandas as pd"
   ]
  },
  {
   "cell_type": "code",
   "execution_count": 3,
   "id": "9047950d-9ad4-4ca8-9b63-25c38173b661",
   "metadata": {},
   "outputs": [
    {
     "data": {
      "text/plain": [
       "'2.1.4'"
      ]
     },
     "execution_count": 3,
     "metadata": {},
     "output_type": "execute_result"
    }
   ],
   "source": [
    "pd.__version__"
   ]
  },
  {
   "cell_type": "code",
   "execution_count": 4,
   "id": "3bdf1c8d-d9aa-493b-ba3e-771da153c791",
   "metadata": {},
   "outputs": [],
   "source": [
    "df = pd.read_csv('https://raw.githubusercontent.com/alexeygrigorev/datasets/master/laptops.csv')"
   ]
  },
  {
   "cell_type": "code",
   "execution_count": 5,
   "id": "7ad58f1c-b5d1-41fe-a0fd-b868834fb3bf",
   "metadata": {},
   "outputs": [
    {
     "data": {
      "text/html": [
       "<div>\n",
       "<style scoped>\n",
       "    .dataframe tbody tr th:only-of-type {\n",
       "        vertical-align: middle;\n",
       "    }\n",
       "\n",
       "    .dataframe tbody tr th {\n",
       "        vertical-align: top;\n",
       "    }\n",
       "\n",
       "    .dataframe thead th {\n",
       "        text-align: right;\n",
       "    }\n",
       "</style>\n",
       "<table border=\"1\" class=\"dataframe\">\n",
       "  <thead>\n",
       "    <tr style=\"text-align: right;\">\n",
       "      <th></th>\n",
       "      <th>Laptop</th>\n",
       "      <th>Status</th>\n",
       "      <th>Brand</th>\n",
       "      <th>Model</th>\n",
       "      <th>CPU</th>\n",
       "      <th>RAM</th>\n",
       "      <th>Storage</th>\n",
       "      <th>Storage type</th>\n",
       "      <th>GPU</th>\n",
       "      <th>Screen</th>\n",
       "      <th>Touch</th>\n",
       "      <th>Final Price</th>\n",
       "    </tr>\n",
       "  </thead>\n",
       "  <tbody>\n",
       "    <tr>\n",
       "      <th>0</th>\n",
       "      <td>ASUS ExpertBook B1 B1502CBA-EJ0436X Intel Core...</td>\n",
       "      <td>New</td>\n",
       "      <td>Asus</td>\n",
       "      <td>ExpertBook</td>\n",
       "      <td>Intel Core i5</td>\n",
       "      <td>8</td>\n",
       "      <td>512</td>\n",
       "      <td>SSD</td>\n",
       "      <td>NaN</td>\n",
       "      <td>15.6</td>\n",
       "      <td>No</td>\n",
       "      <td>1009.00</td>\n",
       "    </tr>\n",
       "    <tr>\n",
       "      <th>1</th>\n",
       "      <td>Alurin Go Start Intel Celeron N4020/8GB/256GB ...</td>\n",
       "      <td>New</td>\n",
       "      <td>Alurin</td>\n",
       "      <td>Go</td>\n",
       "      <td>Intel Celeron</td>\n",
       "      <td>8</td>\n",
       "      <td>256</td>\n",
       "      <td>SSD</td>\n",
       "      <td>NaN</td>\n",
       "      <td>15.6</td>\n",
       "      <td>No</td>\n",
       "      <td>299.00</td>\n",
       "    </tr>\n",
       "    <tr>\n",
       "      <th>2</th>\n",
       "      <td>ASUS ExpertBook B1 B1502CBA-EJ0424X Intel Core...</td>\n",
       "      <td>New</td>\n",
       "      <td>Asus</td>\n",
       "      <td>ExpertBook</td>\n",
       "      <td>Intel Core i3</td>\n",
       "      <td>8</td>\n",
       "      <td>256</td>\n",
       "      <td>SSD</td>\n",
       "      <td>NaN</td>\n",
       "      <td>15.6</td>\n",
       "      <td>No</td>\n",
       "      <td>789.00</td>\n",
       "    </tr>\n",
       "    <tr>\n",
       "      <th>3</th>\n",
       "      <td>MSI Katana GF66 12UC-082XES Intel Core i7-1270...</td>\n",
       "      <td>New</td>\n",
       "      <td>MSI</td>\n",
       "      <td>Katana</td>\n",
       "      <td>Intel Core i7</td>\n",
       "      <td>16</td>\n",
       "      <td>1000</td>\n",
       "      <td>SSD</td>\n",
       "      <td>RTX 3050</td>\n",
       "      <td>15.6</td>\n",
       "      <td>No</td>\n",
       "      <td>1199.00</td>\n",
       "    </tr>\n",
       "    <tr>\n",
       "      <th>4</th>\n",
       "      <td>HP 15S-FQ5085NS Intel Core i5-1235U/16GB/512GB...</td>\n",
       "      <td>New</td>\n",
       "      <td>HP</td>\n",
       "      <td>15S</td>\n",
       "      <td>Intel Core i5</td>\n",
       "      <td>16</td>\n",
       "      <td>512</td>\n",
       "      <td>SSD</td>\n",
       "      <td>NaN</td>\n",
       "      <td>15.6</td>\n",
       "      <td>No</td>\n",
       "      <td>669.01</td>\n",
       "    </tr>\n",
       "  </tbody>\n",
       "</table>\n",
       "</div>"
      ],
      "text/plain": [
       "                                              Laptop Status   Brand  \\\n",
       "0  ASUS ExpertBook B1 B1502CBA-EJ0436X Intel Core...    New    Asus   \n",
       "1  Alurin Go Start Intel Celeron N4020/8GB/256GB ...    New  Alurin   \n",
       "2  ASUS ExpertBook B1 B1502CBA-EJ0424X Intel Core...    New    Asus   \n",
       "3  MSI Katana GF66 12UC-082XES Intel Core i7-1270...    New     MSI   \n",
       "4  HP 15S-FQ5085NS Intel Core i5-1235U/16GB/512GB...    New      HP   \n",
       "\n",
       "        Model            CPU  RAM  Storage Storage type       GPU  Screen  \\\n",
       "0  ExpertBook  Intel Core i5    8      512          SSD       NaN    15.6   \n",
       "1          Go  Intel Celeron    8      256          SSD       NaN    15.6   \n",
       "2  ExpertBook  Intel Core i3    8      256          SSD       NaN    15.6   \n",
       "3      Katana  Intel Core i7   16     1000          SSD  RTX 3050    15.6   \n",
       "4         15S  Intel Core i5   16      512          SSD       NaN    15.6   \n",
       "\n",
       "  Touch  Final Price  \n",
       "0    No      1009.00  \n",
       "1    No       299.00  \n",
       "2    No       789.00  \n",
       "3    No      1199.00  \n",
       "4    No       669.01  "
      ]
     },
     "execution_count": 5,
     "metadata": {},
     "output_type": "execute_result"
    }
   ],
   "source": [
    "df.head(5)"
   ]
  },
  {
   "cell_type": "code",
   "execution_count": 6,
   "id": "37f7eecb-5e60-46ed-b1b9-8e819e6f03c7",
   "metadata": {},
   "outputs": [
    {
     "data": {
      "text/plain": [
       "(2160, 12)"
      ]
     },
     "execution_count": 6,
     "metadata": {},
     "output_type": "execute_result"
    }
   ],
   "source": [
    "df.shape"
   ]
  },
  {
   "cell_type": "code",
   "execution_count": 21,
   "id": "c086121c-f6d3-4c0b-85aa-8dd7378f6b25",
   "metadata": {},
   "outputs": [
    {
     "name": "stdout",
     "output_type": "stream",
     "text": [
      "List of unique laptop brands: ['Asus' 'Alurin' 'MSI' 'HP' 'Lenovo' 'Medion' 'Acer' 'Apple' 'Razer'\n",
      " 'Gigabyte' 'Dell' 'LG' 'Samsung' 'PcCom' 'Microsoft' 'Primux' 'Prixton'\n",
      " 'Dynabook Toshiba' 'Thomson' 'Denver' 'Deep Gaming' 'Vant' 'Innjoo'\n",
      " 'Jetwing' 'Millenium' 'Realme' 'Toshiba']\n"
     ]
    }
   ],
   "source": [
    "unique_brands = df.iloc[:, 2].unique()\n",
    "print(\"List of unique laptop brands:\", unique_brands)"
   ]
  },
  {
   "cell_type": "code",
   "execution_count": 9,
   "id": "d45a2fa0-a5fa-4798-9e9f-2c305450790c",
   "metadata": {},
   "outputs": [
    {
     "name": "stdout",
     "output_type": "stream",
     "text": [
      "Total of unique laptop brands: 27\n"
     ]
    }
   ],
   "source": [
    "\n",
    "uni_brand_tot = df.loc[:, 'Brand'].nunique()  # Get the count of unique brands\n",
    "print(\"Total of unique laptop brands:\", uni_brand_tot)"
   ]
  },
  {
   "cell_type": "code",
   "execution_count": 10,
   "id": "546b5970-9acf-415f-b96c-ea0a20a00ae9",
   "metadata": {},
   "outputs": [
    {
     "name": "stdout",
     "output_type": "stream",
     "text": [
      "Missing values in column:\n",
      " Laptop             0\n",
      "Status             0\n",
      "Brand              0\n",
      "Model              0\n",
      "CPU                0\n",
      "RAM                0\n",
      "Storage            0\n",
      "Storage type      42\n",
      "GPU             1371\n",
      "Screen             4\n",
      "Touch              0\n",
      "Final Price        0\n",
      "dtype: int64\n"
     ]
    }
   ],
   "source": [
    "\n",
    "missing_values = df.isnull().sum()\n",
    "print(\"Missing values in column:\\n\", missing_values)"
   ]
  },
  {
   "cell_type": "code",
   "execution_count": 12,
   "id": "cbbc7492-7c71-43e2-a6ca-7ddc0db1e187",
   "metadata": {},
   "outputs": [
    {
     "name": "stdout",
     "output_type": "stream",
     "text": [
      "Total columns  missing values: 3\n"
     ]
    }
   ],
   "source": [
    "\n",
    "col_missing_values = df.isnull().sum() > 0\n",
    "num_col_missing_values = col_missing_values.sum()\n",
    "\n",
    "print(\"Total columns  missing values:\", num_col_missing_values)\n"
   ]
  },
  {
   "cell_type": "code",
   "execution_count": 14,
   "id": "e112d0bd-3dcc-4736-91c1-dcac0d7985b3",
   "metadata": {},
   "outputs": [
    {
     "name": "stdout",
     "output_type": "stream",
     "text": [
      "7150.47\n"
     ]
    }
   ],
   "source": [
    "high_price = df['Final Price'].max()\n",
    "print(high_price)"
   ]
  },
  {
   "cell_type": "code",
   "execution_count": 15,
   "id": "72cd8267-5e08-4cc1-951b-8bbc53c3eb95",
   "metadata": {},
   "outputs": [
    {
     "name": "stdout",
     "output_type": "stream",
     "text": [
      "High final price of Dell: 3936.0\n"
     ]
    }
   ],
   "source": [
    "\n",
    "dell_note = df.loc[df['Brand'] == 'Dell']\n",
    "\n",
    "high_final_price = dell_note['Final Price'].max()\n",
    "\n",
    "print(\"High final price of Dell:\", high_final_price)"
   ]
  },
  {
   "cell_type": "code",
   "execution_count": 16,
   "id": "3883856f-2fe7-4d0a-99f3-869ba74e9a32",
   "metadata": {},
   "outputs": [
    {
     "data": {
      "text/plain": [
       "3936.0"
      ]
     },
     "execution_count": 16,
     "metadata": {},
     "output_type": "execute_result"
    }
   ],
   "source": [
    "high_final_price = df.loc[df['Brand'] == 'Dell', 'Final Price'].max()\n",
    "high_final_price"
   ]
  },
  {
   "cell_type": "code",
   "execution_count": 19,
   "id": "97e099c0-40ca-4cff-bf20-b7fb5374d160",
   "metadata": {},
   "outputs": [
    {
     "name": "stdout",
     "output_type": "stream",
     "text": [
      "Median Screen value: 15.6\n",
      "Most frequent Screen value: 15.6\n",
      "Median Screen value after filling missing values: 15.6\n"
     ]
    }
   ],
   "source": [
    "\n",
    "init_median = df['Screen'].median()\n",
    "print(\"Median Screen value:\", init_median)\n",
    "\n",
    "frequent_value = df['Screen'].mode()[0]\n",
    "print(\"Most frequent Screen value:\", frequent_value)\n",
    "\n",
    "df.fillna({'Screen':frequent_value}, inplace=True)\n",
    "new_med = df['Screen'].median()\n",
    "print(\"Median Screen value after filling missing values:\", new_med)"
   ]
  },
  {
   "cell_type": "code",
   "execution_count": 21,
   "id": "0e95e3c8-a856-4c28-972c-e91e19f9c6dd",
   "metadata": {},
   "outputs": [
    {
     "name": "stdout",
     "output_type": "stream",
     "text": [
      "                                                 Laptop Status   Brand Model  \\\n",
      "1478  InnJoo Voom Excellence Intel Celeron N4020/8GB...    New  Innjoo  Voom   \n",
      "1479  InnJoo Voom Excellence Pro Intel Celeron N4020...    New  Innjoo  Voom   \n",
      "1480  Innjoo Voom Intel Celeron N3350/4GB/64GB eMMC/...    New  Innjoo  Voom   \n",
      "1481  Innjoo Voom Laptop Max Intel Celeron N3350/6GB...    New  Innjoo  Voom   \n",
      "1482  Innjoo Voom Laptop Pro Intel Celeron N3350/6GB...    New  Innjoo  Voom   \n",
      "1483  Innjoo Voom Pro Intel Celeron N3350/6GB/128GB ...    New  Innjoo  Voom   \n",
      "\n",
      "                CPU  RAM  Storage Storage type  GPU  Screen Touch  Final Price  \n",
      "1478  Intel Celeron    8      256          SSD  NaN    15.6    No       311.37  \n",
      "1479  Intel Celeron    8      512          SSD  NaN    15.6    No       392.55  \n",
      "1480  Intel Celeron    4       64         eMMC  NaN    14.1    No       251.40  \n",
      "1481  Intel Celeron    6       64         eMMC  NaN    14.1    No       383.61  \n",
      "1482  Intel Celeron    6      128          SSD  NaN    14.1    No       317.02  \n",
      "1483  Intel Celeron    6      128         eMMC  NaN    14.1    No       431.38  \n",
      "[[  8.  256.   15.6]\n",
      " [  8.  512.   15.6]\n",
      " [  4.   64.   14.1]\n",
      " [  6.   64.   14.1]\n",
      " [  6.  128.   14.1]\n",
      " [  6.  128.   14.1]]\n",
      "[[2.52000e+02 8.32000e+03 5.59800e+02]\n",
      " [8.32000e+03 3.68640e+05 1.73952e+04]\n",
      " [5.59800e+02 1.73952e+04 1.28196e+03]]\n",
      "[[ 2.78025381e-01 -1.51791334e-03 -1.00809855e-01]\n",
      " [-1.51791334e-03  1.58286725e-05  4.48052175e-04]\n",
      " [-1.00809855e-01  4.48052175e-04  3.87214888e-02]]\n",
      "[1100 1300  800  900 1000 1100]\n",
      "[45.58076606  0.42783519 45.29127938]\n",
      "91.3\n"
     ]
    }
   ],
   "source": [
    "\n",
    "i_b = df.loc[df['Brand'] == \"Innjoo\"]\n",
    "print(i_b)\n",
    "\n",
    "col = i_b[['RAM', 'Storage', 'Screen']]\n",
    "\n",
    "X = col.values\n",
    "print(X)\n",
    "\n",
    "XTX = X.T @ X\n",
    "print(XTX)\n",
    "\n",
    "import numpy as np\n",
    "XTX_inv = np.linalg.inv(XTX)\n",
    "print(XTX_inv)\n",
    "\n",
    "y = np.array([1100, 1300, 800, 900, 1000, 1100])\n",
    "print(y)\n",
    "z = XTX_inv @ X.T @ y\n",
    "print(z)\n",
    "sum_z = np.sum(z)\n",
    "sum_z = np.round(sum_z,2)\n",
    "print(sum_z)\n"
   ]
  },
  {
   "cell_type": "code",
   "execution_count": null,
   "id": "c54340e6-70df-4b06-81c2-1de01cdcd10c",
   "metadata": {},
   "outputs": [],
   "source": []
  }
 ],
 "metadata": {
  "kernelspec": {
   "display_name": "Python 3 (ipykernel)",
   "language": "python",
   "name": "python3"
  },
  "language_info": {
   "codemirror_mode": {
    "name": "ipython",
    "version": 3
   },
   "file_extension": ".py",
   "mimetype": "text/x-python",
   "name": "python",
   "nbconvert_exporter": "python",
   "pygments_lexer": "ipython3",
   "version": "3.11.7"
  }
 },
 "nbformat": 4,
 "nbformat_minor": 5
}
