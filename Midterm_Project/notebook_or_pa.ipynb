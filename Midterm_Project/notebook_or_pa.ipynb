{
 "cells": [
  {
   "cell_type": "code",
   "execution_count": 1,
   "id": "be9f521f-77fb-4fe1-aefa-fe9ccd4498f6",
   "metadata": {},
   "outputs": [],
   "source": [
    "import pandas as pd\n",
    "import yfinance as yf\n",
    "import numpy as np\n",
    "import matplotlib.pyplot as plt\n",
    "import seaborn as sns\n",
    "from sklearn.preprocessing import StandardScaler\n",
    "from sklearn.linear_model import LogisticRegression\n",
    "from sklearn.ensemble import RandomForestClassifier\n",
    "from xgboost import XGBClassifier\n",
    "from sklearn.metrics import accuracy_score, classification_report, confusion_matrix, roc_auc_score, roc_curve\n",
    "import pickle"
   ]
  },
  {
   "cell_type": "code",
   "execution_count": 3,
   "id": "81a6d643-2ae0-4e27-9c75-c8500105ea84",
   "metadata": {},
   "outputs": [],
   "source": [
    "# 1. Download historical stock data\n",
    "ticker = 'OR.PA'  # L'Oréal ticker on the Paris Stock Exchange\n",
    "data = yf.download(ticker, start='2020-01-01', progress=False)\n",
    "data.to_csv('loreal_historical_data.csv')  # Save data to a CSV file"
   ]
  },
  {
   "cell_type": "code",
   "execution_count": 5,
   "id": "2104a083-7509-457d-b48e-9fe9055e08c9",
   "metadata": {},
   "outputs": [],
   "source": [
    "# Reload data with date processing\n",
    "data = pd.read_csv('loreal_historical_data.csv', parse_dates=['Date'], index_col='Date')\n"
   ]
  },
  {
   "cell_type": "code",
   "execution_count": 39,
   "id": "a6870bdc-ba7d-4ed7-a314-462b7fbe56ea",
   "metadata": {},
   "outputs": [
    {
     "data": {
      "text/html": [
       "<div>\n",
       "<style scoped>\n",
       "    .dataframe tbody tr th:only-of-type {\n",
       "        vertical-align: middle;\n",
       "    }\n",
       "\n",
       "    .dataframe tbody tr th {\n",
       "        vertical-align: top;\n",
       "    }\n",
       "\n",
       "    .dataframe thead th {\n",
       "        text-align: right;\n",
       "    }\n",
       "</style>\n",
       "<table border=\"1\" class=\"dataframe\">\n",
       "  <thead>\n",
       "    <tr style=\"text-align: right;\">\n",
       "      <th></th>\n",
       "      <th>Open</th>\n",
       "      <th>High</th>\n",
       "      <th>Low</th>\n",
       "      <th>Close</th>\n",
       "      <th>Adj Close</th>\n",
       "      <th>Volume</th>\n",
       "      <th>MA5</th>\n",
       "      <th>MA10</th>\n",
       "      <th>MA30</th>\n",
       "      <th>Log Return</th>\n",
       "      <th>Volatility</th>\n",
       "      <th>RSI</th>\n",
       "      <th>Target</th>\n",
       "    </tr>\n",
       "    <tr>\n",
       "      <th>Date</th>\n",
       "      <th></th>\n",
       "      <th></th>\n",
       "      <th></th>\n",
       "      <th></th>\n",
       "      <th></th>\n",
       "      <th></th>\n",
       "      <th></th>\n",
       "      <th></th>\n",
       "      <th></th>\n",
       "      <th></th>\n",
       "      <th></th>\n",
       "      <th></th>\n",
       "      <th></th>\n",
       "    </tr>\n",
       "  </thead>\n",
       "  <tbody>\n",
       "    <tr>\n",
       "      <th>2020-01-02</th>\n",
       "      <td>264.200012</td>\n",
       "      <td>266.700012</td>\n",
       "      <td>263.200012</td>\n",
       "      <td>264.200012</td>\n",
       "      <td>243.288681</td>\n",
       "      <td>351300</td>\n",
       "      <td>0.000000</td>\n",
       "      <td>0.0</td>\n",
       "      <td>0.0</td>\n",
       "      <td>0.000000</td>\n",
       "      <td>0.0</td>\n",
       "      <td>0.0</td>\n",
       "      <td>0</td>\n",
       "    </tr>\n",
       "    <tr>\n",
       "      <th>2020-01-03</th>\n",
       "      <td>260.899994</td>\n",
       "      <td>263.899994</td>\n",
       "      <td>260.600006</td>\n",
       "      <td>263.899994</td>\n",
       "      <td>243.012436</td>\n",
       "      <td>292884</td>\n",
       "      <td>0.000000</td>\n",
       "      <td>0.0</td>\n",
       "      <td>0.0</td>\n",
       "      <td>-0.001136</td>\n",
       "      <td>0.0</td>\n",
       "      <td>0.0</td>\n",
       "      <td>0</td>\n",
       "    </tr>\n",
       "    <tr>\n",
       "      <th>2020-01-06</th>\n",
       "      <td>261.299988</td>\n",
       "      <td>263.100006</td>\n",
       "      <td>258.799988</td>\n",
       "      <td>263.000000</td>\n",
       "      <td>242.183685</td>\n",
       "      <td>367820</td>\n",
       "      <td>0.000000</td>\n",
       "      <td>0.0</td>\n",
       "      <td>0.0</td>\n",
       "      <td>-0.003416</td>\n",
       "      <td>0.0</td>\n",
       "      <td>0.0</td>\n",
       "      <td>0</td>\n",
       "    </tr>\n",
       "    <tr>\n",
       "      <th>2020-01-07</th>\n",
       "      <td>264.000000</td>\n",
       "      <td>264.399994</td>\n",
       "      <td>258.899994</td>\n",
       "      <td>259.600006</td>\n",
       "      <td>239.052780</td>\n",
       "      <td>508141</td>\n",
       "      <td>0.000000</td>\n",
       "      <td>0.0</td>\n",
       "      <td>0.0</td>\n",
       "      <td>-0.013012</td>\n",
       "      <td>0.0</td>\n",
       "      <td>0.0</td>\n",
       "      <td>1</td>\n",
       "    </tr>\n",
       "    <tr>\n",
       "      <th>2020-01-08</th>\n",
       "      <td>260.100006</td>\n",
       "      <td>261.200012</td>\n",
       "      <td>257.799988</td>\n",
       "      <td>261.200012</td>\n",
       "      <td>240.526154</td>\n",
       "      <td>431996</td>\n",
       "      <td>262.380005</td>\n",
       "      <td>0.0</td>\n",
       "      <td>0.0</td>\n",
       "      <td>0.006144</td>\n",
       "      <td>0.0</td>\n",
       "      <td>0.0</td>\n",
       "      <td>1</td>\n",
       "    </tr>\n",
       "  </tbody>\n",
       "</table>\n",
       "</div>"
      ],
      "text/plain": [
       "                  Open        High         Low       Close   Adj Close  \\\n",
       "Date                                                                     \n",
       "2020-01-02  264.200012  266.700012  263.200012  264.200012  243.288681   \n",
       "2020-01-03  260.899994  263.899994  260.600006  263.899994  243.012436   \n",
       "2020-01-06  261.299988  263.100006  258.799988  263.000000  242.183685   \n",
       "2020-01-07  264.000000  264.399994  258.899994  259.600006  239.052780   \n",
       "2020-01-08  260.100006  261.200012  257.799988  261.200012  240.526154   \n",
       "\n",
       "            Volume         MA5  MA10  MA30  Log Return  Volatility  RSI  \\\n",
       "Date                                                                      \n",
       "2020-01-02  351300    0.000000   0.0   0.0    0.000000         0.0  0.0   \n",
       "2020-01-03  292884    0.000000   0.0   0.0   -0.001136         0.0  0.0   \n",
       "2020-01-06  367820    0.000000   0.0   0.0   -0.003416         0.0  0.0   \n",
       "2020-01-07  508141    0.000000   0.0   0.0   -0.013012         0.0  0.0   \n",
       "2020-01-08  431996  262.380005   0.0   0.0    0.006144         0.0  0.0   \n",
       "\n",
       "            Target  \n",
       "Date                \n",
       "2020-01-02       0  \n",
       "2020-01-03       0  \n",
       "2020-01-06       0  \n",
       "2020-01-07       1  \n",
       "2020-01-08       1  "
      ]
     },
     "execution_count": 39,
     "metadata": {},
     "output_type": "execute_result"
    }
   ],
   "source": [
    "data.head()"
   ]
  },
  {
   "cell_type": "code",
   "execution_count": 43,
   "id": "a34840cd-19f5-4a3d-aaa2-3ac51416d11c",
   "metadata": {},
   "outputs": [
    {
     "name": "stdout",
     "output_type": "stream",
     "text": [
      "\n",
      "Missing values:\n"
     ]
    },
    {
     "data": {
      "text/plain": [
       "Open          0\n",
       "High          0\n",
       "Low           0\n",
       "Close         0\n",
       "Adj Close     0\n",
       "Volume        0\n",
       "MA5           0\n",
       "MA10          0\n",
       "MA30          0\n",
       "Log Return    0\n",
       "Volatility    0\n",
       "RSI           0\n",
       "Target        0\n",
       "dtype: int64"
      ]
     },
     "execution_count": 43,
     "metadata": {},
     "output_type": "execute_result"
    }
   ],
   "source": [
    "# Check for missing values\n",
    "print(\"\\nMissing values:\")\n",
    "data.isnull().sum()"
   ]
  },
  {
   "cell_type": "code",
   "execution_count": 45,
   "id": "32eced52-a9ff-423b-9939-d474f284db3e",
   "metadata": {},
   "outputs": [],
   "source": [
    "# 2. Compute technical indicators\n",
    "data['MA5'] = data['Close'].rolling(window=5).mean()\n",
    "data['MA10'] = data['Close'].rolling(window=10).mean()\n",
    "data['MA30'] = data['Close'].rolling(window=30).mean()\n",
    "data['Log Return'] = np.log(data['Close'] / data['Close'].shift(1))\n",
    "data['Volatility'] = data['Log Return'].rolling(window=30).std() * np.sqrt(30)"
   ]
  },
  {
   "cell_type": "code",
   "execution_count": 11,
   "id": "d23e1bc4-8f38-48ef-bb93-ee0472ea0775",
   "metadata": {},
   "outputs": [],
   "source": [
    "# RSI calculation\n",
    "delta = data['Close'].diff()\n",
    "gain = delta.where(delta > 0, 0).rolling(window=14).mean()\n",
    "loss = -delta.where(delta < 0, 0).rolling(window=14).mean()\n",
    "rs = gain / loss\n",
    "data['RSI'] = 100 - (100 / (1 + rs))"
   ]
  },
  {
   "cell_type": "code",
   "execution_count": 13,
   "id": "1239b696-10bd-4df1-9a91-6487271f91f8",
   "metadata": {},
   "outputs": [],
   "source": [
    "# Fill missing values\n",
    "data = data.fillna(0)"
   ]
  },
  {
   "cell_type": "code",
   "execution_count": 15,
   "id": "c5b1c290-3646-4a7c-af25-61fd7ac03fb0",
   "metadata": {},
   "outputs": [],
   "source": [
    "# 3. Prepare the dataset\n",
    "data['Target'] = (data['Close'].shift(-1) > data['Close']).astype(int)  # Create target variable\n"
   ]
  },
  {
   "cell_type": "code",
   "execution_count": 17,
   "id": "a0c9204a-a49a-4b5b-a62f-b34367e11e51",
   "metadata": {},
   "outputs": [],
   "source": [
    "# Select features\n",
    "features = ['MA5', 'MA10', 'MA30', 'Volatility', 'RSI']\n",
    "X = data[features]\n",
    "y = data['Target']"
   ]
  },
  {
   "cell_type": "code",
   "execution_count": 19,
   "id": "9ced4c95-1150-4efc-8b1c-b86eed199ae9",
   "metadata": {},
   "outputs": [],
   "source": [
    "# Split the dataset\n",
    "train_size = 0.6\n",
    "validation_size = 0.2"
   ]
  },
  {
   "cell_type": "code",
   "execution_count": 21,
   "id": "8f1279e8-4f58-4604-9be0-6517536ec90f",
   "metadata": {},
   "outputs": [],
   "source": [
    "train_end = int(len(data) * train_size)\n",
    "validation_end = int(len(data) * (train_size + validation_size))\n",
    "\n",
    "X_train = X[:train_end]\n",
    "y_train = y[:train_end]\n",
    "X_validation = X[train_end:validation_end]\n",
    "y_validation = y[train_end:validation_end]\n",
    "X_test = X[validation_end:]\n",
    "y_test = y[validation_end:]"
   ]
  },
  {
   "cell_type": "code",
   "execution_count": 23,
   "id": "1d6cfac1-580c-44e3-93d7-fbf0b7b0c542",
   "metadata": {},
   "outputs": [],
   "source": [
    "# Standardize data only for models that require it\n",
    "scaler = StandardScaler()\n",
    "X_train_scaled = scaler.fit_transform(X_train)\n",
    "X_validation_scaled = scaler.transform(X_validation)\n",
    "X_test_scaled = scaler.transform(X_test)"
   ]
  },
  {
   "cell_type": "code",
   "execution_count": 25,
   "id": "37db091d-1602-4c26-95fc-82886037a74c",
   "metadata": {},
   "outputs": [],
   "source": [
    "# 4. Train and evaluate models\n",
    "def evaluate_model(model, X_train, y_train, X_validation, y_validation, X_test, y_test, scale=False):\n",
    "    # Apply scaling if needed\n",
    "    if scale:\n",
    "        X_train, X_validation, X_test = X_train_scaled, X_validation_scaled, X_test_scaled\n",
    "    \n",
    "    # Train the model\n",
    "    model.fit(X_train, y_train)\n",
    "    \n",
    "    # Predictions\n",
    "    y_pred_validation = model.predict(X_validation)\n",
    "    y_pred_test = model.predict(X_test)\n",
    "    \n",
    "    # Evaluation\n",
    "    validation_accuracy = accuracy_score(y_validation, y_pred_validation)\n",
    "    test_accuracy = accuracy_score(y_test, y_pred_test)\n",
    "    validation_roc_auc = roc_auc_score(y_validation, model.predict_proba(X_validation)[:, 1]) if hasattr(model, \"predict_proba\") else None\n",
    "    test_roc_auc = roc_auc_score(y_test, model.predict_proba(X_test)[:, 1]) if hasattr(model, \"predict_proba\") else None\n",
    "    \n",
    "    # Summary\n",
    "    print(f\"Validation Accuracy: {validation_accuracy:.2f}, Test Accuracy: {test_accuracy:.2f}\")\n",
    "    if validation_roc_auc and test_roc_auc:\n",
    "        print(f\"Validation ROC-AUC: {validation_roc_auc:.2f}, Test ROC-AUC: {test_roc_auc:.2f}\")\n",
    "    \n",
    "    print(\"Classification Report (Validation):\")\n",
    "    print(classification_report(y_validation, y_pred_validation))\n",
    "    print(\"Confusion Matrix (Validation):\")\n",
    "    print(confusion_matrix(y_validation, y_pred_validation))\n",
    "    \n",
    "    # Save the trained model with pickle\n",
    "    model_name = model.__class__.__name__\n",
    "    with open(f'{model_name}_model.pkl', 'wb') as f:\n",
    "        pickle.dump(model, f)\n",
    "    \n",
    "    print(f\"Model {model_name} saved successfully!\")\n",
    "    return validation_accuracy, test_accuracy, validation_roc_auc, test_roc_auc"
   ]
  },
  {
   "cell_type": "code",
   "execution_count": 27,
   "id": "f980662c-37bb-44ab-9518-c946e62c04a7",
   "metadata": {},
   "outputs": [
    {
     "name": "stdout",
     "output_type": "stream",
     "text": [
      "\n",
      "Logistic Regression:\n",
      "Validation Accuracy: 0.50, Test Accuracy: 0.48\n",
      "Validation ROC-AUC: 0.41, Test ROC-AUC: 0.51\n",
      "Classification Report (Validation):\n",
      "              precision    recall  f1-score   support\n",
      "\n",
      "           0       0.00      0.00      0.00       126\n",
      "           1       0.50      1.00      0.67       126\n",
      "\n",
      "    accuracy                           0.50       252\n",
      "   macro avg       0.25      0.50      0.33       252\n",
      "weighted avg       0.25      0.50      0.33       252\n",
      "\n",
      "Confusion Matrix (Validation):\n",
      "[[  0 126]\n",
      " [  0 126]]\n",
      "Model LogisticRegression saved successfully!\n"
     ]
    },
    {
     "name": "stderr",
     "output_type": "stream",
     "text": [
      "C:\\Users\\Admin-IT\\anaconda3\\Lib\\site-packages\\sklearn\\metrics\\_classification.py:1531: UndefinedMetricWarning: Precision is ill-defined and being set to 0.0 in labels with no predicted samples. Use `zero_division` parameter to control this behavior.\n",
      "  _warn_prf(average, modifier, f\"{metric.capitalize()} is\", len(result))\n",
      "C:\\Users\\Admin-IT\\anaconda3\\Lib\\site-packages\\sklearn\\metrics\\_classification.py:1531: UndefinedMetricWarning: Precision is ill-defined and being set to 0.0 in labels with no predicted samples. Use `zero_division` parameter to control this behavior.\n",
      "  _warn_prf(average, modifier, f\"{metric.capitalize()} is\", len(result))\n",
      "C:\\Users\\Admin-IT\\anaconda3\\Lib\\site-packages\\sklearn\\metrics\\_classification.py:1531: UndefinedMetricWarning: Precision is ill-defined and being set to 0.0 in labels with no predicted samples. Use `zero_division` parameter to control this behavior.\n",
      "  _warn_prf(average, modifier, f\"{metric.capitalize()} is\", len(result))\n"
     ]
    },
    {
     "data": {
      "text/plain": [
       "(0.5, 0.47619047619047616, 0.41156462585034015, 0.5083964646464647)"
      ]
     },
     "execution_count": 27,
     "metadata": {},
     "output_type": "execute_result"
    }
   ],
   "source": [
    "# Logistic Regression\n",
    "print(\"\\nLogistic Regression:\")\n",
    "logistic_model = LogisticRegression()\n",
    "evaluate_model(logistic_model, X_train, y_train, X_validation, y_validation, X_test, y_test, scale=True)\n"
   ]
  },
  {
   "cell_type": "code",
   "execution_count": 29,
   "id": "cfbb6656-83ac-46de-9d29-8f00e8f7f225",
   "metadata": {},
   "outputs": [
    {
     "name": "stdout",
     "output_type": "stream",
     "text": [
      "\n",
      "Random Forest:\n",
      "Validation Accuracy: 0.54, Test Accuracy: 0.54\n",
      "Validation ROC-AUC: 0.54, Test ROC-AUC: 0.50\n",
      "Classification Report (Validation):\n",
      "              precision    recall  f1-score   support\n",
      "\n",
      "           0       0.55      0.51      0.53       126\n",
      "           1       0.54      0.58      0.56       126\n",
      "\n",
      "    accuracy                           0.54       252\n",
      "   macro avg       0.54      0.54      0.54       252\n",
      "weighted avg       0.54      0.54      0.54       252\n",
      "\n",
      "Confusion Matrix (Validation):\n",
      "[[64 62]\n",
      " [53 73]]\n",
      "Model RandomForestClassifier saved successfully!\n"
     ]
    },
    {
     "data": {
      "text/plain": [
       "(0.5436507936507936,\n",
       " 0.5357142857142857,\n",
       " 0.5370055429579239,\n",
       " 0.49687499999999996)"
      ]
     },
     "execution_count": 29,
     "metadata": {},
     "output_type": "execute_result"
    }
   ],
   "source": [
    "# Random Forest\n",
    "print(\"\\nRandom Forest:\")\n",
    "rf_model = RandomForestClassifier(n_estimators=100, random_state=42)\n",
    "evaluate_model(rf_model, X_train, y_train, X_validation, y_validation, X_test, y_test)\n"
   ]
  },
  {
   "cell_type": "code",
   "execution_count": 31,
   "id": "f7cabcf5-54a4-4eda-b849-84c5e5b55fd5",
   "metadata": {},
   "outputs": [
    {
     "name": "stdout",
     "output_type": "stream",
     "text": [
      "\n",
      "XGBoost:\n",
      "Validation Accuracy: 0.54, Test Accuracy: 0.52\n",
      "Validation ROC-AUC: 0.55, Test ROC-AUC: 0.52\n",
      "Classification Report (Validation):\n",
      "              precision    recall  f1-score   support\n",
      "\n",
      "           0       0.53      0.56      0.54       126\n",
      "           1       0.54      0.52      0.53       126\n",
      "\n",
      "    accuracy                           0.54       252\n",
      "   macro avg       0.54      0.54      0.54       252\n",
      "weighted avg       0.54      0.54      0.54       252\n",
      "\n",
      "Confusion Matrix (Validation):\n",
      "[[70 56]\n",
      " [61 65]]\n",
      "Model XGBClassifier saved successfully!\n"
     ]
    },
    {
     "name": "stderr",
     "output_type": "stream",
     "text": [
      "C:\\Users\\Admin-IT\\anaconda3\\Lib\\site-packages\\xgboost\\core.py:158: UserWarning: [12:21:55] WARNING: C:\\buildkite-agent\\builds\\buildkite-windows-cpu-autoscaling-group-i-0ed59c031377d09b8-1\\xgboost\\xgboost-ci-windows\\src\\learner.cc:740: \n",
      "Parameters: { \"use_label_encoder\" } are not used.\n",
      "\n",
      "  warnings.warn(smsg, UserWarning)\n"
     ]
    },
    {
     "data": {
      "text/plain": [
       "(0.5357142857142857,\n",
       " 0.5198412698412699,\n",
       " 0.5471466364323507,\n",
       " 0.5162247474747474)"
      ]
     },
     "execution_count": 31,
     "metadata": {},
     "output_type": "execute_result"
    }
   ],
   "source": [
    "# XGBoost\n",
    "print(\"\\nXGBoost:\")\n",
    "xgb_model = XGBClassifier(n_estimators=100, random_state=42, use_label_encoder=False)\n",
    "evaluate_model(xgb_model, X_train, y_train, X_validation, y_validation, X_test, y_test)\n"
   ]
  },
  {
   "cell_type": "code",
   "execution_count": 33,
   "id": "3b4d7847-ded5-487f-a857-341102ff6cb0",
   "metadata": {},
   "outputs": [
    {
     "name": "stderr",
     "output_type": "stream",
     "text": [
      "C:\\Users\\Admin-IT\\anaconda3\\Lib\\site-packages\\sklearn\\base.py:493: UserWarning: X does not have valid feature names, but RandomForestClassifier was fitted with feature names\n",
      "  warnings.warn(\n",
      "C:\\Users\\Admin-IT\\anaconda3\\Lib\\site-packages\\sklearn\\base.py:493: UserWarning: X does not have valid feature names, but RandomForestClassifier was fitted with feature names\n",
      "  warnings.warn(\n"
     ]
    },
    {
     "data": {
      "image/png": "[encoded data removed]",
      "text/plain": [
       "<Figure size 1200x600 with 1 Axes>"
      ]
     },
     "metadata": {},
     "output_type": "display_data"
    }
   ],
   "source": [
    "# 5. Compare models using ROC curves\n",
    "def plot_roc_curves(models, names, X_validation, y_validation, X_test, y_test):\n",
    "    plt.figure(figsize=(12, 6))\n",
    "    for model, name in zip(models, names):\n",
    "        fpr, tpr, _ = roc_curve(y_test, model.predict_proba(X_test_scaled)[:, 1])\n",
    "        plt.plot(fpr, tpr, label=f\"{name} (AUC={roc_auc_score(y_test, model.predict_proba(X_test_scaled)[:, 1]):.2f})\")\n",
    "    plt.plot([0, 1], [0, 1], 'k--', label=\"Random Guess\")\n",
    "    plt.title(\"ROC Curves\")\n",
    "    plt.xlabel(\"False Positive Rate\")\n",
    "    plt.ylabel(\"True Positive Rate\")\n",
    "    plt.legend()\n",
    "    plt.grid()\n",
    "    plt.show()\n",
    "\n",
    "# Plot ROC curves for all models\n",
    "plot_roc_curves(\n",
    "    [logistic_model, rf_model, xgb_model],\n",
    "    [\"Logistic Regression\", \"Random Forest\", \"XGBoost\"],\n",
    "    X_validation_scaled, y_validation, X_test_scaled, y_test\n",
    ")\n"
   ]
  },
  {
   "cell_type": "code",
   "execution_count": 35,
   "id": "acaa234c-f0ee-480c-af7a-67b2c4f6af4d",
   "metadata": {},
   "outputs": [],
   "source": [
    "# 6. Load a model and use it for prediction\n",
    "# Load the logistic regression model for example\n",
    "with open('LogisticRegression_model.pkl', 'rb') as f:\n",
    "    loaded_logistic_model = pickle.load(f)\n",
    "\n",
    "\n"
   ]
  },
  {
   "cell_type": "code",
   "execution_count": 37,
   "id": "b8fe7633-e5e9-455b-bcd8-61ae47e42fb4",
   "metadata": {},
   "outputs": [
    {
     "name": "stdout",
     "output_type": "stream",
     "text": [
      "\n",
      "Predictions with Loaded Model:\n",
      "[1 1 1 1 1 1 1 1 1 1]\n"
     ]
    }
   ],
   "source": [
    "# Make predictions with the loaded model\n",
    "y_pred_loaded_model = loaded_logistic_model.predict(X_test_scaled)\n",
    "print(\"\\nPredictions with Loaded Model:\")\n",
    "print(y_pred_loaded_model[:10])  # Print the first 10 predictions"
   ]
  },
  {
   "cell_type": "code",
   "execution_count": null,
   "id": "3bb8bef4-6821-40b2-82e1-ee5f50d0da17",
   "metadata": {},
   "outputs": [],
   "source": []
  }
 ],
 "metadata": {
  "kernelspec": {
   "display_name": "Python 3 (ipykernel)",
   "language": "python",
   "name": "python3"
  },
  "language_info": {
   "codemirror_mode": {
    "name": "ipython",
    "version": 3
   },
   "file_extension": ".py",
   "mimetype": "text/x-python",
   "name": "python",
   "nbconvert_exporter": "python",
   "pygments_lexer": "ipython3",
   "version": "3.11.7"
  }
 },
 "nbformat": 4,
 "nbformat_minor": 5
}
